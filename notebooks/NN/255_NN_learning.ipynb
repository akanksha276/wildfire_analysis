{
 "cells": [
  {
   "cell_type": "code",
   "execution_count": 108,
   "metadata": {
    "colab": {
     "base_uri": "https://localhost:8080/"
    },
    "id": "4ZNDCB6kuNgF",
    "outputId": "0990843d-7ec7-476b-b9fb-ac01aef5f617"
   },
   "outputs": [],
   "source": [
    "import sqlite3\n",
    "import pandas as pd\n",
    "import matplotlib.pyplot as plt\n",
    "import numpy as np\n",
    "import warnings\n",
    "warnings.filterwarnings('ignore')\n",
    "from sklearn import tree, preprocessing\n",
    "import sklearn.ensemble as ske\n",
    "from sklearn.model_selection import train_test_split\n",
    "import matplotlib.pyplot as plt\n",
    "from sklearn.preprocessing import MinMaxScaler\n",
    "\n",
    "# from google.colab import drive\n",
    "# drive.mount('/content/drive')"
   ]
  },
  {
   "cell_type": "code",
   "execution_count": 109,
   "metadata": {},
   "outputs": [],
   "source": [
    "# trainFile = \"E:/SJSU - Grad/Spring 23/255/Project/data/train_new.csv\"\n",
    "# testFile = \"E:/SJSU - Grad/Spring 23/255/Project/data/test_new.csv\"\n",
    "\n",
    "trainFile = \"E:/SJSU - Grad/Spring 23/255/Project/data/train.csv\"\n",
    "testFile = \"E:/SJSU - Grad/Spring 23/255/Project/data/test.csv\"\n",
    "\n",
    "test_data = pd.read_csv(testFile)\n",
    "train_data = pd.read_csv(trainFile)"
   ]
  },
  {
   "cell_type": "code",
   "execution_count": 4,
   "metadata": {
    "id": "0nUZ4amyuaXA"
   },
   "outputs": [
    {
     "data": {
      "text/plain": [
       "(713605, 30)"
      ]
     },
     "execution_count": 4,
     "metadata": {},
     "output_type": "execute_result"
    }
   ],
   "source": [
    "train_data.shape"
   ]
  },
  {
   "cell_type": "code",
   "execution_count": 5,
   "metadata": {},
   "outputs": [
    {
     "data": {
      "text/plain": [
       "(178402, 30)"
      ]
     },
     "execution_count": 5,
     "metadata": {},
     "output_type": "execute_result"
    }
   ],
   "source": [
    "test_data.shape"
   ]
  },
  {
   "cell_type": "code",
   "execution_count": 110,
   "metadata": {},
   "outputs": [
    {
     "name": "stdout",
     "output_type": "stream",
     "text": [
      "<class 'pandas.core.frame.DataFrame'>\n",
      "RangeIndex: 713605 entries, 0 to 713604\n",
      "Data columns (total 30 columns):\n",
      " #   Column                      Non-Null Count   Dtype  \n",
      "---  ------                      --------------   -----  \n",
      " 0   OBJECTID                    713605 non-null  int64  \n",
      " 1   FOD_ID                      713605 non-null  int64  \n",
      " 2   FPA_ID                      713605 non-null  object \n",
      " 3   SOURCE_SYSTEM_TYPE          713605 non-null  object \n",
      " 4   SOURCE_SYSTEM               713605 non-null  object \n",
      " 5   NWCG_REPORTING_AGENCY       713605 non-null  object \n",
      " 6   NWCG_REPORTING_UNIT_ID      713605 non-null  object \n",
      " 7   NWCG_REPORTING_UNIT_NAME    713605 non-null  object \n",
      " 8   SOURCE_REPORTING_UNIT       713605 non-null  object \n",
      " 9   SOURCE_REPORTING_UNIT_NAME  713605 non-null  object \n",
      " 10  FIRE_NAME                   711357 non-null  object \n",
      " 11  FIRE_YEAR                   713605 non-null  int64  \n",
      " 12  DISCOVERY_DATE              713605 non-null  float64\n",
      " 13  DISCOVERY_DOY               713605 non-null  int64  \n",
      " 14  DISCOVERY_TIME              713605 non-null  int64  \n",
      " 15  STAT_CAUSE_CODE             713605 non-null  float64\n",
      " 16  STAT_CAUSE_DESCR            713605 non-null  object \n",
      " 17  CONT_DATE                   713605 non-null  float64\n",
      " 18  CONT_DOY                    713605 non-null  float64\n",
      " 19  CONT_TIME                   713605 non-null  int64  \n",
      " 20  FIRE_SIZE                   713605 non-null  float64\n",
      " 21  FIRE_SIZE_CLASS             713605 non-null  object \n",
      " 22  LATITUDE                    713605 non-null  float64\n",
      " 23  LONGITUDE                   713605 non-null  float64\n",
      " 24  OWNER_CODE                  713605 non-null  float64\n",
      " 25  OWNER_DESCR                 713605 non-null  object \n",
      " 26  STATE                       713605 non-null  object \n",
      " 27  FIPS_NAME                   713605 non-null  object \n",
      " 28  Shape                       713605 non-null  object \n",
      " 29  FIRE_SIZE_SCALED            713605 non-null  float64\n",
      "dtypes: float64(9), int64(6), object(15)\n",
      "memory usage: 163.3+ MB\n"
     ]
    }
   ],
   "source": [
    "train_data.info()"
   ]
  },
  {
   "cell_type": "code",
   "execution_count": 7,
   "metadata": {
    "colab": {
     "base_uri": "https://localhost:8080/"
    },
    "id": "dv1pikFVwT-t",
    "outputId": "2e8ed901-e83c-4b7c-fd10-18fbfb9d94cd"
   },
   "outputs": [
    {
     "data": {
      "text/plain": [
       "OBJECTID                        int64\n",
       "FOD_ID                          int64\n",
       "FPA_ID                         object\n",
       "SOURCE_SYSTEM_TYPE             object\n",
       "SOURCE_SYSTEM                  object\n",
       "NWCG_REPORTING_AGENCY          object\n",
       "NWCG_REPORTING_UNIT_ID         object\n",
       "NWCG_REPORTING_UNIT_NAME       object\n",
       "SOURCE_REPORTING_UNIT          object\n",
       "SOURCE_REPORTING_UNIT_NAME     object\n",
       "FIRE_NAME                      object\n",
       "FIRE_YEAR                       int64\n",
       "DISCOVERY_DATE                float64\n",
       "DISCOVERY_DOY                   int64\n",
       "DISCOVERY_TIME                  int64\n",
       "STAT_CAUSE_CODE               float64\n",
       "STAT_CAUSE_DESCR               object\n",
       "CONT_DATE                     float64\n",
       "CONT_DOY                      float64\n",
       "CONT_TIME                       int64\n",
       "FIRE_SIZE                     float64\n",
       "FIRE_SIZE_CLASS                object\n",
       "LATITUDE                      float64\n",
       "LONGITUDE                     float64\n",
       "OWNER_CODE                    float64\n",
       "OWNER_DESCR                    object\n",
       "STATE                          object\n",
       "FIPS_NAME                      object\n",
       "Shape                          object\n",
       "FIRE_SIZE_SCALED              float64\n",
       "dtype: object"
      ]
     },
     "execution_count": 7,
     "metadata": {},
     "output_type": "execute_result"
    }
   ],
   "source": [
    "train_data.dtypes"
   ]
  },
  {
   "cell_type": "code",
   "execution_count": 8,
   "metadata": {
    "colab": {
     "base_uri": "https://localhost:8080/",
     "height": 369
    },
    "id": "Xmsj2oJSwe2m",
    "outputId": "e02687ef-c137-45b4-d31d-35bfbed6f1b8"
   },
   "outputs": [
    {
     "data": {
      "text/html": [
       "<div>\n",
       "<style scoped>\n",
       "    .dataframe tbody tr th:only-of-type {\n",
       "        vertical-align: middle;\n",
       "    }\n",
       "\n",
       "    .dataframe tbody tr th {\n",
       "        vertical-align: top;\n",
       "    }\n",
       "\n",
       "    .dataframe thead th {\n",
       "        text-align: right;\n",
       "    }\n",
       "</style>\n",
       "<table border=\"1\" class=\"dataframe\">\n",
       "  <thead>\n",
       "    <tr style=\"text-align: right;\">\n",
       "      <th></th>\n",
       "      <th>OBJECTID</th>\n",
       "      <th>FOD_ID</th>\n",
       "      <th>FPA_ID</th>\n",
       "      <th>SOURCE_SYSTEM_TYPE</th>\n",
       "      <th>SOURCE_SYSTEM</th>\n",
       "      <th>NWCG_REPORTING_AGENCY</th>\n",
       "      <th>NWCG_REPORTING_UNIT_ID</th>\n",
       "      <th>NWCG_REPORTING_UNIT_NAME</th>\n",
       "      <th>SOURCE_REPORTING_UNIT</th>\n",
       "      <th>SOURCE_REPORTING_UNIT_NAME</th>\n",
       "      <th>...</th>\n",
       "      <th>FIRE_SIZE</th>\n",
       "      <th>FIRE_SIZE_CLASS</th>\n",
       "      <th>LATITUDE</th>\n",
       "      <th>LONGITUDE</th>\n",
       "      <th>OWNER_CODE</th>\n",
       "      <th>OWNER_DESCR</th>\n",
       "      <th>STATE</th>\n",
       "      <th>FIPS_NAME</th>\n",
       "      <th>Shape</th>\n",
       "      <th>FIRE_SIZE_SCALED</th>\n",
       "    </tr>\n",
       "  </thead>\n",
       "  <tbody>\n",
       "    <tr>\n",
       "      <th>216947</th>\n",
       "      <td>38424</td>\n",
       "      <td>38615</td>\n",
       "      <td>FS-1480539</td>\n",
       "      <td>FED</td>\n",
       "      <td>FS-FIRESTAT</td>\n",
       "      <td>FS</td>\n",
       "      <td>USCATMU</td>\n",
       "      <td>Lake Tahoe Basin Management Unit</td>\n",
       "      <td>0519</td>\n",
       "      <td>Lake Tahoe Basin Management Unit</td>\n",
       "      <td>...</td>\n",
       "      <td>0.10</td>\n",
       "      <td>A</td>\n",
       "      <td>39.047778</td>\n",
       "      <td>-120.127500</td>\n",
       "      <td>5.0</td>\n",
       "      <td>USFS</td>\n",
       "      <td>CA</td>\n",
       "      <td>Placer</td>\n",
       "      <td>b'\\x00\\x01\\xad\\x10\\x00\\x00X\\x8f\\xc2\\xf5(\\x08^\\...</td>\n",
       "      <td>1.647431e-07</td>\n",
       "    </tr>\n",
       "    <tr>\n",
       "      <th>309878</th>\n",
       "      <td>187592</td>\n",
       "      <td>189978</td>\n",
       "      <td>W-442809</td>\n",
       "      <td>FED</td>\n",
       "      <td>DOI-WFMI</td>\n",
       "      <td>TRIBE</td>\n",
       "      <td>USIDNPT</td>\n",
       "      <td>Nez Perce Tribe</td>\n",
       "      <td>IDNPT</td>\n",
       "      <td>Nez Perce Tribe</td>\n",
       "      <td>...</td>\n",
       "      <td>0.10</td>\n",
       "      <td>A</td>\n",
       "      <td>46.186000</td>\n",
       "      <td>-115.936000</td>\n",
       "      <td>2.0</td>\n",
       "      <td>BIA</td>\n",
       "      <td>ID</td>\n",
       "      <td>Unknown</td>\n",
       "      <td>b'\\x00\\x01\\xad\\x10\\x00\\x00\\x94C\\x8bl\\xe7\\xfb\\\\...</td>\n",
       "      <td>1.647431e-07</td>\n",
       "    </tr>\n",
       "    <tr>\n",
       "      <th>167009</th>\n",
       "      <td>1161970</td>\n",
       "      <td>1413001</td>\n",
       "      <td>ALS-DDV-20050123-006</td>\n",
       "      <td>NONFED</td>\n",
       "      <td>ST-ALALS</td>\n",
       "      <td>ST/C&amp;L</td>\n",
       "      <td>USALALS</td>\n",
       "      <td>Alabama Forestry Commission</td>\n",
       "      <td>ALDDV</td>\n",
       "      <td>AFC Dadeville</td>\n",
       "      <td>...</td>\n",
       "      <td>1.00</td>\n",
       "      <td>B</td>\n",
       "      <td>33.163959</td>\n",
       "      <td>-85.368723</td>\n",
       "      <td>14.0</td>\n",
       "      <td>MISSING/NOT SPECIFIED</td>\n",
       "      <td>AL</td>\n",
       "      <td>Randolph</td>\n",
       "      <td>b'\\x00\\x01\\xad\\x10\\x00\\x00\\x1c\\x92Z(\\x99WU\\xc0...</td>\n",
       "      <td>1.647579e-06</td>\n",
       "    </tr>\n",
       "    <tr>\n",
       "      <th>429892</th>\n",
       "      <td>164799</td>\n",
       "      <td>166428</td>\n",
       "      <td>FS-394866</td>\n",
       "      <td>FED</td>\n",
       "      <td>FS-FIRESTAT</td>\n",
       "      <td>FS</td>\n",
       "      <td>USINHOF</td>\n",
       "      <td>Hoosier National Forest</td>\n",
       "      <td>0912</td>\n",
       "      <td>Hoosier National Forest</td>\n",
       "      <td>...</td>\n",
       "      <td>75.00</td>\n",
       "      <td>C</td>\n",
       "      <td>38.212222</td>\n",
       "      <td>-86.446944</td>\n",
       "      <td>13.0</td>\n",
       "      <td>STATE OR PRIVATE</td>\n",
       "      <td>IN</td>\n",
       "      <td>Unknown</td>\n",
       "      <td>b'\\x00\\x01\\xad\\x10\\x00\\x00t;\\xda\\xbc\\x9a\\x9cU\\...</td>\n",
       "      <td>1.235697e-04</td>\n",
       "    </tr>\n",
       "    <tr>\n",
       "      <th>471336</th>\n",
       "      <td>1393171</td>\n",
       "      <td>19089028</td>\n",
       "      <td>SFO-GA-LIB-85-3/12/1997-1335</td>\n",
       "      <td>NONFED</td>\n",
       "      <td>ST-GAGAS</td>\n",
       "      <td>ST/C&amp;L</td>\n",
       "      <td>USGAGAS</td>\n",
       "      <td>Georgia Forestry Commission</td>\n",
       "      <td>GAGAS</td>\n",
       "      <td>Georgia Forestry Commission</td>\n",
       "      <td>...</td>\n",
       "      <td>1.24</td>\n",
       "      <td>B</td>\n",
       "      <td>31.806400</td>\n",
       "      <td>-81.351300</td>\n",
       "      <td>8.0</td>\n",
       "      <td>PRIVATE</td>\n",
       "      <td>GA</td>\n",
       "      <td>Liberty</td>\n",
       "      <td>b'\\x00\\x01\\xad\\x10\\x00\\x00l\\xc5\\xfe\\xb2{VT\\xc0...</td>\n",
       "      <td>2.043002e-06</td>\n",
       "    </tr>\n",
       "  </tbody>\n",
       "</table>\n",
       "<p>5 rows × 30 columns</p>\n",
       "</div>"
      ],
      "text/plain": [
       "        OBJECTID    FOD_ID                        FPA_ID SOURCE_SYSTEM_TYPE  \\\n",
       "216947     38424     38615                    FS-1480539                FED   \n",
       "309878    187592    189978                      W-442809                FED   \n",
       "167009   1161970   1413001          ALS-DDV-20050123-006             NONFED   \n",
       "429892    164799    166428                     FS-394866                FED   \n",
       "471336   1393171  19089028  SFO-GA-LIB-85-3/12/1997-1335             NONFED   \n",
       "\n",
       "       SOURCE_SYSTEM NWCG_REPORTING_AGENCY NWCG_REPORTING_UNIT_ID  \\\n",
       "216947   FS-FIRESTAT                    FS                USCATMU   \n",
       "309878      DOI-WFMI                 TRIBE                USIDNPT   \n",
       "167009      ST-ALALS                ST/C&L                USALALS   \n",
       "429892   FS-FIRESTAT                    FS                USINHOF   \n",
       "471336      ST-GAGAS                ST/C&L                USGAGAS   \n",
       "\n",
       "                NWCG_REPORTING_UNIT_NAME SOURCE_REPORTING_UNIT  \\\n",
       "216947  Lake Tahoe Basin Management Unit                  0519   \n",
       "309878                   Nez Perce Tribe                 IDNPT   \n",
       "167009       Alabama Forestry Commission                 ALDDV   \n",
       "429892           Hoosier National Forest                  0912   \n",
       "471336       Georgia Forestry Commission                 GAGAS   \n",
       "\n",
       "              SOURCE_REPORTING_UNIT_NAME  ... FIRE_SIZE  FIRE_SIZE_CLASS  \\\n",
       "216947  Lake Tahoe Basin Management Unit  ...      0.10                A   \n",
       "309878                   Nez Perce Tribe  ...      0.10                A   \n",
       "167009                     AFC Dadeville  ...      1.00                B   \n",
       "429892           Hoosier National Forest  ...     75.00                C   \n",
       "471336       Georgia Forestry Commission  ...      1.24                B   \n",
       "\n",
       "         LATITUDE   LONGITUDE  OWNER_CODE            OWNER_DESCR STATE  \\\n",
       "216947  39.047778 -120.127500         5.0                   USFS    CA   \n",
       "309878  46.186000 -115.936000         2.0                    BIA    ID   \n",
       "167009  33.163959  -85.368723        14.0  MISSING/NOT SPECIFIED    AL   \n",
       "429892  38.212222  -86.446944        13.0       STATE OR PRIVATE    IN   \n",
       "471336  31.806400  -81.351300         8.0                PRIVATE    GA   \n",
       "\n",
       "        FIPS_NAME                                              Shape  \\\n",
       "216947     Placer  b'\\x00\\x01\\xad\\x10\\x00\\x00X\\x8f\\xc2\\xf5(\\x08^\\...   \n",
       "309878    Unknown  b'\\x00\\x01\\xad\\x10\\x00\\x00\\x94C\\x8bl\\xe7\\xfb\\\\...   \n",
       "167009   Randolph  b'\\x00\\x01\\xad\\x10\\x00\\x00\\x1c\\x92Z(\\x99WU\\xc0...   \n",
       "429892    Unknown  b'\\x00\\x01\\xad\\x10\\x00\\x00t;\\xda\\xbc\\x9a\\x9cU\\...   \n",
       "471336    Liberty  b'\\x00\\x01\\xad\\x10\\x00\\x00l\\xc5\\xfe\\xb2{VT\\xc0...   \n",
       "\n",
       "        FIRE_SIZE_SCALED  \n",
       "216947      1.647431e-07  \n",
       "309878      1.647431e-07  \n",
       "167009      1.647579e-06  \n",
       "429892      1.235697e-04  \n",
       "471336      2.043002e-06  \n",
       "\n",
       "[5 rows x 30 columns]"
      ]
     },
     "execution_count": 8,
     "metadata": {},
     "output_type": "execute_result"
    }
   ],
   "source": [
    "train_data.sample(5)"
   ]
  },
  {
   "cell_type": "code",
   "execution_count": 111,
   "metadata": {},
   "outputs": [],
   "source": [
    "from sklearn.preprocessing import MinMaxScaler, StandardScaler, LabelEncoder\n",
    "from sklearn.compose import ColumnTransformer\n",
    "from sklearn.pipeline import Pipeline"
   ]
  },
  {
   "cell_type": "code",
   "execution_count": 112,
   "metadata": {
    "id": "H5IYDSjO_dYU"
   },
   "outputs": [],
   "source": [
    "scaler = MinMaxScaler()\n",
    "train_data['FIRE_SIZE_SCALED'] = scaler.fit_transform(train_data[['FIRE_SIZE']])"
   ]
  },
  {
   "cell_type": "code",
   "execution_count": 102,
   "metadata": {},
   "outputs": [],
   "source": [
    "# good_cols = [\"FIRE_YEAR\",\"DISCOVERY_DOY\",\"DISCOVERY_TIME\",\"CONT_DOY\",\"CONT_TIME\",\"STAT_CAUSE_CODE\",\n",
    "#              \"FIRE_SIZE_SCALED\",\"LATITUDE\",\"LONGITUDE\",\"STATE\",\"DISCOVERY_DATE\"]\n",
    "\n",
    "# prefix1 = 'STAT_CAUSE_DESCR_'\n",
    "# prefix2 = 'FIPS_NAME_'\n",
    "\n",
    "# # select the columns you want to keep\n",
    "# keep_cols1 = train_data.filter(like=prefix1).columns.tolist()\n",
    "# keep_cols2 = train_data.filter(like=prefix2).columns.tolist()\n",
    "# keep_cols = good_cols + keep_cols1 + keep_cols2"
   ]
  },
  {
   "cell_type": "code",
   "execution_count": 20,
   "metadata": {},
   "outputs": [
    {
     "data": {
      "text/plain": [
       "Lightning            175776\n",
       "Debris Burning       137803\n",
       "Miscellaneous        117860\n",
       "Arson                110947\n",
       "Campfire              41415\n",
       "Equipment Use         39101\n",
       "Missing/Undefined     27944\n",
       "Children              21947\n",
       "Smoking               17972\n",
       "Fireworks              8225\n",
       "Railroad               6381\n",
       "Powerline              6145\n",
       "Structure              2089\n",
       "Name: STAT_CAUSE_DESCR, dtype: int64"
      ]
     },
     "execution_count": 20,
     "metadata": {},
     "output_type": "execute_result"
    }
   ],
   "source": [
    "train_data[\"STAT_CAUSE_DESCR\"].value_counts()"
   ]
  },
  {
   "cell_type": "code",
   "execution_count": 27,
   "metadata": {},
   "outputs": [],
   "source": [
    "good_cols = [\"FIRE_YEAR\",\"DISCOVERY_DOY\",\"DISCOVERY_TIME\",\"CONT_DOY\",\"CONT_TIME\",\"STAT_CAUSE_CODE\",\n",
    "             \"FIRE_SIZE_SCALED\",\"LATITUDE\",\"LONGITUDE\",\"STATE\",\"DISCOVERY_DATE\"]\n",
    "\n",
    "# select the columns you want to keep\n",
    "keep_cols = good_cols"
   ]
  },
  {
   "cell_type": "code",
   "execution_count": 113,
   "metadata": {
    "id": "qq7hSy0h_m3_"
   },
   "outputs": [],
   "source": [
    "from sklearn.neural_network import MLPClassifier\n",
    "from sklearn.model_selection import train_test_split"
   ]
  },
  {
   "cell_type": "code",
   "execution_count": 135,
   "metadata": {
    "colab": {
     "background_save": true
    },
    "id": "iTXVVkuhB4Ro"
   },
   "outputs": [],
   "source": [
    "df_interest = train_data[keep_cols]"
   ]
  },
  {
   "cell_type": "code",
   "execution_count": 136,
   "metadata": {
    "colab": {
     "background_save": true
    },
    "id": "K9p9NBxyB0Rv",
    "outputId": "ab141a9c-559b-49fb-ee9d-8429f0448f93"
   },
   "outputs": [
    {
     "data": {
      "text/html": [
       "<div>\n",
       "<style scoped>\n",
       "    .dataframe tbody tr th:only-of-type {\n",
       "        vertical-align: middle;\n",
       "    }\n",
       "\n",
       "    .dataframe tbody tr th {\n",
       "        vertical-align: top;\n",
       "    }\n",
       "\n",
       "    .dataframe thead th {\n",
       "        text-align: right;\n",
       "    }\n",
       "</style>\n",
       "<table border=\"1\" class=\"dataframe\">\n",
       "  <thead>\n",
       "    <tr style=\"text-align: right;\">\n",
       "      <th></th>\n",
       "      <th>FIRE_YEAR</th>\n",
       "      <th>DISCOVERY_DOY</th>\n",
       "      <th>DISCOVERY_TIME</th>\n",
       "      <th>CONT_DOY</th>\n",
       "      <th>CONT_TIME</th>\n",
       "      <th>STAT_CAUSE_CODE</th>\n",
       "      <th>FIRE_SIZE_SCALED</th>\n",
       "      <th>LATITUDE</th>\n",
       "      <th>LONGITUDE</th>\n",
       "      <th>STATE</th>\n",
       "      <th>DISCOVERY_DATE</th>\n",
       "    </tr>\n",
       "  </thead>\n",
       "  <tbody>\n",
       "    <tr>\n",
       "      <th>0</th>\n",
       "      <td>2012</td>\n",
       "      <td>71</td>\n",
       "      <td>1916</td>\n",
       "      <td>71.0</td>\n",
       "      <td>1943</td>\n",
       "      <td>9.0</td>\n",
       "      <td>1.645948e-07</td>\n",
       "      <td>41.147000</td>\n",
       "      <td>-73.927000</td>\n",
       "      <td>NY</td>\n",
       "      <td>2455997.5</td>\n",
       "    </tr>\n",
       "    <tr>\n",
       "      <th>1</th>\n",
       "      <td>2012</td>\n",
       "      <td>225</td>\n",
       "      <td>1702</td>\n",
       "      <td>225.0</td>\n",
       "      <td>1730</td>\n",
       "      <td>4.0</td>\n",
       "      <td>1.645948e-07</td>\n",
       "      <td>43.084444</td>\n",
       "      <td>-122.617778</td>\n",
       "      <td>OR</td>\n",
       "      <td>2456151.5</td>\n",
       "    </tr>\n",
       "    <tr>\n",
       "      <th>2</th>\n",
       "      <td>2006</td>\n",
       "      <td>182</td>\n",
       "      <td>2240</td>\n",
       "      <td>183.0</td>\n",
       "      <td>1500</td>\n",
       "      <td>1.0</td>\n",
       "      <td>1.624528e-04</td>\n",
       "      <td>42.741900</td>\n",
       "      <td>-114.848900</td>\n",
       "      <td>ID</td>\n",
       "      <td>2453917.5</td>\n",
       "    </tr>\n",
       "    <tr>\n",
       "      <th>3</th>\n",
       "      <td>2010</td>\n",
       "      <td>192</td>\n",
       "      <td>1403</td>\n",
       "      <td>192.0</td>\n",
       "      <td>1515</td>\n",
       "      <td>9.0</td>\n",
       "      <td>8.236331e-07</td>\n",
       "      <td>40.293300</td>\n",
       "      <td>-111.977500</td>\n",
       "      <td>UT</td>\n",
       "      <td>2455388.5</td>\n",
       "    </tr>\n",
       "    <tr>\n",
       "      <th>4</th>\n",
       "      <td>2014</td>\n",
       "      <td>24</td>\n",
       "      <td>1246</td>\n",
       "      <td>24.0</td>\n",
       "      <td>1439</td>\n",
       "      <td>5.0</td>\n",
       "      <td>1.944147e-05</td>\n",
       "      <td>31.949458</td>\n",
       "      <td>-83.289372</td>\n",
       "      <td>GA</td>\n",
       "      <td>2456681.5</td>\n",
       "    </tr>\n",
       "  </tbody>\n",
       "</table>\n",
       "</div>"
      ],
      "text/plain": [
       "   FIRE_YEAR  DISCOVERY_DOY  DISCOVERY_TIME  CONT_DOY  CONT_TIME  \\\n",
       "0       2012             71            1916      71.0       1943   \n",
       "1       2012            225            1702     225.0       1730   \n",
       "2       2006            182            2240     183.0       1500   \n",
       "3       2010            192            1403     192.0       1515   \n",
       "4       2014             24            1246      24.0       1439   \n",
       "\n",
       "   STAT_CAUSE_CODE  FIRE_SIZE_SCALED   LATITUDE   LONGITUDE STATE  \\\n",
       "0              9.0      1.645948e-07  41.147000  -73.927000    NY   \n",
       "1              4.0      1.645948e-07  43.084444 -122.617778    OR   \n",
       "2              1.0      1.624528e-04  42.741900 -114.848900    ID   \n",
       "3              9.0      8.236331e-07  40.293300 -111.977500    UT   \n",
       "4              5.0      1.944147e-05  31.949458  -83.289372    GA   \n",
       "\n",
       "   DISCOVERY_DATE  \n",
       "0       2455997.5  \n",
       "1       2456151.5  \n",
       "2       2453917.5  \n",
       "3       2455388.5  \n",
       "4       2456681.5  "
      ]
     },
     "execution_count": 136,
     "metadata": {},
     "output_type": "execute_result"
    }
   ],
   "source": [
    "df_interest.head()"
   ]
  },
  {
   "cell_type": "code",
   "execution_count": 109,
   "metadata": {},
   "outputs": [
    {
     "data": {
      "text/plain": [
       "(713605, 3)"
      ]
     },
     "execution_count": 109,
     "metadata": {},
     "output_type": "execute_result"
    }
   ],
   "source": [
    "mycols = [\"LATITUDE\", \"LONGITUDE\", \"STATE\"]\n",
    "mydf = train_data[mycols]\n",
    "mydf.shape"
   ]
  },
  {
   "cell_type": "code",
   "execution_count": 118,
   "metadata": {},
   "outputs": [
    {
     "name": "stdout",
     "output_type": "stream",
     "text": [
      "(713605, 2)\n",
      "(713605,)\n"
     ]
    }
   ],
   "source": [
    "X = mydf.drop([\"STATE\"], axis=1)\n",
    "Y = LabelEncoder().fit_transform(mydf.STATE.values)\n",
    "\n",
    "print(X.shape)\n",
    "print(Y.shape)"
   ]
  },
  {
   "cell_type": "code",
   "execution_count": 119,
   "metadata": {},
   "outputs": [
    {
     "data": {
      "text/plain": [
       "array([34, 37, 13, 45, 10, 41, 28,  4,  4, 10])"
      ]
     },
     "execution_count": 119,
     "metadata": {},
     "output_type": "execute_result"
    }
   ],
   "source": [
    "Y[:10]"
   ]
  },
  {
   "cell_type": "code",
   "execution_count": 154,
   "metadata": {
    "id": "iMeoHwMdBoEA"
   },
   "outputs": [
    {
     "name": "stdout",
     "output_type": "stream",
     "text": [
      "(713605, 8)\n",
      "(713605,)\n"
     ]
    },
    {
     "data": {
      "text/html": [
       "<div>\n",
       "<style scoped>\n",
       "    .dataframe tbody tr th:only-of-type {\n",
       "        vertical-align: middle;\n",
       "    }\n",
       "\n",
       "    .dataframe tbody tr th {\n",
       "        vertical-align: top;\n",
       "    }\n",
       "\n",
       "    .dataframe thead th {\n",
       "        text-align: right;\n",
       "    }\n",
       "</style>\n",
       "<table border=\"1\" class=\"dataframe\">\n",
       "  <thead>\n",
       "    <tr style=\"text-align: right;\">\n",
       "      <th></th>\n",
       "      <th>0</th>\n",
       "      <th>1</th>\n",
       "      <th>2</th>\n",
       "      <th>3</th>\n",
       "      <th>4</th>\n",
       "      <th>5</th>\n",
       "      <th>6</th>\n",
       "      <th>7</th>\n",
       "    </tr>\n",
       "  </thead>\n",
       "  <tbody>\n",
       "    <tr>\n",
       "      <th>0</th>\n",
       "      <td>0.869565</td>\n",
       "      <td>0.191781</td>\n",
       "      <td>0.191781</td>\n",
       "      <td>0.823654</td>\n",
       "      <td>0.666667</td>\n",
       "      <td>1.645948e-07</td>\n",
       "      <td>0.442964</td>\n",
       "      <td>0.916323</td>\n",
       "    </tr>\n",
       "    <tr>\n",
       "      <th>1</th>\n",
       "      <td>0.869565</td>\n",
       "      <td>0.613699</td>\n",
       "      <td>0.613699</td>\n",
       "      <td>0.733362</td>\n",
       "      <td>0.250000</td>\n",
       "      <td>1.645948e-07</td>\n",
       "      <td>0.479945</td>\n",
       "      <td>0.446394</td>\n",
       "    </tr>\n",
       "    <tr>\n",
       "      <th>2</th>\n",
       "      <td>0.608696</td>\n",
       "      <td>0.495890</td>\n",
       "      <td>0.498630</td>\n",
       "      <td>0.635863</td>\n",
       "      <td>0.000000</td>\n",
       "      <td>1.624528e-04</td>\n",
       "      <td>0.473406</td>\n",
       "      <td>0.521373</td>\n",
       "    </tr>\n",
       "    <tr>\n",
       "      <th>3</th>\n",
       "      <td>0.782609</td>\n",
       "      <td>0.523288</td>\n",
       "      <td>0.523288</td>\n",
       "      <td>0.642221</td>\n",
       "      <td>0.666667</td>\n",
       "      <td>8.236331e-07</td>\n",
       "      <td>0.426669</td>\n",
       "      <td>0.549086</td>\n",
       "    </tr>\n",
       "    <tr>\n",
       "      <th>4</th>\n",
       "      <td>0.956522</td>\n",
       "      <td>0.063014</td>\n",
       "      <td>0.063014</td>\n",
       "      <td>0.610004</td>\n",
       "      <td>0.333333</td>\n",
       "      <td>1.944147e-05</td>\n",
       "      <td>0.267408</td>\n",
       "      <td>0.825964</td>\n",
       "    </tr>\n",
       "  </tbody>\n",
       "</table>\n",
       "</div>"
      ],
      "text/plain": [
       "          0         1         2         3         4             5         6  \\\n",
       "0  0.869565  0.191781  0.191781  0.823654  0.666667  1.645948e-07  0.442964   \n",
       "1  0.869565  0.613699  0.613699  0.733362  0.250000  1.645948e-07  0.479945   \n",
       "2  0.608696  0.495890  0.498630  0.635863  0.000000  1.624528e-04  0.473406   \n",
       "3  0.782609  0.523288  0.523288  0.642221  0.666667  8.236331e-07  0.426669   \n",
       "4  0.956522  0.063014  0.063014  0.610004  0.333333  1.944147e-05  0.267408   \n",
       "\n",
       "          7  \n",
       "0  0.916323  \n",
       "1  0.446394  \n",
       "2  0.521373  \n",
       "3  0.549086  \n",
       "4  0.825964  "
      ]
     },
     "execution_count": 154,
     "metadata": {},
     "output_type": "execute_result"
    }
   ],
   "source": [
    "X = df_interest.drop([\"STATE\", \"DISCOVERY_DATE\", \"DISCOVERY_TIME\"], axis=1)\n",
    "X = scaler.fit_transform(X.to_numpy())\n",
    "Y = LabelEncoder().fit_transform(df_interest.STATE.values)\n",
    "\n",
    "print(X.shape)\n",
    "print(Y.shape)\n",
    "pdX = pd.DataFrame(X)\n",
    "pdX.head()"
   ]
  },
  {
   "cell_type": "code",
   "execution_count": 155,
   "metadata": {},
   "outputs": [],
   "source": [
    "X_train, X_test, Y_train, Y_test = train_test_split(X, Y, test_size=0.2, random_state=42)"
   ]
  },
  {
   "cell_type": "code",
   "execution_count": 156,
   "metadata": {
    "id": "KzUUuXQhDBkd"
   },
   "outputs": [],
   "source": [
    "mlp_classifier2 = MLPClassifier(\n",
    "    hidden_layer_sizes=(180,120,60),\n",
    "    activation=\"relu\",\n",
    "    solver=\"adam\",\n",
    "    max_iter=100,\n",
    "    verbose=True,\n",
    "    learning_rate = \"adaptive\"\n",
    ")"
   ]
  },
  {
   "cell_type": "code",
   "execution_count": 157,
   "metadata": {},
   "outputs": [
    {
     "data": {
      "text/plain": [
       "array([17,  1, 50, 32, 25, 34, 51, 34, 10, 37, 34, 27, 48, 42])"
      ]
     },
     "execution_count": 157,
     "metadata": {},
     "output_type": "execute_result"
    }
   ],
   "source": [
    "Y_test[:14]"
   ]
  },
  {
   "cell_type": "code",
   "execution_count": 158,
   "metadata": {
    "colab": {
     "base_uri": "https://localhost:8080/",
     "height": 681
    },
    "id": "2gLCUHTZhMKM",
    "outputId": "d36d2f2f-1fe6-49e8-d52f-ccbb3978b1f8"
   },
   "outputs": [
    {
     "name": "stdout",
     "output_type": "stream",
     "text": [
      "Iteration 1, loss = 0.65447931\n",
      "Iteration 2, loss = 0.20216969\n",
      "Iteration 3, loss = 0.16477070\n",
      "Iteration 4, loss = 0.14555285\n",
      "Iteration 5, loss = 0.13756876\n",
      "Iteration 6, loss = 0.13165493\n",
      "Iteration 7, loss = 0.12727577\n",
      "Iteration 8, loss = 0.12075702\n",
      "Iteration 9, loss = 0.11986415\n",
      "Iteration 10, loss = 0.11625952\n",
      "Iteration 11, loss = 0.11474310\n",
      "Iteration 12, loss = 0.11209114\n",
      "Iteration 13, loss = 0.11069429\n",
      "Iteration 14, loss = 0.10952388\n",
      "Iteration 15, loss = 0.10920187\n",
      "Iteration 16, loss = 0.10764420\n",
      "Iteration 17, loss = 0.10798040\n",
      "Iteration 18, loss = 0.10763954\n",
      "Iteration 19, loss = 0.10570254\n",
      "Iteration 20, loss = 0.10268217\n",
      "Iteration 21, loss = 0.10081542\n",
      "Iteration 22, loss = 0.10395013\n",
      "Iteration 23, loss = 0.10162590\n",
      "Iteration 24, loss = 0.09955287\n",
      "Iteration 25, loss = 0.09863262\n",
      "Iteration 26, loss = 0.09903530\n",
      "Iteration 27, loss = 0.09643393\n",
      "Iteration 28, loss = 0.10085610\n",
      "Iteration 29, loss = 0.09635411\n",
      "Iteration 30, loss = 0.09542441\n",
      "Iteration 31, loss = 0.09859616\n",
      "Iteration 32, loss = 0.09366087\n",
      "Iteration 33, loss = 0.09421502\n",
      "Iteration 34, loss = 0.09439171\n",
      "Iteration 35, loss = 0.09406269\n",
      "Iteration 36, loss = 0.09510740\n",
      "Iteration 37, loss = 0.09181778\n",
      "Iteration 38, loss = 0.09169378\n",
      "Iteration 39, loss = 0.09042163\n",
      "Iteration 40, loss = 0.09284490\n",
      "Iteration 41, loss = 0.09084479\n",
      "Iteration 42, loss = 0.08861283\n",
      "Iteration 43, loss = 0.08879249\n",
      "Iteration 44, loss = 0.08856622\n",
      "Iteration 45, loss = 0.08716345\n",
      "Iteration 46, loss = 0.08927380\n",
      "Iteration 47, loss = 0.08853750\n",
      "Iteration 48, loss = 0.08846321\n",
      "Iteration 49, loss = 0.08728582\n",
      "Iteration 50, loss = 0.08649877\n",
      "Iteration 51, loss = 0.08543464\n",
      "Iteration 52, loss = 0.08492375\n",
      "Iteration 53, loss = 0.08413681\n",
      "Iteration 54, loss = 0.08353462\n",
      "Iteration 55, loss = 0.08347868\n",
      "Iteration 56, loss = 0.08331876\n",
      "Iteration 57, loss = 0.08293164\n",
      "Iteration 58, loss = 0.08151447\n",
      "Iteration 59, loss = 0.08339875\n",
      "Iteration 60, loss = 0.08245430\n",
      "Iteration 61, loss = 0.07940278\n",
      "Iteration 62, loss = 0.08079354\n",
      "Iteration 63, loss = 0.08249319\n",
      "Iteration 64, loss = 0.07988290\n",
      "Iteration 65, loss = 0.07980674\n",
      "Iteration 66, loss = 0.08098885\n",
      "Iteration 67, loss = 0.08001313\n",
      "Iteration 68, loss = 0.08014316\n",
      "Iteration 69, loss = 0.07719385\n",
      "Iteration 70, loss = 0.07961538\n",
      "Iteration 71, loss = 0.07711734\n",
      "Iteration 72, loss = 0.07916535\n",
      "Iteration 73, loss = 0.07732470\n",
      "Iteration 74, loss = 0.07846742\n",
      "Iteration 75, loss = 0.07604356\n",
      "Iteration 76, loss = 0.07709265\n",
      "Iteration 77, loss = 0.07710023\n",
      "Iteration 78, loss = 0.07729455\n",
      "Iteration 79, loss = 0.07468639\n",
      "Iteration 80, loss = 0.07686055\n",
      "Iteration 81, loss = 0.07434232\n",
      "Iteration 82, loss = 0.07647796\n",
      "Iteration 83, loss = 0.07451107\n",
      "Iteration 84, loss = 0.07606857\n",
      "Iteration 85, loss = 0.07478577\n",
      "Iteration 86, loss = 0.07436917\n",
      "Iteration 87, loss = 0.07445212\n",
      "Iteration 88, loss = 0.07237061\n",
      "Iteration 89, loss = 0.07490991\n",
      "Iteration 90, loss = 0.07614502\n",
      "Iteration 91, loss = 0.07364254\n",
      "Iteration 92, loss = 0.07280182\n",
      "Iteration 93, loss = 0.07516507\n",
      "Iteration 94, loss = 0.07204731\n",
      "Iteration 95, loss = 0.07278054\n",
      "Iteration 96, loss = 0.07451661\n",
      "Iteration 97, loss = 0.07148373\n",
      "Iteration 98, loss = 0.07101647\n",
      "Iteration 99, loss = 0.07338707\n",
      "Iteration 100, loss = 0.07119326\n"
     ]
    },
    {
     "data": {
      "text/html": [
       "<style>#sk-container-id-7 {color: black;background-color: white;}#sk-container-id-7 pre{padding: 0;}#sk-container-id-7 div.sk-toggleable {background-color: white;}#sk-container-id-7 label.sk-toggleable__label {cursor: pointer;display: block;width: 100%;margin-bottom: 0;padding: 0.3em;box-sizing: border-box;text-align: center;}#sk-container-id-7 label.sk-toggleable__label-arrow:before {content: \"▸\";float: left;margin-right: 0.25em;color: #696969;}#sk-container-id-7 label.sk-toggleable__label-arrow:hover:before {color: black;}#sk-container-id-7 div.sk-estimator:hover label.sk-toggleable__label-arrow:before {color: black;}#sk-container-id-7 div.sk-toggleable__content {max-height: 0;max-width: 0;overflow: hidden;text-align: left;background-color: #f0f8ff;}#sk-container-id-7 div.sk-toggleable__content pre {margin: 0.2em;color: black;border-radius: 0.25em;background-color: #f0f8ff;}#sk-container-id-7 input.sk-toggleable__control:checked~div.sk-toggleable__content {max-height: 200px;max-width: 100%;overflow: auto;}#sk-container-id-7 input.sk-toggleable__control:checked~label.sk-toggleable__label-arrow:before {content: \"▾\";}#sk-container-id-7 div.sk-estimator input.sk-toggleable__control:checked~label.sk-toggleable__label {background-color: #d4ebff;}#sk-container-id-7 div.sk-label input.sk-toggleable__control:checked~label.sk-toggleable__label {background-color: #d4ebff;}#sk-container-id-7 input.sk-hidden--visually {border: 0;clip: rect(1px 1px 1px 1px);clip: rect(1px, 1px, 1px, 1px);height: 1px;margin: -1px;overflow: hidden;padding: 0;position: absolute;width: 1px;}#sk-container-id-7 div.sk-estimator {font-family: monospace;background-color: #f0f8ff;border: 1px dotted black;border-radius: 0.25em;box-sizing: border-box;margin-bottom: 0.5em;}#sk-container-id-7 div.sk-estimator:hover {background-color: #d4ebff;}#sk-container-id-7 div.sk-parallel-item::after {content: \"\";width: 100%;border-bottom: 1px solid gray;flex-grow: 1;}#sk-container-id-7 div.sk-label:hover label.sk-toggleable__label {background-color: #d4ebff;}#sk-container-id-7 div.sk-serial::before {content: \"\";position: absolute;border-left: 1px solid gray;box-sizing: border-box;top: 0;bottom: 0;left: 50%;z-index: 0;}#sk-container-id-7 div.sk-serial {display: flex;flex-direction: column;align-items: center;background-color: white;padding-right: 0.2em;padding-left: 0.2em;position: relative;}#sk-container-id-7 div.sk-item {position: relative;z-index: 1;}#sk-container-id-7 div.sk-parallel {display: flex;align-items: stretch;justify-content: center;background-color: white;position: relative;}#sk-container-id-7 div.sk-item::before, #sk-container-id-7 div.sk-parallel-item::before {content: \"\";position: absolute;border-left: 1px solid gray;box-sizing: border-box;top: 0;bottom: 0;left: 50%;z-index: -1;}#sk-container-id-7 div.sk-parallel-item {display: flex;flex-direction: column;z-index: 1;position: relative;background-color: white;}#sk-container-id-7 div.sk-parallel-item:first-child::after {align-self: flex-end;width: 50%;}#sk-container-id-7 div.sk-parallel-item:last-child::after {align-self: flex-start;width: 50%;}#sk-container-id-7 div.sk-parallel-item:only-child::after {width: 0;}#sk-container-id-7 div.sk-dashed-wrapped {border: 1px dashed gray;margin: 0 0.4em 0.5em 0.4em;box-sizing: border-box;padding-bottom: 0.4em;background-color: white;}#sk-container-id-7 div.sk-label label {font-family: monospace;font-weight: bold;display: inline-block;line-height: 1.2em;}#sk-container-id-7 div.sk-label-container {text-align: center;}#sk-container-id-7 div.sk-container {/* jupyter's `normalize.less` sets `[hidden] { display: none; }` but bootstrap.min.css set `[hidden] { display: none !important; }` so we also need the `!important` here to be able to override the default hidden behavior on the sphinx rendered scikit-learn.org. See: https://github.com/scikit-learn/scikit-learn/issues/21755 */display: inline-block !important;position: relative;}#sk-container-id-7 div.sk-text-repr-fallback {display: none;}</style><div id=\"sk-container-id-7\" class=\"sk-top-container\"><div class=\"sk-text-repr-fallback\"><pre>MLPClassifier(hidden_layer_sizes=(180, 120, 60), learning_rate=&#x27;adaptive&#x27;,\n",
       "              max_iter=100, verbose=True)</pre><b>In a Jupyter environment, please rerun this cell to show the HTML representation or trust the notebook. <br />On GitHub, the HTML representation is unable to render, please try loading this page with nbviewer.org.</b></div><div class=\"sk-container\" hidden><div class=\"sk-item\"><div class=\"sk-estimator sk-toggleable\"><input class=\"sk-toggleable__control sk-hidden--visually\" id=\"sk-estimator-id-7\" type=\"checkbox\" checked><label for=\"sk-estimator-id-7\" class=\"sk-toggleable__label sk-toggleable__label-arrow\">MLPClassifier</label><div class=\"sk-toggleable__content\"><pre>MLPClassifier(hidden_layer_sizes=(180, 120, 60), learning_rate=&#x27;adaptive&#x27;,\n",
       "              max_iter=100, verbose=True)</pre></div></div></div></div></div>"
      ],
      "text/plain": [
       "MLPClassifier(hidden_layer_sizes=(180, 120, 60), learning_rate='adaptive',\n",
       "              max_iter=100, verbose=True)"
      ]
     },
     "execution_count": 158,
     "metadata": {},
     "output_type": "execute_result"
    }
   ],
   "source": [
    "mlp_classifier2.fit(X_train, Y_train)"
   ]
  },
  {
   "cell_type": "markdown",
   "metadata": {},
   "source": [
    "### Predict and evaluate on the test data"
   ]
  },
  {
   "cell_type": "code",
   "execution_count": 156,
   "metadata": {},
   "outputs": [],
   "source": [
    "from sklearn.metrics import accuracy_score\n"
   ]
  },
  {
   "cell_type": "code",
   "execution_count": 159,
   "metadata": {
    "colab": {
     "base_uri": "https://localhost:8080/"
    },
    "id": "50x3beQ5DJLh",
    "outputId": "affdb1da-4b5f-4263-b8bf-bb1c48931b4d"
   },
   "outputs": [
    {
     "data": {
      "text/plain": [
       "0.9732905458902333"
      ]
     },
     "execution_count": 159,
     "metadata": {},
     "output_type": "execute_result"
    }
   ],
   "source": [
    "\n",
    "predict_test = mlp_classifier2.predict(X_test)\n",
    "accuracy_score(Y_test, predict_test)"
   ]
  },
  {
   "cell_type": "markdown",
   "metadata": {},
   "source": [
    "### Predict and evaluate on the train data"
   ]
  },
  {
   "cell_type": "code",
   "execution_count": 160,
   "metadata": {
    "colab": {
     "base_uri": "https://localhost:8080/"
    },
    "id": "BkqkitPxDiiu",
    "outputId": "b2fe1101-d4ee-4778-e783-1abd6726fcf1"
   },
   "outputs": [
    {
     "data": {
      "text/plain": [
       "0.9735567996300475"
      ]
     },
     "execution_count": 160,
     "metadata": {},
     "output_type": "execute_result"
    }
   ],
   "source": [
    "predict_train = mlp_classifier2.predict(X_train)\n",
    "accuracy_score(Y_train, predict_train)"
   ]
  },
  {
   "cell_type": "code",
   "execution_count": 161,
   "metadata": {
    "id": "Rj_LRHXkILx0"
   },
   "outputs": [
    {
     "data": {
      "image/png": "[encoded data removed]",
      "text/plain": [
       "<Figure size 432x288 with 1 Axes>"
      ]
     },
     "metadata": {
      "needs_background": "light"
     },
     "output_type": "display_data"
    }
   ],
   "source": [
    "plt.plot(mlp_classifier2.loss_curve_)\n",
    "plt.show()"
   ]
  },
  {
   "cell_type": "code",
   "execution_count": 162,
   "metadata": {},
   "outputs": [
    {
     "data": {
      "text/plain": [
       "['LATITUDE', 'LONGITUDE', 'STATE']"
      ]
     },
     "execution_count": 162,
     "metadata": {},
     "output_type": "execute_result"
    }
   ],
   "source": [
    "mycols"
   ]
  },
  {
   "cell_type": "code",
   "execution_count": 165,
   "metadata": {},
   "outputs": [
    {
     "name": "stdout",
     "output_type": "stream",
     "text": [
      "(178402, 8)\n",
      "(178402,)\n"
     ]
    }
   ],
   "source": [
    "X = test_data[good_cols].drop([\"STATE\", \"DISCOVERY_DATE\", \"DISCOVERY_TIME\"], axis=1)\n",
    "X = scaler.fit_transform(X.to_numpy())\n",
    "Y = LabelEncoder().fit_transform(test_data[good_cols].STATE.values)\n",
    "\n",
    "print(X.shape)\n",
    "print(Y.shape)"
   ]
  },
  {
   "cell_type": "code",
   "execution_count": 166,
   "metadata": {},
   "outputs": [],
   "source": [
    "result = mlp_classifier2.predict(X)"
   ]
  },
  {
   "cell_type": "code",
   "execution_count": 167,
   "metadata": {},
   "outputs": [
    {
     "data": {
      "text/plain": [
       "0.8222553558816605"
      ]
     },
     "execution_count": 167,
     "metadata": {},
     "output_type": "execute_result"
    }
   ],
   "source": [
    "accuracy_score(result, Y)"
   ]
  },
  {
   "cell_type": "code",
   "execution_count": 173,
   "metadata": {},
   "outputs": [
    {
     "data": {
      "text/plain": [
       "30"
      ]
     },
     "execution_count": 173,
     "metadata": {},
     "output_type": "execute_result"
    }
   ],
   "source": [
    "train_data.head()\n",
    "len(train_data.columns)"
   ]
  },
  {
   "cell_type": "code",
   "execution_count": 169,
   "metadata": {},
   "outputs": [
    {
     "data": {
      "image/png": "[encoded data removed]",
      "text/plain": [
       "<Figure size 288x288 with 1 Axes>"
      ]
     },
     "metadata": {
      "needs_background": "light"
     },
     "output_type": "display_data"
    }
   ],
   "source": [
    "plt.matshow(train_data.corr())\n",
    "plt.show()"
   ]
  },
  {
   "cell_type": "code",
   "execution_count": 176,
   "metadata": {},
   "outputs": [
    {
     "data": {
      "image/png": "[encoded data removed]",
      "text/plain": [
       "<Figure size 1368x1080 with 2 Axes>"
      ]
     },
     "metadata": {
      "needs_background": "light"
     },
     "output_type": "display_data"
    }
   ],
   "source": [
    "df = train_data\n",
    "df[\"STATE\"] = LabelEncoder().fit_transform(train_data.STATE.values)\n",
    "f = plt.figure(figsize=(19, 15))\n",
    "plt.matshow(df.corr(), fignum=f.number)\n",
    "plt.xticks(range(df.select_dtypes(['number']).shape[1]), df.select_dtypes(['number']).columns, fontsize=14, rotation=45)\n",
    "plt.yticks(range(df.select_dtypes(['number']).shape[1]), df.select_dtypes(['number']).columns, fontsize=14)\n",
    "cb = plt.colorbar()\n",
    "cb.ax.tick_params(labelsize=14)\n",
    "plt.title('Correlation Matrix', fontsize=16);\n",
    "\n",
    "plt.savefig(\"corr_train_nandu.png\")"
   ]
  },
  {
   "cell_type": "markdown",
   "metadata": {},
   "source": [
    "Lets Predict the STAT_CAUSE_DESCR column with perceptron"
   ]
  },
  {
   "cell_type": "code",
   "execution_count": 115,
   "metadata": {},
   "outputs": [
    {
     "data": {
      "text/plain": [
       "Lightning            175776\n",
       "Debris Burning       137803\n",
       "Miscellaneous        117860\n",
       "Arson                110947\n",
       "Campfire              41415\n",
       "Equipment Use         39101\n",
       "Missing/Undefined     27944\n",
       "Children              21947\n",
       "Smoking               17972\n",
       "Fireworks              8225\n",
       "Railroad               6381\n",
       "Powerline              6145\n",
       "Structure              2089\n",
       "Name: STAT_CAUSE_DESCR, dtype: int64"
      ]
     },
     "execution_count": 115,
     "metadata": {},
     "output_type": "execute_result"
    }
   ],
   "source": [
    "train_data[\"STAT_CAUSE_DESCR\"].value_counts()"
   ]
  },
  {
   "cell_type": "code",
   "execution_count": 116,
   "metadata": {},
   "outputs": [
    {
     "data": {
      "text/plain": [
       "27944"
      ]
     },
     "execution_count": 116,
     "metadata": {},
     "output_type": "execute_result"
    }
   ],
   "source": [
    "len(train_data[train_data[\"STAT_CAUSE_DESCR\"] == \"Missing/Undefined\"])"
   ]
  },
  {
   "cell_type": "code",
   "execution_count": 119,
   "metadata": {},
   "outputs": [
    {
     "data": {
      "text/html": [
       "<div>\n",
       "<style scoped>\n",
       "    .dataframe tbody tr th:only-of-type {\n",
       "        vertical-align: middle;\n",
       "    }\n",
       "\n",
       "    .dataframe tbody tr th {\n",
       "        vertical-align: top;\n",
       "    }\n",
       "\n",
       "    .dataframe thead th {\n",
       "        text-align: right;\n",
       "    }\n",
       "</style>\n",
       "<table border=\"1\" class=\"dataframe\">\n",
       "  <thead>\n",
       "    <tr style=\"text-align: right;\">\n",
       "      <th></th>\n",
       "      <th>FIRE_YEAR</th>\n",
       "      <th>DISCOVERY_DOY</th>\n",
       "      <th>DISCOVERY_TIME</th>\n",
       "      <th>CONT_DOY</th>\n",
       "      <th>CONT_TIME</th>\n",
       "      <th>STAT_CAUSE_CODE</th>\n",
       "      <th>FIRE_SIZE</th>\n",
       "      <th>LATITUDE</th>\n",
       "      <th>LONGITUDE</th>\n",
       "      <th>STATE</th>\n",
       "      <th>DISCOVERY_DATE</th>\n",
       "    </tr>\n",
       "  </thead>\n",
       "  <tbody>\n",
       "    <tr>\n",
       "      <th>113179</th>\n",
       "      <td>2004</td>\n",
       "      <td>203</td>\n",
       "      <td>1519</td>\n",
       "      <td>203.0</td>\n",
       "      <td>1945</td>\n",
       "      <td>1.0</td>\n",
       "      <td>0.10</td>\n",
       "      <td>37.699400</td>\n",
       "      <td>-114.060300</td>\n",
       "      <td>NV</td>\n",
       "      <td>2453207.5</td>\n",
       "    </tr>\n",
       "    <tr>\n",
       "      <th>317323</th>\n",
       "      <td>2015</td>\n",
       "      <td>96</td>\n",
       "      <td>2145</td>\n",
       "      <td>96.0</td>\n",
       "      <td>2215</td>\n",
       "      <td>7.0</td>\n",
       "      <td>0.10</td>\n",
       "      <td>47.982200</td>\n",
       "      <td>-98.998600</td>\n",
       "      <td>ND</td>\n",
       "      <td>2457118.5</td>\n",
       "    </tr>\n",
       "    <tr>\n",
       "      <th>444989</th>\n",
       "      <td>2003</td>\n",
       "      <td>223</td>\n",
       "      <td>1551</td>\n",
       "      <td>224.0</td>\n",
       "      <td>1200</td>\n",
       "      <td>1.0</td>\n",
       "      <td>0.10</td>\n",
       "      <td>37.413900</td>\n",
       "      <td>-109.789800</td>\n",
       "      <td>UT</td>\n",
       "      <td>2452862.5</td>\n",
       "    </tr>\n",
       "    <tr>\n",
       "      <th>202947</th>\n",
       "      <td>1997</td>\n",
       "      <td>284</td>\n",
       "      <td>1609</td>\n",
       "      <td>284.0</td>\n",
       "      <td>1704</td>\n",
       "      <td>7.0</td>\n",
       "      <td>1.00</td>\n",
       "      <td>31.295117</td>\n",
       "      <td>-91.100120</td>\n",
       "      <td>MS</td>\n",
       "      <td>2450732.5</td>\n",
       "    </tr>\n",
       "    <tr>\n",
       "      <th>320391</th>\n",
       "      <td>1994</td>\n",
       "      <td>180</td>\n",
       "      <td>1730</td>\n",
       "      <td>180.0</td>\n",
       "      <td>2010</td>\n",
       "      <td>1.0</td>\n",
       "      <td>0.30</td>\n",
       "      <td>34.266700</td>\n",
       "      <td>-116.517500</td>\n",
       "      <td>CA</td>\n",
       "      <td>2449532.5</td>\n",
       "    </tr>\n",
       "    <tr>\n",
       "      <th>302731</th>\n",
       "      <td>2005</td>\n",
       "      <td>148</td>\n",
       "      <td>930</td>\n",
       "      <td>148.0</td>\n",
       "      <td>1200</td>\n",
       "      <td>1.0</td>\n",
       "      <td>0.10</td>\n",
       "      <td>41.883056</td>\n",
       "      <td>-122.903056</td>\n",
       "      <td>CA</td>\n",
       "      <td>2453518.5</td>\n",
       "    </tr>\n",
       "    <tr>\n",
       "      <th>531561</th>\n",
       "      <td>1993</td>\n",
       "      <td>312</td>\n",
       "      <td>1400</td>\n",
       "      <td>313.0</td>\n",
       "      <td>1000</td>\n",
       "      <td>4.0</td>\n",
       "      <td>0.10</td>\n",
       "      <td>45.815000</td>\n",
       "      <td>-117.756667</td>\n",
       "      <td>OR</td>\n",
       "      <td>2449299.5</td>\n",
       "    </tr>\n",
       "    <tr>\n",
       "      <th>270140</th>\n",
       "      <td>2015</td>\n",
       "      <td>154</td>\n",
       "      <td>1601</td>\n",
       "      <td>154.0</td>\n",
       "      <td>1800</td>\n",
       "      <td>13.0</td>\n",
       "      <td>0.25</td>\n",
       "      <td>31.557500</td>\n",
       "      <td>-110.459800</td>\n",
       "      <td>AZ</td>\n",
       "      <td>2457176.5</td>\n",
       "    </tr>\n",
       "    <tr>\n",
       "      <th>192521</th>\n",
       "      <td>2005</td>\n",
       "      <td>101</td>\n",
       "      <td>1230</td>\n",
       "      <td>101.0</td>\n",
       "      <td>1230</td>\n",
       "      <td>9.0</td>\n",
       "      <td>1.33</td>\n",
       "      <td>43.315801</td>\n",
       "      <td>-76.156288</td>\n",
       "      <td>NY</td>\n",
       "      <td>2453471.5</td>\n",
       "    </tr>\n",
       "    <tr>\n",
       "      <th>91701</th>\n",
       "      <td>1995</td>\n",
       "      <td>93</td>\n",
       "      <td>1645</td>\n",
       "      <td>93.0</td>\n",
       "      <td>1728</td>\n",
       "      <td>5.0</td>\n",
       "      <td>0.26</td>\n",
       "      <td>33.161600</td>\n",
       "      <td>-84.770400</td>\n",
       "      <td>GA</td>\n",
       "      <td>2449810.5</td>\n",
       "    </tr>\n",
       "  </tbody>\n",
       "</table>\n",
       "</div>"
      ],
      "text/plain": [
       "        FIRE_YEAR  DISCOVERY_DOY  DISCOVERY_TIME  CONT_DOY  CONT_TIME  \\\n",
       "113179       2004            203            1519     203.0       1945   \n",
       "317323       2015             96            2145      96.0       2215   \n",
       "444989       2003            223            1551     224.0       1200   \n",
       "202947       1997            284            1609     284.0       1704   \n",
       "320391       1994            180            1730     180.0       2010   \n",
       "302731       2005            148             930     148.0       1200   \n",
       "531561       1993            312            1400     313.0       1000   \n",
       "270140       2015            154            1601     154.0       1800   \n",
       "192521       2005            101            1230     101.0       1230   \n",
       "91701        1995             93            1645      93.0       1728   \n",
       "\n",
       "        STAT_CAUSE_CODE  FIRE_SIZE   LATITUDE   LONGITUDE STATE  \\\n",
       "113179              1.0       0.10  37.699400 -114.060300    NV   \n",
       "317323              7.0       0.10  47.982200  -98.998600    ND   \n",
       "444989              1.0       0.10  37.413900 -109.789800    UT   \n",
       "202947              7.0       1.00  31.295117  -91.100120    MS   \n",
       "320391              1.0       0.30  34.266700 -116.517500    CA   \n",
       "302731              1.0       0.10  41.883056 -122.903056    CA   \n",
       "531561              4.0       0.10  45.815000 -117.756667    OR   \n",
       "270140             13.0       0.25  31.557500 -110.459800    AZ   \n",
       "192521              9.0       1.33  43.315801  -76.156288    NY   \n",
       "91701               5.0       0.26  33.161600  -84.770400    GA   \n",
       "\n",
       "        DISCOVERY_DATE  \n",
       "113179       2453207.5  \n",
       "317323       2457118.5  \n",
       "444989       2452862.5  \n",
       "202947       2450732.5  \n",
       "320391       2449532.5  \n",
       "302731       2453518.5  \n",
       "531561       2449299.5  \n",
       "270140       2457176.5  \n",
       "192521       2453471.5  \n",
       "91701        2449810.5  "
      ]
     },
     "execution_count": 119,
     "metadata": {},
     "output_type": "execute_result"
    }
   ],
   "source": [
    "good_cols_new = [\"FIRE_YEAR\",\"DISCOVERY_DOY\",\"DISCOVERY_TIME\",\"CONT_DOY\",\"CONT_TIME\",\"STAT_CAUSE_CODE\",\"FIRE_SIZE\",\"LATITUDE\",\"LONGITUDE\",\"STATE\",\"DISCOVERY_DATE\"]\n",
    "df_model_new = train_data[good_cols_new]\n",
    "df_model_new.sample(10)"
   ]
  },
  {
   "cell_type": "code",
   "execution_count": 120,
   "metadata": {},
   "outputs": [
    {
     "data": {
      "text/html": [
       "<div>\n",
       "<style scoped>\n",
       "    .dataframe tbody tr th:only-of-type {\n",
       "        vertical-align: middle;\n",
       "    }\n",
       "\n",
       "    .dataframe tbody tr th {\n",
       "        vertical-align: top;\n",
       "    }\n",
       "\n",
       "    .dataframe thead th {\n",
       "        text-align: right;\n",
       "    }\n",
       "</style>\n",
       "<table border=\"1\" class=\"dataframe\">\n",
       "  <thead>\n",
       "    <tr style=\"text-align: right;\">\n",
       "      <th></th>\n",
       "      <th>FIRE_YEAR</th>\n",
       "      <th>DISCOVERY_DOY</th>\n",
       "      <th>DISCOVERY_TIME</th>\n",
       "      <th>CONT_DOY</th>\n",
       "      <th>CONT_TIME</th>\n",
       "      <th>STAT_CAUSE_CODE</th>\n",
       "      <th>FIRE_SIZE</th>\n",
       "      <th>LATITUDE</th>\n",
       "      <th>LONGITUDE</th>\n",
       "      <th>STATE</th>\n",
       "      <th>DISCOVERY_DATE</th>\n",
       "    </tr>\n",
       "  </thead>\n",
       "  <tbody>\n",
       "    <tr>\n",
       "      <th>142778</th>\n",
       "      <td>2000</td>\n",
       "      <td>305</td>\n",
       "      <td>1334</td>\n",
       "      <td>305.0</td>\n",
       "      <td>1334</td>\n",
       "      <td>6.0</td>\n",
       "      <td>0.24</td>\n",
       "      <td>34.927300</td>\n",
       "      <td>-85.449800</td>\n",
       "      <td>10</td>\n",
       "      <td>2451848.5</td>\n",
       "    </tr>\n",
       "    <tr>\n",
       "      <th>612262</th>\n",
       "      <td>2010</td>\n",
       "      <td>178</td>\n",
       "      <td>1442</td>\n",
       "      <td>178.0</td>\n",
       "      <td>1659</td>\n",
       "      <td>13.0</td>\n",
       "      <td>1.30</td>\n",
       "      <td>32.523300</td>\n",
       "      <td>-104.256100</td>\n",
       "      <td>32</td>\n",
       "      <td>2455374.5</td>\n",
       "    </tr>\n",
       "    <tr>\n",
       "      <th>668190</th>\n",
       "      <td>2002</td>\n",
       "      <td>200</td>\n",
       "      <td>1628</td>\n",
       "      <td>200.0</td>\n",
       "      <td>1955</td>\n",
       "      <td>1.0</td>\n",
       "      <td>0.10</td>\n",
       "      <td>44.288300</td>\n",
       "      <td>-109.175700</td>\n",
       "      <td>51</td>\n",
       "      <td>2452474.5</td>\n",
       "    </tr>\n",
       "    <tr>\n",
       "      <th>469022</th>\n",
       "      <td>1992</td>\n",
       "      <td>214</td>\n",
       "      <td>1000</td>\n",
       "      <td>214.0</td>\n",
       "      <td>1300</td>\n",
       "      <td>4.0</td>\n",
       "      <td>0.10</td>\n",
       "      <td>47.340000</td>\n",
       "      <td>-120.923333</td>\n",
       "      <td>48</td>\n",
       "      <td>2448835.5</td>\n",
       "    </tr>\n",
       "    <tr>\n",
       "      <th>33702</th>\n",
       "      <td>1995</td>\n",
       "      <td>244</td>\n",
       "      <td>2000</td>\n",
       "      <td>244.0</td>\n",
       "      <td>2100</td>\n",
       "      <td>8.0</td>\n",
       "      <td>0.10</td>\n",
       "      <td>44.088333</td>\n",
       "      <td>-115.613333</td>\n",
       "      <td>13</td>\n",
       "      <td>2449961.5</td>\n",
       "    </tr>\n",
       "  </tbody>\n",
       "</table>\n",
       "</div>"
      ],
      "text/plain": [
       "        FIRE_YEAR  DISCOVERY_DOY  DISCOVERY_TIME  CONT_DOY  CONT_TIME  \\\n",
       "142778       2000            305            1334     305.0       1334   \n",
       "612262       2010            178            1442     178.0       1659   \n",
       "668190       2002            200            1628     200.0       1955   \n",
       "469022       1992            214            1000     214.0       1300   \n",
       "33702        1995            244            2000     244.0       2100   \n",
       "\n",
       "        STAT_CAUSE_CODE  FIRE_SIZE   LATITUDE   LONGITUDE  STATE  \\\n",
       "142778              6.0       0.24  34.927300  -85.449800     10   \n",
       "612262             13.0       1.30  32.523300 -104.256100     32   \n",
       "668190              1.0       0.10  44.288300 -109.175700     51   \n",
       "469022              4.0       0.10  47.340000 -120.923333     48   \n",
       "33702               8.0       0.10  44.088333 -115.613333     13   \n",
       "\n",
       "        DISCOVERY_DATE  \n",
       "142778       2451848.5  \n",
       "612262       2455374.5  \n",
       "668190       2452474.5  \n",
       "469022       2448835.5  \n",
       "33702        2449961.5  "
      ]
     },
     "execution_count": 120,
     "metadata": {},
     "output_type": "execute_result"
    }
   ],
   "source": [
    "df_model_new[\"STATE\"] = LabelEncoder().fit_transform(df_model_new.STATE.values)\n",
    "df_model_new.sample(5)"
   ]
  },
  {
   "cell_type": "markdown",
   "metadata": {},
   "source": [
    "Prepare data for our model"
   ]
  },
  {
   "cell_type": "code",
   "execution_count": 145,
   "metadata": {},
   "outputs": [
    {
     "data": {
      "text/plain": [
       "((713605, 10), (713605,))"
      ]
     },
     "execution_count": 145,
     "metadata": {},
     "output_type": "execute_result"
    }
   ],
   "source": [
    "X = df_model_new.drop([\"STAT_CAUSE_CODE\"], axis=1)\n",
    "Y = df_model_new[\"STAT_CAUSE_CODE\"]\n",
    "X.shape, Y.shape"
   ]
  },
  {
   "cell_type": "code",
   "execution_count": 146,
   "metadata": {},
   "outputs": [
    {
     "data": {
      "text/html": [
       "<div>\n",
       "<style scoped>\n",
       "    .dataframe tbody tr th:only-of-type {\n",
       "        vertical-align: middle;\n",
       "    }\n",
       "\n",
       "    .dataframe tbody tr th {\n",
       "        vertical-align: top;\n",
       "    }\n",
       "\n",
       "    .dataframe thead th {\n",
       "        text-align: right;\n",
       "    }\n",
       "</style>\n",
       "<table border=\"1\" class=\"dataframe\">\n",
       "  <thead>\n",
       "    <tr style=\"text-align: right;\">\n",
       "      <th></th>\n",
       "      <th>FIRE_YEAR</th>\n",
       "      <th>DISCOVERY_DOY</th>\n",
       "      <th>DISCOVERY_TIME</th>\n",
       "      <th>CONT_DOY</th>\n",
       "      <th>CONT_TIME</th>\n",
       "      <th>FIRE_SIZE</th>\n",
       "      <th>LATITUDE</th>\n",
       "      <th>LONGITUDE</th>\n",
       "      <th>STATE</th>\n",
       "      <th>DISCOVERY_DATE</th>\n",
       "    </tr>\n",
       "  </thead>\n",
       "  <tbody>\n",
       "    <tr>\n",
       "      <th>0</th>\n",
       "      <td>2012</td>\n",
       "      <td>71</td>\n",
       "      <td>1916</td>\n",
       "      <td>71.0</td>\n",
       "      <td>1943</td>\n",
       "      <td>0.1</td>\n",
       "      <td>41.147000</td>\n",
       "      <td>-73.927000</td>\n",
       "      <td>34</td>\n",
       "      <td>2455997.5</td>\n",
       "    </tr>\n",
       "    <tr>\n",
       "      <th>1</th>\n",
       "      <td>2012</td>\n",
       "      <td>225</td>\n",
       "      <td>1702</td>\n",
       "      <td>225.0</td>\n",
       "      <td>1730</td>\n",
       "      <td>0.1</td>\n",
       "      <td>43.084444</td>\n",
       "      <td>-122.617778</td>\n",
       "      <td>37</td>\n",
       "      <td>2456151.5</td>\n",
       "    </tr>\n",
       "    <tr>\n",
       "      <th>2</th>\n",
       "      <td>2006</td>\n",
       "      <td>182</td>\n",
       "      <td>2240</td>\n",
       "      <td>183.0</td>\n",
       "      <td>1500</td>\n",
       "      <td>98.6</td>\n",
       "      <td>42.741900</td>\n",
       "      <td>-114.848900</td>\n",
       "      <td>13</td>\n",
       "      <td>2453917.5</td>\n",
       "    </tr>\n",
       "    <tr>\n",
       "      <th>3</th>\n",
       "      <td>2010</td>\n",
       "      <td>192</td>\n",
       "      <td>1403</td>\n",
       "      <td>192.0</td>\n",
       "      <td>1515</td>\n",
       "      <td>0.5</td>\n",
       "      <td>40.293300</td>\n",
       "      <td>-111.977500</td>\n",
       "      <td>45</td>\n",
       "      <td>2455388.5</td>\n",
       "    </tr>\n",
       "    <tr>\n",
       "      <th>4</th>\n",
       "      <td>2014</td>\n",
       "      <td>24</td>\n",
       "      <td>1246</td>\n",
       "      <td>24.0</td>\n",
       "      <td>1439</td>\n",
       "      <td>11.8</td>\n",
       "      <td>31.949458</td>\n",
       "      <td>-83.289372</td>\n",
       "      <td>10</td>\n",
       "      <td>2456681.5</td>\n",
       "    </tr>\n",
       "  </tbody>\n",
       "</table>\n",
       "</div>"
      ],
      "text/plain": [
       "   FIRE_YEAR  DISCOVERY_DOY  DISCOVERY_TIME  CONT_DOY  CONT_TIME  FIRE_SIZE  \\\n",
       "0       2012             71            1916      71.0       1943        0.1   \n",
       "1       2012            225            1702     225.0       1730        0.1   \n",
       "2       2006            182            2240     183.0       1500       98.6   \n",
       "3       2010            192            1403     192.0       1515        0.5   \n",
       "4       2014             24            1246      24.0       1439       11.8   \n",
       "\n",
       "    LATITUDE   LONGITUDE  STATE  DISCOVERY_DATE  \n",
       "0  41.147000  -73.927000     34       2455997.5  \n",
       "1  43.084444 -122.617778     37       2456151.5  \n",
       "2  42.741900 -114.848900     13       2453917.5  \n",
       "3  40.293300 -111.977500     45       2455388.5  \n",
       "4  31.949458  -83.289372     10       2456681.5  "
      ]
     },
     "execution_count": 146,
     "metadata": {},
     "output_type": "execute_result"
    }
   ],
   "source": [
    "X.head()"
   ]
  },
  {
   "cell_type": "code",
   "execution_count": 147,
   "metadata": {},
   "outputs": [
    {
     "data": {
      "text/plain": [
       "0    9.0\n",
       "1    4.0\n",
       "2    1.0\n",
       "3    9.0\n",
       "4    5.0\n",
       "Name: STAT_CAUSE_CODE, dtype: float64"
      ]
     },
     "execution_count": 147,
     "metadata": {},
     "output_type": "execute_result"
    }
   ],
   "source": [
    "Y.head()"
   ]
  },
  {
   "cell_type": "code",
   "execution_count": 148,
   "metadata": {},
   "outputs": [
    {
     "data": {
      "text/plain": [
       "(713605, 10)"
      ]
     },
     "execution_count": 148,
     "metadata": {},
     "output_type": "execute_result"
    }
   ],
   "source": [
    "# X = pd.DataFrame(scaler.fit_transform(X), columns = X.columns)\n",
    "# X.shape\n",
    "\n",
    "X = scaler.fit_transform(X)\n",
    "X.shape"
   ]
  },
  {
   "cell_type": "code",
   "execution_count": 150,
   "metadata": {},
   "outputs": [
    {
     "data": {
      "text/plain": [
       "0    9.0\n",
       "1    4.0\n",
       "2    1.0\n",
       "3    9.0\n",
       "4    5.0\n",
       "Name: STAT_CAUSE_CODE, dtype: float64"
      ]
     },
     "execution_count": 150,
     "metadata": {},
     "output_type": "execute_result"
    }
   ],
   "source": [
    "Y.head()"
   ]
  },
  {
   "cell_type": "code",
   "execution_count": 151,
   "metadata": {},
   "outputs": [],
   "source": [
    "classifier_scdescr = mlp_classifier2 = MLPClassifier(\n",
    "    hidden_layer_sizes=(180,120,60),\n",
    "    activation=\"relu\",\n",
    "    solver=\"adam\",\n",
    "    max_iter=100,\n",
    "    verbose=True,\n",
    "    learning_rate = \"adaptive\"\n",
    ")"
   ]
  },
  {
   "cell_type": "code",
   "execution_count": 153,
   "metadata": {},
   "outputs": [],
   "source": [
    "X_train, X_test, Y_train, Y_test = train_test_split(X, Y, test_size=0.2, random_state=42)"
   ]
  },
  {
   "cell_type": "code",
   "execution_count": 154,
   "metadata": {},
   "outputs": [
    {
     "name": "stdout",
     "output_type": "stream",
     "text": [
      "Iteration 1, loss = 1.65280339\n",
      "Iteration 2, loss = 1.51306068\n",
      "Iteration 3, loss = 1.47787529\n",
      "Iteration 4, loss = 1.45818546\n",
      "Iteration 5, loss = 1.44401131\n",
      "Iteration 6, loss = 1.43348637\n",
      "Iteration 7, loss = 1.42494921\n",
      "Iteration 8, loss = 1.41722042\n",
      "Iteration 9, loss = 1.41136819\n",
      "Iteration 10, loss = 1.40561682\n",
      "Iteration 11, loss = 1.40108543\n",
      "Iteration 12, loss = 1.39727225\n",
      "Iteration 13, loss = 1.39251136\n",
      "Iteration 14, loss = 1.38865226\n",
      "Iteration 15, loss = 1.38575720\n",
      "Iteration 16, loss = 1.38230898\n",
      "Iteration 17, loss = 1.37902236\n",
      "Iteration 18, loss = 1.37727188\n",
      "Iteration 19, loss = 1.37347405\n",
      "Iteration 20, loss = 1.37136341\n",
      "Iteration 21, loss = 1.36915534\n",
      "Iteration 22, loss = 1.36724914\n",
      "Iteration 23, loss = 1.36533160\n",
      "Iteration 24, loss = 1.36317436\n",
      "Iteration 25, loss = 1.36179967\n",
      "Iteration 26, loss = 1.35978354\n",
      "Iteration 27, loss = 1.35863548\n",
      "Iteration 28, loss = 1.35706839\n",
      "Iteration 29, loss = 1.35572937\n",
      "Iteration 30, loss = 1.35377874\n",
      "Iteration 31, loss = 1.35246514\n",
      "Iteration 32, loss = 1.35167301\n",
      "Iteration 33, loss = 1.35031442\n",
      "Iteration 34, loss = 1.34874497\n",
      "Iteration 35, loss = 1.34764064\n",
      "Iteration 36, loss = 1.34623326\n",
      "Iteration 37, loss = 1.34539162\n",
      "Iteration 38, loss = 1.34469376\n",
      "Iteration 39, loss = 1.34303547\n",
      "Iteration 40, loss = 1.34236174\n",
      "Iteration 41, loss = 1.34114895\n",
      "Iteration 42, loss = 1.34057356\n",
      "Iteration 43, loss = 1.33943592\n",
      "Iteration 44, loss = 1.33876808\n",
      "Iteration 45, loss = 1.33752864\n",
      "Iteration 46, loss = 1.33699642\n",
      "Iteration 47, loss = 1.33550195\n",
      "Iteration 48, loss = 1.33518959\n",
      "Iteration 49, loss = 1.33407952\n",
      "Iteration 50, loss = 1.33348371\n",
      "Iteration 51, loss = 1.33342150\n",
      "Iteration 52, loss = 1.33219190\n",
      "Iteration 53, loss = 1.33140221\n",
      "Iteration 54, loss = 1.33091180\n",
      "Iteration 55, loss = 1.33005016\n",
      "Iteration 56, loss = 1.32945470\n",
      "Iteration 57, loss = 1.32842039\n",
      "Iteration 58, loss = 1.32852072\n",
      "Iteration 59, loss = 1.32740007\n",
      "Iteration 60, loss = 1.32707240\n",
      "Iteration 61, loss = 1.32650371\n",
      "Iteration 62, loss = 1.32596271\n",
      "Iteration 63, loss = 1.32522829\n",
      "Iteration 64, loss = 1.32458581\n",
      "Iteration 65, loss = 1.32475039\n",
      "Iteration 66, loss = 1.32411811\n",
      "Iteration 67, loss = 1.32304327\n",
      "Iteration 68, loss = 1.32272038\n",
      "Iteration 69, loss = 1.32202572\n",
      "Iteration 70, loss = 1.32157110\n",
      "Iteration 71, loss = 1.32123748\n",
      "Iteration 72, loss = 1.32055749\n",
      "Iteration 73, loss = 1.32024106\n",
      "Iteration 74, loss = 1.32014482\n",
      "Iteration 75, loss = 1.31894061\n",
      "Iteration 76, loss = 1.31914381\n",
      "Iteration 77, loss = 1.31863489\n",
      "Iteration 78, loss = 1.31800793\n",
      "Iteration 79, loss = 1.31729355\n",
      "Iteration 80, loss = 1.31746888\n",
      "Iteration 81, loss = 1.31675691\n",
      "Iteration 82, loss = 1.31603909\n",
      "Iteration 83, loss = 1.31614895\n",
      "Iteration 84, loss = 1.31521504\n",
      "Iteration 85, loss = 1.31555832\n",
      "Iteration 86, loss = 1.31471069\n",
      "Iteration 87, loss = 1.31421313\n",
      "Iteration 88, loss = 1.31404054\n",
      "Iteration 89, loss = 1.31352027\n",
      "Iteration 90, loss = 1.31317010\n",
      "Iteration 91, loss = 1.31295815\n",
      "Iteration 92, loss = 1.31281804\n",
      "Iteration 93, loss = 1.31198329\n",
      "Iteration 94, loss = 1.31143888\n",
      "Iteration 95, loss = 1.31121802\n",
      "Iteration 96, loss = 1.31106805\n",
      "Iteration 97, loss = 1.31073684\n",
      "Iteration 98, loss = 1.31070983\n",
      "Iteration 99, loss = 1.30973711\n",
      "Iteration 100, loss = 1.30974592\n"
     ]
    },
    {
     "data": {
      "text/html": [
       "<style>#sk-container-id-1 {color: black;background-color: white;}#sk-container-id-1 pre{padding: 0;}#sk-container-id-1 div.sk-toggleable {background-color: white;}#sk-container-id-1 label.sk-toggleable__label {cursor: pointer;display: block;width: 100%;margin-bottom: 0;padding: 0.3em;box-sizing: border-box;text-align: center;}#sk-container-id-1 label.sk-toggleable__label-arrow:before {content: \"▸\";float: left;margin-right: 0.25em;color: #696969;}#sk-container-id-1 label.sk-toggleable__label-arrow:hover:before {color: black;}#sk-container-id-1 div.sk-estimator:hover label.sk-toggleable__label-arrow:before {color: black;}#sk-container-id-1 div.sk-toggleable__content {max-height: 0;max-width: 0;overflow: hidden;text-align: left;background-color: #f0f8ff;}#sk-container-id-1 div.sk-toggleable__content pre {margin: 0.2em;color: black;border-radius: 0.25em;background-color: #f0f8ff;}#sk-container-id-1 input.sk-toggleable__control:checked~div.sk-toggleable__content {max-height: 200px;max-width: 100%;overflow: auto;}#sk-container-id-1 input.sk-toggleable__control:checked~label.sk-toggleable__label-arrow:before {content: \"▾\";}#sk-container-id-1 div.sk-estimator input.sk-toggleable__control:checked~label.sk-toggleable__label {background-color: #d4ebff;}#sk-container-id-1 div.sk-label input.sk-toggleable__control:checked~label.sk-toggleable__label {background-color: #d4ebff;}#sk-container-id-1 input.sk-hidden--visually {border: 0;clip: rect(1px 1px 1px 1px);clip: rect(1px, 1px, 1px, 1px);height: 1px;margin: -1px;overflow: hidden;padding: 0;position: absolute;width: 1px;}#sk-container-id-1 div.sk-estimator {font-family: monospace;background-color: #f0f8ff;border: 1px dotted black;border-radius: 0.25em;box-sizing: border-box;margin-bottom: 0.5em;}#sk-container-id-1 div.sk-estimator:hover {background-color: #d4ebff;}#sk-container-id-1 div.sk-parallel-item::after {content: \"\";width: 100%;border-bottom: 1px solid gray;flex-grow: 1;}#sk-container-id-1 div.sk-label:hover label.sk-toggleable__label {background-color: #d4ebff;}#sk-container-id-1 div.sk-serial::before {content: \"\";position: absolute;border-left: 1px solid gray;box-sizing: border-box;top: 0;bottom: 0;left: 50%;z-index: 0;}#sk-container-id-1 div.sk-serial {display: flex;flex-direction: column;align-items: center;background-color: white;padding-right: 0.2em;padding-left: 0.2em;position: relative;}#sk-container-id-1 div.sk-item {position: relative;z-index: 1;}#sk-container-id-1 div.sk-parallel {display: flex;align-items: stretch;justify-content: center;background-color: white;position: relative;}#sk-container-id-1 div.sk-item::before, #sk-container-id-1 div.sk-parallel-item::before {content: \"\";position: absolute;border-left: 1px solid gray;box-sizing: border-box;top: 0;bottom: 0;left: 50%;z-index: -1;}#sk-container-id-1 div.sk-parallel-item {display: flex;flex-direction: column;z-index: 1;position: relative;background-color: white;}#sk-container-id-1 div.sk-parallel-item:first-child::after {align-self: flex-end;width: 50%;}#sk-container-id-1 div.sk-parallel-item:last-child::after {align-self: flex-start;width: 50%;}#sk-container-id-1 div.sk-parallel-item:only-child::after {width: 0;}#sk-container-id-1 div.sk-dashed-wrapped {border: 1px dashed gray;margin: 0 0.4em 0.5em 0.4em;box-sizing: border-box;padding-bottom: 0.4em;background-color: white;}#sk-container-id-1 div.sk-label label {font-family: monospace;font-weight: bold;display: inline-block;line-height: 1.2em;}#sk-container-id-1 div.sk-label-container {text-align: center;}#sk-container-id-1 div.sk-container {/* jupyter's `normalize.less` sets `[hidden] { display: none; }` but bootstrap.min.css set `[hidden] { display: none !important; }` so we also need the `!important` here to be able to override the default hidden behavior on the sphinx rendered scikit-learn.org. See: https://github.com/scikit-learn/scikit-learn/issues/21755 */display: inline-block !important;position: relative;}#sk-container-id-1 div.sk-text-repr-fallback {display: none;}</style><div id=\"sk-container-id-1\" class=\"sk-top-container\"><div class=\"sk-text-repr-fallback\"><pre>MLPClassifier(hidden_layer_sizes=(180, 120, 60), learning_rate=&#x27;adaptive&#x27;,\n",
       "              max_iter=100, verbose=True)</pre><b>In a Jupyter environment, please rerun this cell to show the HTML representation or trust the notebook. <br />On GitHub, the HTML representation is unable to render, please try loading this page with nbviewer.org.</b></div><div class=\"sk-container\" hidden><div class=\"sk-item\"><div class=\"sk-estimator sk-toggleable\"><input class=\"sk-toggleable__control sk-hidden--visually\" id=\"sk-estimator-id-1\" type=\"checkbox\" checked><label for=\"sk-estimator-id-1\" class=\"sk-toggleable__label sk-toggleable__label-arrow\">MLPClassifier</label><div class=\"sk-toggleable__content\"><pre>MLPClassifier(hidden_layer_sizes=(180, 120, 60), learning_rate=&#x27;adaptive&#x27;,\n",
       "              max_iter=100, verbose=True)</pre></div></div></div></div></div>"
      ],
      "text/plain": [
       "MLPClassifier(hidden_layer_sizes=(180, 120, 60), learning_rate='adaptive',\n",
       "              max_iter=100, verbose=True)"
      ]
     },
     "execution_count": 154,
     "metadata": {},
     "output_type": "execute_result"
    }
   ],
   "source": [
    "classifier_scdescr.fit(X_train, Y_train)"
   ]
  },
  {
   "cell_type": "code",
   "execution_count": 157,
   "metadata": {},
   "outputs": [
    {
     "data": {
      "text/plain": [
       "0.5648853357249459"
      ]
     },
     "execution_count": 157,
     "metadata": {},
     "output_type": "execute_result"
    }
   ],
   "source": [
    "prediction_new = classifier_scdescr.predict(X_test)\n",
    "accuracy_score(prediction_new, Y_test)"
   ]
  },
  {
   "cell_type": "code",
   "execution_count": null,
   "metadata": {},
   "outputs": [],
   "source": []
  }
 ],
 "metadata": {
  "colab": {
   "provenance": []
  },
  "gpuClass": "standard",
  "kernelspec": {
   "display_name": "Python 3",
   "language": "python",
   "name": "python3"
  },
  "language_info": {
   "codemirror_mode": {
    "name": "ipython",
    "version": 3
   },
   "file_extension": ".py",
   "mimetype": "text/x-python",
   "name": "python",
   "nbconvert_exporter": "python",
   "pygments_lexer": "ipython3",
   "version": "3.8.10"
  }
 },
 "nbformat": 4,
 "nbformat_minor": 1
}
