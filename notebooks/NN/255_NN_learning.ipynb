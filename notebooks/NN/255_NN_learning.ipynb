{
  "cells": [
    {
      "cell_type": "code",
      "execution_count": null,
      "metadata": {
        "colab": {
          "base_uri": "https://localhost:8080/"
        },
        "id": "4ZNDCB6kuNgF",
        "outputId": "dbdead88-8994-44a2-eaef-94eb25bf2b20"
      },
      "outputs": [
        {
          "name": "stdout",
          "output_type": "stream",
          "text": [
            "Mounted at /content/drive\n"
          ]
        }
      ],
      "source": [
        "import sqlite3\n",
        "import pandas as pd\n",
        "import matplotlib.pyplot as plt\n",
        "import numpy as np\n",
        "import warnings\n",
        "warnings.filterwarnings('ignore')\n",
        "from sklearn import tree, preprocessing\n",
        "import sklearn.ensemble as ske\n",
        "from sklearn.model_selection import train_test_split\n",
        "import matplotlib.pyplot as plt\n",
        "import seaborn as sns\n",
        "import altair as alt\n",
        "from sklearn.preprocessing import MinMaxScaler\n",
        "\n",
        "# Input data files are available in the \"../input/\" directory.\n",
        "\n",
        "from google.colab import drive\n",
        "drive.mount('/content/drive')"
      ]
    },
    {
      "cell_type": "code",
      "execution_count": null,
      "metadata": {
        "id": "0nUZ4amyuaXA"
      },
      "outputs": [],
      "source": [
        "test_data = pd.read_csv(\"/content/drive/MyDrive/255 Data/test.csv\")\n",
        "train_data = pd.read_csv(\"/content/drive/MyDrive/255 Data/train.csv\")"
      ]
    },
    {
      "cell_type": "code",
      "execution_count": null,
      "metadata": {
        "colab": {
          "base_uri": "https://localhost:8080/"
        },
        "id": "dv1pikFVwT-t",
        "outputId": "2e8ed901-e83c-4b7c-fd10-18fbfb9d94cd"
      },
      "outputs": [
        {
          "data": {
            "text/plain": [
              "OBJECTID                        int64\n",
              "FOD_ID                          int64\n",
              "FPA_ID                         object\n",
              "SOURCE_SYSTEM_TYPE             object\n",
              "SOURCE_SYSTEM                  object\n",
              "NWCG_REPORTING_AGENCY          object\n",
              "NWCG_REPORTING_UNIT_ID         object\n",
              "NWCG_REPORTING_UNIT_NAME       object\n",
              "SOURCE_REPORTING_UNIT          object\n",
              "SOURCE_REPORTING_UNIT_NAME     object\n",
              "FIRE_NAME                      object\n",
              "FIRE_YEAR                       int64\n",
              "DISCOVERY_DATE                float64\n",
              "DISCOVERY_DOY                   int64\n",
              "DISCOVERY_TIME                  int64\n",
              "STAT_CAUSE_CODE               float64\n",
              "STAT_CAUSE_DESCR               object\n",
              "CONT_DATE                     float64\n",
              "CONT_DOY                      float64\n",
              "CONT_TIME                       int64\n",
              "FIRE_SIZE                     float64\n",
              "FIRE_SIZE_CLASS                object\n",
              "LATITUDE                      float64\n",
              "LONGITUDE                     float64\n",
              "OWNER_CODE                    float64\n",
              "OWNER_DESCR                    object\n",
              "STATE                          object\n",
              "FIPS_NAME                      object\n",
              "Shape                          object\n",
              "FIRE_SIZE_SCALED              float64\n",
              "dtype: object"
            ]
          },
          "execution_count": 3,
          "metadata": {},
          "output_type": "execute_result"
        }
      ],
      "source": [
        "train_data.dtypes"
      ]
    },
    {
      "cell_type": "code",
      "execution_count": null,
      "metadata": {
        "colab": {
          "base_uri": "https://localhost:8080/",
          "height": 369
        },
        "id": "Xmsj2oJSwe2m",
        "outputId": "e02687ef-c137-45b4-d31d-35bfbed6f1b8"
      },
      "outputs": [
        {
          "data": {
            "text/html": [
              "\n",
              "  <div id=\"df-2b1ecdd6-0c9b-40ad-808e-7363de45cdd9\">\n",
              "    <div class=\"colab-df-container\">\n",
              "      <div>\n",
              "<style scoped>\n",
              "    .dataframe tbody tr th:only-of-type {\n",
              "        vertical-align: middle;\n",
              "    }\n",
              "\n",
              "    .dataframe tbody tr th {\n",
              "        vertical-align: top;\n",
              "    }\n",
              "\n",
              "    .dataframe thead th {\n",
              "        text-align: right;\n",
              "    }\n",
              "</style>\n",
              "<table border=\"1\" class=\"dataframe\">\n",
              "  <thead>\n",
              "    <tr style=\"text-align: right;\">\n",
              "      <th></th>\n",
              "      <th>OBJECTID</th>\n",
              "      <th>FOD_ID</th>\n",
              "      <th>FPA_ID</th>\n",
              "      <th>SOURCE_SYSTEM_TYPE</th>\n",
              "      <th>SOURCE_SYSTEM</th>\n",
              "      <th>NWCG_REPORTING_AGENCY</th>\n",
              "      <th>NWCG_REPORTING_UNIT_ID</th>\n",
              "      <th>NWCG_REPORTING_UNIT_NAME</th>\n",
              "      <th>SOURCE_REPORTING_UNIT</th>\n",
              "      <th>SOURCE_REPORTING_UNIT_NAME</th>\n",
              "      <th>...</th>\n",
              "      <th>FIRE_SIZE</th>\n",
              "      <th>FIRE_SIZE_CLASS</th>\n",
              "      <th>LATITUDE</th>\n",
              "      <th>LONGITUDE</th>\n",
              "      <th>OWNER_CODE</th>\n",
              "      <th>OWNER_DESCR</th>\n",
              "      <th>STATE</th>\n",
              "      <th>FIPS_NAME</th>\n",
              "      <th>Shape</th>\n",
              "      <th>FIRE_SIZE_SCALED</th>\n",
              "    </tr>\n",
              "  </thead>\n",
              "  <tbody>\n",
              "    <tr>\n",
              "      <th>416612</th>\n",
              "      <td>282886</td>\n",
              "      <td>288290</td>\n",
              "      <td>W-537502</td>\n",
              "      <td>FED</td>\n",
              "      <td>DOI-WFMI</td>\n",
              "      <td>BIA</td>\n",
              "      <td>USCAHIA</td>\n",
              "      <td>Hoopa Valley Tribe</td>\n",
              "      <td>CAHIA</td>\n",
              "      <td>Hoopa Valley Tribe</td>\n",
              "      <td>...</td>\n",
              "      <td>0.1</td>\n",
              "      <td>A</td>\n",
              "      <td>41.036500</td>\n",
              "      <td>-123.701200</td>\n",
              "      <td>2.0</td>\n",
              "      <td>BIA</td>\n",
              "      <td>CA</td>\n",
              "      <td>Unknown</td>\n",
              "      <td>b'\\x00\\x01\\xad\\x10\\x00\\x00 \\xfd\\xf6u\\xe0\\xec^\\...</td>\n",
              "      <td>1.647431e-07</td>\n",
              "    </tr>\n",
              "    <tr>\n",
              "      <th>640879</th>\n",
              "      <td>1642365</td>\n",
              "      <td>201767039</td>\n",
              "      <td>FS-1519062</td>\n",
              "      <td>FED</td>\n",
              "      <td>FS-FIRESTAT</td>\n",
              "      <td>FS</td>\n",
              "      <td>USAZCNF</td>\n",
              "      <td>Coronado National Forest</td>\n",
              "      <td>0305</td>\n",
              "      <td>Coronado National Forest</td>\n",
              "      <td>...</td>\n",
              "      <td>161.0</td>\n",
              "      <td>D</td>\n",
              "      <td>31.464722</td>\n",
              "      <td>-111.203889</td>\n",
              "      <td>5.0</td>\n",
              "      <td>USFS</td>\n",
              "      <td>AZ</td>\n",
              "      <td>Santa Cruz</td>\n",
              "      <td>b'\\x00\\x01\\xad\\x10\\x00\\x00T\\xa4\\xfc\\x83\\x0c\\xc...</td>\n",
              "      <td>2.652629e-04</td>\n",
              "    </tr>\n",
              "    <tr>\n",
              "      <th>396598</th>\n",
              "      <td>210420</td>\n",
              "      <td>213388</td>\n",
              "      <td>W-36577</td>\n",
              "      <td>FED</td>\n",
              "      <td>DOI-WFMI</td>\n",
              "      <td>BLM</td>\n",
              "      <td>USAKASO</td>\n",
              "      <td>Alaska State Office</td>\n",
              "      <td>AKAFS</td>\n",
              "      <td>Alaska Fire Service</td>\n",
              "      <td>...</td>\n",
              "      <td>0.1</td>\n",
              "      <td>A</td>\n",
              "      <td>64.632600</td>\n",
              "      <td>-160.635900</td>\n",
              "      <td>1.0</td>\n",
              "      <td>BLM</td>\n",
              "      <td>AK</td>\n",
              "      <td>Unknown</td>\n",
              "      <td>b'\\x00\\x01\\xad\\x10\\x00\\x00\\xd7\\xf0\\xf4JY\\x14d\\...</td>\n",
              "      <td>1.647431e-07</td>\n",
              "    </tr>\n",
              "    <tr>\n",
              "      <th>237119</th>\n",
              "      <td>235284</td>\n",
              "      <td>239455</td>\n",
              "      <td>W-2726</td>\n",
              "      <td>FED</td>\n",
              "      <td>DOI-WFMI</td>\n",
              "      <td>BLM</td>\n",
              "      <td>USUTCCD</td>\n",
              "      <td>Cedar City Field Office</td>\n",
              "      <td>UTCCD</td>\n",
              "      <td>Cedar City Field Office</td>\n",
              "      <td>...</td>\n",
              "      <td>1226.0</td>\n",
              "      <td>F</td>\n",
              "      <td>38.329130</td>\n",
              "      <td>-113.904150</td>\n",
              "      <td>1.0</td>\n",
              "      <td>BLM</td>\n",
              "      <td>UT</td>\n",
              "      <td>Beaver</td>\n",
              "      <td>b'\\x00\\x01\\xad\\x10\\x00\\x00h+\\xf6\\x97\\xddy\\\\\\xc...</td>\n",
              "      <td>2.019952e-03</td>\n",
              "    </tr>\n",
              "    <tr>\n",
              "      <th>170514</th>\n",
              "      <td>257845</td>\n",
              "      <td>262882</td>\n",
              "      <td>W-329577</td>\n",
              "      <td>FED</td>\n",
              "      <td>DOI-WFMI</td>\n",
              "      <td>BIA</td>\n",
              "      <td>USNDTMA</td>\n",
              "      <td>Turtle Mountain Agency</td>\n",
              "      <td>NDTMA</td>\n",
              "      <td>Turtle Mountain Agency</td>\n",
              "      <td>...</td>\n",
              "      <td>0.5</td>\n",
              "      <td>B</td>\n",
              "      <td>48.836400</td>\n",
              "      <td>-99.801300</td>\n",
              "      <td>2.0</td>\n",
              "      <td>BIA</td>\n",
              "      <td>ND</td>\n",
              "      <td>Unknown</td>\n",
              "      <td>b\"\\x00\\x01\\xad\\x10\\x00\\x008\\x92\\xcb\\x7fH\\xf3X\\...</td>\n",
              "      <td>8.237814e-07</td>\n",
              "    </tr>\n",
              "  </tbody>\n",
              "</table>\n",
              "<p>5 rows × 30 columns</p>\n",
              "</div>\n",
              "      <button class=\"colab-df-convert\" onclick=\"convertToInteractive('df-2b1ecdd6-0c9b-40ad-808e-7363de45cdd9')\"\n",
              "              title=\"Convert this dataframe to an interactive table.\"\n",
              "              style=\"display:none;\">\n",
              "        \n",
              "  <svg xmlns=\"http://www.w3.org/2000/svg\" height=\"24px\"viewBox=\"0 0 24 24\"\n",
              "       width=\"24px\">\n",
              "    <path d=\"M0 0h24v24H0V0z\" fill=\"none\"/>\n",
              "    <path d=\"M18.56 5.44l.94 2.06.94-2.06 2.06-.94-2.06-.94-.94-2.06-.94 2.06-2.06.94zm-11 1L8.5 8.5l.94-2.06 2.06-.94-2.06-.94L8.5 2.5l-.94 2.06-2.06.94zm10 10l.94 2.06.94-2.06 2.06-.94-2.06-.94-.94-2.06-.94 2.06-2.06.94z\"/><path d=\"M17.41 7.96l-1.37-1.37c-.4-.4-.92-.59-1.43-.59-.52 0-1.04.2-1.43.59L10.3 9.45l-7.72 7.72c-.78.78-.78 2.05 0 2.83L4 21.41c.39.39.9.59 1.41.59.51 0 1.02-.2 1.41-.59l7.78-7.78 2.81-2.81c.8-.78.8-2.07 0-2.86zM5.41 20L4 18.59l7.72-7.72 1.47 1.35L5.41 20z\"/>\n",
              "  </svg>\n",
              "      </button>\n",
              "      \n",
              "  <style>\n",
              "    .colab-df-container {\n",
              "      display:flex;\n",
              "      flex-wrap:wrap;\n",
              "      gap: 12px;\n",
              "    }\n",
              "\n",
              "    .colab-df-convert {\n",
              "      background-color: #E8F0FE;\n",
              "      border: none;\n",
              "      border-radius: 50%;\n",
              "      cursor: pointer;\n",
              "      display: none;\n",
              "      fill: #1967D2;\n",
              "      height: 32px;\n",
              "      padding: 0 0 0 0;\n",
              "      width: 32px;\n",
              "    }\n",
              "\n",
              "    .colab-df-convert:hover {\n",
              "      background-color: #E2EBFA;\n",
              "      box-shadow: 0px 1px 2px rgba(60, 64, 67, 0.3), 0px 1px 3px 1px rgba(60, 64, 67, 0.15);\n",
              "      fill: #174EA6;\n",
              "    }\n",
              "\n",
              "    [theme=dark] .colab-df-convert {\n",
              "      background-color: #3B4455;\n",
              "      fill: #D2E3FC;\n",
              "    }\n",
              "\n",
              "    [theme=dark] .colab-df-convert:hover {\n",
              "      background-color: #434B5C;\n",
              "      box-shadow: 0px 1px 3px 1px rgba(0, 0, 0, 0.15);\n",
              "      filter: drop-shadow(0px 1px 2px rgba(0, 0, 0, 0.3));\n",
              "      fill: #FFFFFF;\n",
              "    }\n",
              "  </style>\n",
              "\n",
              "      <script>\n",
              "        const buttonEl =\n",
              "          document.querySelector('#df-2b1ecdd6-0c9b-40ad-808e-7363de45cdd9 button.colab-df-convert');\n",
              "        buttonEl.style.display =\n",
              "          google.colab.kernel.accessAllowed ? 'block' : 'none';\n",
              "\n",
              "        async function convertToInteractive(key) {\n",
              "          const element = document.querySelector('#df-2b1ecdd6-0c9b-40ad-808e-7363de45cdd9');\n",
              "          const dataTable =\n",
              "            await google.colab.kernel.invokeFunction('convertToInteractive',\n",
              "                                                     [key], {});\n",
              "          if (!dataTable) return;\n",
              "\n",
              "          const docLinkHtml = 'Like what you see? Visit the ' +\n",
              "            '<a target=\"_blank\" href=https://colab.research.google.com/notebooks/data_table.ipynb>data table notebook</a>'\n",
              "            + ' to learn more about interactive tables.';\n",
              "          element.innerHTML = '';\n",
              "          dataTable['output_type'] = 'display_data';\n",
              "          await google.colab.output.renderOutput(dataTable, element);\n",
              "          const docLink = document.createElement('div');\n",
              "          docLink.innerHTML = docLinkHtml;\n",
              "          element.appendChild(docLink);\n",
              "        }\n",
              "      </script>\n",
              "    </div>\n",
              "  </div>\n",
              "  "
            ],
            "text/plain": [
              "        OBJECTID     FOD_ID      FPA_ID SOURCE_SYSTEM_TYPE SOURCE_SYSTEM  \\\n",
              "416612    282886     288290    W-537502                FED      DOI-WFMI   \n",
              "640879   1642365  201767039  FS-1519062                FED   FS-FIRESTAT   \n",
              "396598    210420     213388     W-36577                FED      DOI-WFMI   \n",
              "237119    235284     239455      W-2726                FED      DOI-WFMI   \n",
              "170514    257845     262882    W-329577                FED      DOI-WFMI   \n",
              "\n",
              "       NWCG_REPORTING_AGENCY NWCG_REPORTING_UNIT_ID  NWCG_REPORTING_UNIT_NAME  \\\n",
              "416612                   BIA                USCAHIA        Hoopa Valley Tribe   \n",
              "640879                    FS                USAZCNF  Coronado National Forest   \n",
              "396598                   BLM                USAKASO       Alaska State Office   \n",
              "237119                   BLM                USUTCCD   Cedar City Field Office   \n",
              "170514                   BIA                USNDTMA    Turtle Mountain Agency   \n",
              "\n",
              "       SOURCE_REPORTING_UNIT SOURCE_REPORTING_UNIT_NAME  ... FIRE_SIZE  \\\n",
              "416612                 CAHIA         Hoopa Valley Tribe  ...       0.1   \n",
              "640879                  0305   Coronado National Forest  ...     161.0   \n",
              "396598                 AKAFS        Alaska Fire Service  ...       0.1   \n",
              "237119                 UTCCD    Cedar City Field Office  ...    1226.0   \n",
              "170514                 NDTMA     Turtle Mountain Agency  ...       0.5   \n",
              "\n",
              "        FIRE_SIZE_CLASS   LATITUDE   LONGITUDE  OWNER_CODE  OWNER_DESCR STATE  \\\n",
              "416612                A  41.036500 -123.701200         2.0          BIA    CA   \n",
              "640879                D  31.464722 -111.203889         5.0         USFS    AZ   \n",
              "396598                A  64.632600 -160.635900         1.0          BLM    AK   \n",
              "237119                F  38.329130 -113.904150         1.0          BLM    UT   \n",
              "170514                B  48.836400  -99.801300         2.0          BIA    ND   \n",
              "\n",
              "         FIPS_NAME                                              Shape  \\\n",
              "416612     Unknown  b'\\x00\\x01\\xad\\x10\\x00\\x00 \\xfd\\xf6u\\xe0\\xec^\\...   \n",
              "640879  Santa Cruz  b'\\x00\\x01\\xad\\x10\\x00\\x00T\\xa4\\xfc\\x83\\x0c\\xc...   \n",
              "396598     Unknown  b'\\x00\\x01\\xad\\x10\\x00\\x00\\xd7\\xf0\\xf4JY\\x14d\\...   \n",
              "237119      Beaver  b'\\x00\\x01\\xad\\x10\\x00\\x00h+\\xf6\\x97\\xddy\\\\\\xc...   \n",
              "170514     Unknown  b\"\\x00\\x01\\xad\\x10\\x00\\x008\\x92\\xcb\\x7fH\\xf3X\\...   \n",
              "\n",
              "        FIRE_SIZE_SCALED  \n",
              "416612      1.647431e-07  \n",
              "640879      2.652629e-04  \n",
              "396598      1.647431e-07  \n",
              "237119      2.019952e-03  \n",
              "170514      8.237814e-07  \n",
              "\n",
              "[5 rows x 30 columns]"
            ]
          },
          "execution_count": 4,
          "metadata": {},
          "output_type": "execute_result"
        }
      ],
      "source": [
        "train_data.sample(5)"
      ]
    },
    {
      "cell_type": "code",
      "execution_count": null,
      "metadata": {
        "id": "H5IYDSjO_dYU"
      },
      "outputs": [],
      "source": []
    },
    {
      "cell_type": "code",
      "execution_count": null,
      "metadata": {
        "id": "ayMPB_UY6EY1"
      },
      "outputs": [],
      "source": [
        "from sklearn.preprocessing import MinMaxScaler, StandardScaler,LabelEncoder\n",
        "\n",
        "def get_labels_encoded(mydata):\n",
        "  mydata = mydata.apply(LabelEncoder().fit_transform)\n",
        "  return mydata\n",
        "\n",
        "train_data = get_labels_encoded(train_data)\n",
        "test_data = get_labels_encoded(test_data)"
      ]
    },
    {
      "cell_type": "code",
      "execution_count": null,
      "metadata": {
        "colab": {
          "base_uri": "https://localhost:8080/"
        },
        "id": "geHrbM2X_icp",
        "outputId": "8002e7b8-b608-4ef5-93ce-d7f63bf3b1ca"
      },
      "outputs": [
        {
          "name": "stdout",
          "output_type": "stream",
          "text": [
            "Train DTypes:  OBJECTID                      int64\n",
            "FOD_ID                        int64\n",
            "FPA_ID                        int64\n",
            "SOURCE_SYSTEM_TYPE            int64\n",
            "SOURCE_SYSTEM                 int64\n",
            "NWCG_REPORTING_AGENCY         int64\n",
            "NWCG_REPORTING_UNIT_ID        int64\n",
            "NWCG_REPORTING_UNIT_NAME      int64\n",
            "SOURCE_REPORTING_UNIT         int64\n",
            "SOURCE_REPORTING_UNIT_NAME    int64\n",
            "FIRE_NAME                     int64\n",
            "FIRE_YEAR                     int64\n",
            "DISCOVERY_DATE                int64\n",
            "DISCOVERY_DOY                 int64\n",
            "DISCOVERY_TIME                int64\n",
            "STAT_CAUSE_CODE               int64\n",
            "STAT_CAUSE_DESCR              int64\n",
            "CONT_DATE                     int64\n",
            "CONT_DOY                      int64\n",
            "CONT_TIME                     int64\n",
            "FIRE_SIZE                     int64\n",
            "FIRE_SIZE_CLASS               int64\n",
            "LATITUDE                      int64\n",
            "LONGITUDE                     int64\n",
            "OWNER_CODE                    int64\n",
            "OWNER_DESCR                   int64\n",
            "STATE                         int64\n",
            "FIPS_NAME                     int64\n",
            "Shape                         int64\n",
            "FIRE_SIZE_SCALED              int64\n",
            "dtype: object\n",
            "Test DTypes:  OBJECTID                      int64\n",
            "FOD_ID                        int64\n",
            "FPA_ID                        int64\n",
            "SOURCE_SYSTEM_TYPE            int64\n",
            "SOURCE_SYSTEM                 int64\n",
            "NWCG_REPORTING_AGENCY         int64\n",
            "NWCG_REPORTING_UNIT_ID        int64\n",
            "NWCG_REPORTING_UNIT_NAME      int64\n",
            "SOURCE_REPORTING_UNIT         int64\n",
            "SOURCE_REPORTING_UNIT_NAME    int64\n",
            "FIRE_NAME                     int64\n",
            "FIRE_YEAR                     int64\n",
            "DISCOVERY_DATE                int64\n",
            "DISCOVERY_DOY                 int64\n",
            "DISCOVERY_TIME                int64\n",
            "STAT_CAUSE_CODE               int64\n",
            "STAT_CAUSE_DESCR              int64\n",
            "CONT_DATE                     int64\n",
            "CONT_DOY                      int64\n",
            "CONT_TIME                     int64\n",
            "FIRE_SIZE                     int64\n",
            "FIRE_SIZE_CLASS               int64\n",
            "LATITUDE                      int64\n",
            "LONGITUDE                     int64\n",
            "OWNER_CODE                    int64\n",
            "OWNER_DESCR                   int64\n",
            "STATE                         int64\n",
            "FIPS_NAME                     int64\n",
            "Shape                         int64\n",
            "FIRE_SIZE_SCALED              int64\n",
            "dtype: object\n"
          ]
        }
      ],
      "source": [
        "print(\"Train DTypes: \", train_data.dtypes)\n",
        "print(\"Test DTypes: \", test_data.dtypes)"
      ]
    },
    {
      "cell_type": "code",
      "execution_count": null,
      "metadata": {
        "id": "qq7hSy0h_m3_"
      },
      "outputs": [],
      "source": [
        "from sklearn.neural_network import MLPClassifier\n",
        "from sklearn.model_selection import train_test_split\n",
        "\n",
        "mlp_classifier = MLPClassifier(\n",
        "    hidden_layer_sizes=(8,8,8),\n",
        "    activation=\"relu\",\n",
        "    solver=\"adam\",\n",
        "    max_iter=500\n",
        ")"
      ]
    },
    {
      "cell_type": "code",
      "execution_count": null,
      "metadata": {
        "id": "83fFTnATA6lj"
      },
      "outputs": [],
      "source": [
        "X = train_data.drop([\"STATE\"], axis=1)\n",
        "y = train_data[\"STATE\"]"
      ]
    },
    {
      "cell_type": "code",
      "execution_count": null,
      "metadata": {
        "colab": {
          "base_uri": "https://localhost:8080/"
        },
        "id": "mTn4U9f-A8RC",
        "outputId": "9a118b44-30ac-4ec4-fc35-a6a5a8da4cd9"
      },
      "outputs": [
        {
          "data": {
            "text/plain": [
              "(713605, 29)"
            ]
          },
          "execution_count": 9,
          "metadata": {},
          "output_type": "execute_result"
        }
      ],
      "source": [
        "X.shape"
      ]
    },
    {
      "cell_type": "code",
      "execution_count": null,
      "metadata": {
        "colab": {
          "base_uri": "https://localhost:8080/"
        },
        "id": "PnfnWyEOBCj0",
        "outputId": "471693b6-3014-481b-dcdf-70fab0d4f9c1"
      },
      "outputs": [
        {
          "data": {
            "text/plain": [
              "(713605,)"
            ]
          },
          "execution_count": 10,
          "metadata": {},
          "output_type": "execute_result"
        }
      ],
      "source": [
        "y.shape"
      ]
    },
    {
      "cell_type": "code",
      "execution_count": null,
      "metadata": {
        "id": "SMpGGpFnBD45"
      },
      "outputs": [],
      "source": [
        "X_train, X_test, Y_train, Y_test = train_test_split(X, y, test_size=0.30, random_state=40)"
      ]
    },
    {
      "cell_type": "code",
      "execution_count": null,
      "metadata": {
        "colab": {
          "background_save": true
        },
        "id": "xnshiSDXBH2u",
        "outputId": "dcbf1cad-1659-4215-b1aa-dc4629872b0f"
      },
      "outputs": [
        {
          "data": {
            "text/html": [
              "<style>#sk-container-id-1 {color: black;background-color: white;}#sk-container-id-1 pre{padding: 0;}#sk-container-id-1 div.sk-toggleable {background-color: white;}#sk-container-id-1 label.sk-toggleable__label {cursor: pointer;display: block;width: 100%;margin-bottom: 0;padding: 0.3em;box-sizing: border-box;text-align: center;}#sk-container-id-1 label.sk-toggleable__label-arrow:before {content: \"▸\";float: left;margin-right: 0.25em;color: #696969;}#sk-container-id-1 label.sk-toggleable__label-arrow:hover:before {color: black;}#sk-container-id-1 div.sk-estimator:hover label.sk-toggleable__label-arrow:before {color: black;}#sk-container-id-1 div.sk-toggleable__content {max-height: 0;max-width: 0;overflow: hidden;text-align: left;background-color: #f0f8ff;}#sk-container-id-1 div.sk-toggleable__content pre {margin: 0.2em;color: black;border-radius: 0.25em;background-color: #f0f8ff;}#sk-container-id-1 input.sk-toggleable__control:checked~div.sk-toggleable__content {max-height: 200px;max-width: 100%;overflow: auto;}#sk-container-id-1 input.sk-toggleable__control:checked~label.sk-toggleable__label-arrow:before {content: \"▾\";}#sk-container-id-1 div.sk-estimator input.sk-toggleable__control:checked~label.sk-toggleable__label {background-color: #d4ebff;}#sk-container-id-1 div.sk-label input.sk-toggleable__control:checked~label.sk-toggleable__label {background-color: #d4ebff;}#sk-container-id-1 input.sk-hidden--visually {border: 0;clip: rect(1px 1px 1px 1px);clip: rect(1px, 1px, 1px, 1px);height: 1px;margin: -1px;overflow: hidden;padding: 0;position: absolute;width: 1px;}#sk-container-id-1 div.sk-estimator {font-family: monospace;background-color: #f0f8ff;border: 1px dotted black;border-radius: 0.25em;box-sizing: border-box;margin-bottom: 0.5em;}#sk-container-id-1 div.sk-estimator:hover {background-color: #d4ebff;}#sk-container-id-1 div.sk-parallel-item::after {content: \"\";width: 100%;border-bottom: 1px solid gray;flex-grow: 1;}#sk-container-id-1 div.sk-label:hover label.sk-toggleable__label {background-color: #d4ebff;}#sk-container-id-1 div.sk-serial::before {content: \"\";position: absolute;border-left: 1px solid gray;box-sizing: border-box;top: 0;bottom: 0;left: 50%;z-index: 0;}#sk-container-id-1 div.sk-serial {display: flex;flex-direction: column;align-items: center;background-color: white;padding-right: 0.2em;padding-left: 0.2em;position: relative;}#sk-container-id-1 div.sk-item {position: relative;z-index: 1;}#sk-container-id-1 div.sk-parallel {display: flex;align-items: stretch;justify-content: center;background-color: white;position: relative;}#sk-container-id-1 div.sk-item::before, #sk-container-id-1 div.sk-parallel-item::before {content: \"\";position: absolute;border-left: 1px solid gray;box-sizing: border-box;top: 0;bottom: 0;left: 50%;z-index: -1;}#sk-container-id-1 div.sk-parallel-item {display: flex;flex-direction: column;z-index: 1;position: relative;background-color: white;}#sk-container-id-1 div.sk-parallel-item:first-child::after {align-self: flex-end;width: 50%;}#sk-container-id-1 div.sk-parallel-item:last-child::after {align-self: flex-start;width: 50%;}#sk-container-id-1 div.sk-parallel-item:only-child::after {width: 0;}#sk-container-id-1 div.sk-dashed-wrapped {border: 1px dashed gray;margin: 0 0.4em 0.5em 0.4em;box-sizing: border-box;padding-bottom: 0.4em;background-color: white;}#sk-container-id-1 div.sk-label label {font-family: monospace;font-weight: bold;display: inline-block;line-height: 1.2em;}#sk-container-id-1 div.sk-label-container {text-align: center;}#sk-container-id-1 div.sk-container {/* jupyter's `normalize.less` sets `[hidden] { display: none; }` but bootstrap.min.css set `[hidden] { display: none !important; }` so we also need the `!important` here to be able to override the default hidden behavior on the sphinx rendered scikit-learn.org. See: https://github.com/scikit-learn/scikit-learn/issues/21755 */display: inline-block !important;position: relative;}#sk-container-id-1 div.sk-text-repr-fallback {display: none;}</style><div id=\"sk-container-id-1\" class=\"sk-top-container\"><div class=\"sk-text-repr-fallback\"><pre>MLPClassifier(hidden_layer_sizes=(8, 8, 8), max_iter=500)</pre><b>In a Jupyter environment, please rerun this cell to show the HTML representation or trust the notebook. <br />On GitHub, the HTML representation is unable to render, please try loading this page with nbviewer.org.</b></div><div class=\"sk-container\" hidden><div class=\"sk-item\"><div class=\"sk-estimator sk-toggleable\"><input class=\"sk-toggleable__control sk-hidden--visually\" id=\"sk-estimator-id-1\" type=\"checkbox\" checked><label for=\"sk-estimator-id-1\" class=\"sk-toggleable__label sk-toggleable__label-arrow\">MLPClassifier</label><div class=\"sk-toggleable__content\"><pre>MLPClassifier(hidden_layer_sizes=(8, 8, 8), max_iter=500)</pre></div></div></div></div></div>"
            ],
            "text/plain": [
              "MLPClassifier(hidden_layer_sizes=(8, 8, 8), max_iter=500)"
            ]
          },
          "execution_count": 12,
          "metadata": {},
          "output_type": "execute_result"
        }
      ],
      "source": [
        "mlp_classifier.fit(X_train, Y_train)"
      ]
    },
    {
      "cell_type": "code",
      "execution_count": null,
      "metadata": {
        "colab": {
          "background_save": true
        },
        "id": "nWnlcYAkBNt-"
      },
      "outputs": [],
      "source": [
        "predict_test = mlp_classifier.predict(X_test)"
      ]
    },
    {
      "cell_type": "code",
      "execution_count": null,
      "metadata": {
        "colab": {
          "background_save": true
        },
        "id": "x91RamSCB1BN",
        "outputId": "3524c704-c115-4078-96e7-a0d351052f2b"
      },
      "outputs": [
        {
          "data": {
            "text/plain": [
              "(214082,)"
            ]
          },
          "execution_count": 14,
          "metadata": {},
          "output_type": "execute_result"
        }
      ],
      "source": [
        "predict_test.shape"
      ]
    },
    {
      "cell_type": "code",
      "execution_count": null,
      "metadata": {
        "colab": {
          "background_save": true
        },
        "id": "MSg0ytbLB447",
        "outputId": "f2af86cf-62b2-4be3-aa20-923d8db72f39"
      },
      "outputs": [
        {
          "data": {
            "text/plain": [
              "(214082,)"
            ]
          },
          "execution_count": 15,
          "metadata": {},
          "output_type": "execute_result"
        }
      ],
      "source": [
        "Y_test.shape"
      ]
    },
    {
      "cell_type": "code",
      "execution_count": null,
      "metadata": {
        "colab": {
          "background_save": true
        },
        "id": "Hde8ZDiWBkEq",
        "outputId": "2e59dc8e-b508-45d3-a344-4b4abb93cc46"
      },
      "outputs": [
        {
          "data": {
            "text/plain": [
              "0.11056511056511056"
            ]
          },
          "execution_count": 16,
          "metadata": {},
          "output_type": "execute_result"
        }
      ],
      "source": [
        "from sklearn.metrics import accuracy_score\n",
        "\n",
        "accuracy_score(Y_test, predict_test)"
      ]
    },
    {
      "cell_type": "code",
      "execution_count": null,
      "metadata": {
        "colab": {
          "background_save": true
        },
        "id": "iTXVVkuhB4Ro"
      },
      "outputs": [],
      "source": [
        "## 2nd try with curated columns\n",
        "\n",
        "good_cols = [\"FIRE_YEAR\",\"DISCOVERY_DOY\",\"DISCOVERY_TIME\",\"CONT_DOY\",\"CONT_TIME\",\"STAT_CAUSE_CODE\",\n",
        "                  \"STAT_CAUSE_DESCR\",\"FIRE_SIZE\",\"LATITUDE\",\"LONGITUDE\",\"STATE\",\"FIPS_NAME\",\n",
        "                  \"DISCOVERY_DATE\"]\n",
        "df_interest = train_data[good_cols]"
      ]
    },
    {
      "cell_type": "code",
      "execution_count": null,
      "metadata": {
        "colab": {
          "background_save": true
        },
        "id": "K9p9NBxyB0Rv",
        "outputId": "ab141a9c-559b-49fb-ee9d-8429f0448f93"
      },
      "outputs": [
        {
          "data": {
            "text/plain": [
              "FIRE_YEAR           int64\n",
              "DISCOVERY_DOY       int64\n",
              "DISCOVERY_TIME      int64\n",
              "CONT_DOY            int64\n",
              "CONT_TIME           int64\n",
              "STAT_CAUSE_CODE     int64\n",
              "STAT_CAUSE_DESCR    int64\n",
              "FIRE_SIZE           int64\n",
              "LATITUDE            int64\n",
              "LONGITUDE           int64\n",
              "STATE               int64\n",
              "FIPS_NAME           int64\n",
              "DISCOVERY_DATE      int64\n",
              "dtype: object"
            ]
          },
          "execution_count": 18,
          "metadata": {},
          "output_type": "execute_result"
        }
      ],
      "source": [
        "df_interest.dtypes"
      ]
    },
    {
      "cell_type": "code",
      "execution_count": 38,
      "metadata": {
        "id": "iMeoHwMdBoEA"
      },
      "outputs": [],
      "source": [
        "X = df_interest.drop([\"STATE\"], axis=1)\n",
        "y = df_interest[\"STATE\"]\n",
        "X_train, X_test, Y_train, Y_test = train_test_split(X, y, test_size=0.20, random_state=40)"
      ]
    },
    {
      "cell_type": "code",
      "execution_count": null,
      "metadata": {
        "id": "KzUUuXQhDBkd"
      },
      "outputs": [],
      "source": [
        "mlp_classifier = MLPClassifier(\n",
        "    hidden_layer_sizes=(120,120,120),\n",
        "    activation=\"relu\",\n",
        "    solver=\"adam\",\n",
        "    max_iter=1000000\n",
        ")\n",
        "mlp_classifier.fit(X_train, Y_train)"
      ]
    },
    {
      "cell_type": "code",
      "execution_count": 36,
      "metadata": {
        "id": "50x3beQ5DJLh",
        "colab": {
          "base_uri": "https://localhost:8080/"
        },
        "outputId": "affdb1da-4b5f-4263-b8bf-bb1c48931b4d"
      },
      "outputs": [
        {
          "output_type": "execute_result",
          "data": {
            "text/plain": [
              "0.24835868582759368"
            ]
          },
          "metadata": {},
          "execution_count": 36
        }
      ],
      "source": [
        "predict_test = mlp_classifier.predict(X_test)\n",
        "accuracy_score(Y_test, predict_test)"
      ]
    },
    {
      "cell_type": "code",
      "execution_count": 37,
      "metadata": {
        "id": "BkqkitPxDiiu",
        "colab": {
          "base_uri": "https://localhost:8080/"
        },
        "outputId": "b2fe1101-d4ee-4778-e783-1abd6726fcf1"
      },
      "outputs": [
        {
          "output_type": "execute_result",
          "data": {
            "text/plain": [
              "0.24581175860595147"
            ]
          },
          "metadata": {},
          "execution_count": 37
        }
      ],
      "source": [
        "predict_train = mlp_classifier.predict(X_train)\n",
        "accuracy_score(Y_train, predict_train)"
      ]
    },
    {
      "cell_type": "code",
      "source": [],
      "metadata": {
        "id": "Rj_LRHXkILx0"
      },
      "execution_count": null,
      "outputs": []
    }
  ],
  "metadata": {
    "colab": {
      "provenance": []
    },
    "gpuClass": "standard",
    "kernelspec": {
      "display_name": "Python 3",
      "name": "python3"
    },
    "language_info": {
      "name": "python"
    }
  },
  "nbformat": 4,
  "nbformat_minor": 0
}