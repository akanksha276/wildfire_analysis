{
 "cells": [
  {
   "cell_type": "code",
   "execution_count": 2,
   "id": "a9ef6d0c",
   "metadata": {},
   "outputs": [],
   "source": [
    "import pandas as pd\n",
    "from sklearn.preprocessing import MinMaxScaler\n",
    "from sklearn.compose import ColumnTransformer"
   ]
  },
  {
   "cell_type": "code",
   "execution_count": null,
   "id": "9afc2948",
   "metadata": {},
   "outputs": [],
   "source": [
    "sql5 = \"select * from fires;\"\n",
    "df_for_standardization = pd.read_sql_query(sql5, conn)\n",
    "df_for_standardization.sample(100)"
   ]
  },
  {
   "cell_type": "code",
   "execution_count": null,
   "id": "831a1b85",
   "metadata": {},
   "outputs": [],
   "source": [
    "# Normalize using MinMaxScaler\n",
    "scaled_features = df_for_standardization.copy()\n",
    "col_names = ['FIRE_SIZE']\n",
    "features = scaled_features[col_names]\n",
    "scaler = MinMaxScaler().fit(features.values)\n",
    "features = scaler.transform(features.values)\n",
    "scaled_features[col_names] = features\n",
    "print(scaled_features.sample(10))\n",
    "\n",
    "print(scaled_features.describe())"
   ]
  }
 ],
 "metadata": {
  "kernelspec": {
   "display_name": "Python 3 (ipykernel)",
   "language": "python",
   "name": "python3"
  },
  "language_info": {
   "codemirror_mode": {
    "name": "ipython",
    "version": 3
   },
   "file_extension": ".py",
   "mimetype": "text/x-python",
   "name": "python",
   "nbconvert_exporter": "python",
   "pygments_lexer": "ipython3",
   "version": "3.9.6"
  }
 },
 "nbformat": 4,
 "nbformat_minor": 5
}
