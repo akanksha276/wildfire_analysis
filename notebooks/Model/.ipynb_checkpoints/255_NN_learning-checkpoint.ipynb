{
 "cells": [
  {
   "cell_type": "code",
   "execution_count": null,
   "metadata": {
    "colab": {
     "base_uri": "https://localhost:8080/"
    },
    "id": "4ZNDCB6kuNgF",
    "outputId": "0990843d-7ec7-476b-b9fb-ac01aef5f617"
   },
   "outputs": [],
   "source": [
    "import sqlite3\n",
    "import pandas as pd\n",
    "import matplotlib.pyplot as plt\n",
    "import numpy as np\n",
    "import warnings\n",
    "warnings.filterwarnings('ignore')\n",
    "from sklearn import tree, preprocessing\n",
    "import sklearn.ensemble as ske\n",
    "from sklearn.model_selection import train_test_split\n",
    "import matplotlib.pyplot as plt\n",
    "from sklearn.preprocessing import MinMaxScaler\n",
    "\n",
    "# from google.colab import drive\n",
    "# drive.mount('/content/drive')"
   ]
  },
  {
   "cell_type": "code",
   "execution_count": 27,
   "metadata": {},
   "outputs": [],
   "source": [
    "from sklearn.preprocessing import MinMaxScaler, StandardScaler, LabelEncoder, OneHotEncoder\n",
    "from sklearn.compose import ColumnTransformer\n",
    "from sklearn.pipeline import Pipeline"
   ]
  },
  {
   "cell_type": "code",
   "execution_count": null,
   "metadata": {},
   "outputs": [],
   "source": [
    "from sklearn.metrics import accuracy_score"
   ]
  },
  {
   "cell_type": "code",
   "execution_count": null,
   "metadata": {
    "id": "qq7hSy0h_m3_"
   },
   "outputs": [],
   "source": [
    "from sklearn.neural_network import MLPClassifier\n",
    "from sklearn.model_selection import train_test_split"
   ]
  },
  {
   "cell_type": "code",
   "execution_count": null,
   "metadata": {},
   "outputs": [],
   "source": [
    "# trainFile = \"E:/SJSU - Grad/Spring 23/255/Project/data/train_new.csv\"\n",
    "# testFile = \"E:/SJSU - Grad/Spring 23/255/Project/data/test_new.csv\"\n",
    "\n",
    "trainFile = \"E:/SJSU - Grad/Spring 23/255/Project/data/train.csv\"\n",
    "testFile = \"E:/SJSU - Grad/Spring 23/255/Project/data/test.csv\"\n",
    "\n",
    "test_data = pd.read_csv(testFile)\n",
    "train_data = pd.read_csv(trainFile)"
   ]
  },
  {
   "cell_type": "code",
   "execution_count": null,
   "metadata": {},
   "outputs": [],
   "source": [
    "scaler = MinMaxScaler()"
   ]
  },
  {
   "cell_type": "code",
   "execution_count": null,
   "metadata": {},
   "outputs": [],
   "source": [
    "good_cols = [\"FIRE_YEAR\",\"DISCOVERY_DOY\",\"DISCOVERY_TIME\",\"CONT_DOY\",\"CONT_TIME\",\"STAT_CAUSE_CODE\",\n",
    "             \"FIRE_SIZE_SCALED\",\"LATITUDE\",\"LONGITUDE\",\"STATE\",\"DISCOVERY_DATE\"]\n",
    "\n",
    "# select the columns you want to keep\n",
    "keep_cols = good_cols"
   ]
  },
  {
   "cell_type": "code",
   "execution_count": null,
   "metadata": {
    "id": "0nUZ4amyuaXA"
   },
   "outputs": [],
   "source": [
    "train_data.shape"
   ]
  },
  {
   "cell_type": "code",
   "execution_count": null,
   "metadata": {},
   "outputs": [],
   "source": [
    "test_data.shape"
   ]
  },
  {
   "cell_type": "code",
   "execution_count": 19,
   "metadata": {},
   "outputs": [
    {
     "name": "stdout",
     "output_type": "stream",
     "text": [
      "<class 'pandas.core.frame.DataFrame'>\n",
      "RangeIndex: 713605 entries, 0 to 713604\n",
      "Data columns (total 30 columns):\n",
      " #   Column                      Non-Null Count   Dtype  \n",
      "---  ------                      --------------   -----  \n",
      " 0   OBJECTID                    713605 non-null  int64  \n",
      " 1   FOD_ID                      713605 non-null  int64  \n",
      " 2   FPA_ID                      713605 non-null  object \n",
      " 3   SOURCE_SYSTEM_TYPE          713605 non-null  object \n",
      " 4   SOURCE_SYSTEM               713605 non-null  object \n",
      " 5   NWCG_REPORTING_AGENCY       713605 non-null  object \n",
      " 6   NWCG_REPORTING_UNIT_ID      713605 non-null  object \n",
      " 7   NWCG_REPORTING_UNIT_NAME    713605 non-null  object \n",
      " 8   SOURCE_REPORTING_UNIT       713605 non-null  object \n",
      " 9   SOURCE_REPORTING_UNIT_NAME  713605 non-null  object \n",
      " 10  FIRE_NAME                   711357 non-null  object \n",
      " 11  FIRE_YEAR                   713605 non-null  int64  \n",
      " 12  DISCOVERY_DATE              713605 non-null  float64\n",
      " 13  DISCOVERY_DOY               713605 non-null  int64  \n",
      " 14  DISCOVERY_TIME              713605 non-null  int64  \n",
      " 15  STAT_CAUSE_CODE             713605 non-null  float64\n",
      " 16  STAT_CAUSE_DESCR            713605 non-null  object \n",
      " 17  CONT_DATE                   713605 non-null  float64\n",
      " 18  CONT_DOY                    713605 non-null  float64\n",
      " 19  CONT_TIME                   713605 non-null  int64  \n",
      " 20  FIRE_SIZE                   713605 non-null  float64\n",
      " 21  FIRE_SIZE_CLASS             713605 non-null  object \n",
      " 22  LATITUDE                    713605 non-null  float64\n",
      " 23  LONGITUDE                   713605 non-null  float64\n",
      " 24  OWNER_CODE                  713605 non-null  float64\n",
      " 25  OWNER_DESCR                 713605 non-null  object \n",
      " 26  STATE                       713605 non-null  object \n",
      " 27  FIPS_NAME                   713605 non-null  object \n",
      " 28  Shape                       713605 non-null  object \n",
      " 29  FIRE_SIZE_SCALED            713605 non-null  float64\n",
      "dtypes: float64(9), int64(6), object(15)\n",
      "memory usage: 163.3+ MB\n"
     ]
    }
   ],
   "source": [
    "train_data.info()"
   ]
  },
  {
   "cell_type": "code",
   "execution_count": null,
   "metadata": {
    "colab": {
     "base_uri": "https://localhost:8080/"
    },
    "id": "dv1pikFVwT-t",
    "outputId": "2e8ed901-e83c-4b7c-fd10-18fbfb9d94cd"
   },
   "outputs": [],
   "source": [
    "train_data.dtypes"
   ]
  },
  {
   "cell_type": "code",
   "execution_count": null,
   "metadata": {
    "colab": {
     "base_uri": "https://localhost:8080/",
     "height": 369
    },
    "id": "Xmsj2oJSwe2m",
    "outputId": "e02687ef-c137-45b4-d31d-35bfbed6f1b8"
   },
   "outputs": [],
   "source": [
    "train_data.sample(5)"
   ]
  },
  {
   "cell_type": "code",
   "execution_count": null,
   "metadata": {
    "id": "H5IYDSjO_dYU"
   },
   "outputs": [],
   "source": [
    "train_data['FIRE_SIZE_SCALED'] = scaler.fit_transform(train_data[['FIRE_SIZE']])"
   ]
  },
  {
   "cell_type": "code",
   "execution_count": null,
   "metadata": {},
   "outputs": [],
   "source": [
    "# good_cols = [\"FIRE_YEAR\",\"DISCOVERY_DOY\",\"DISCOVERY_TIME\",\"CONT_DOY\",\"CONT_TIME\",\"STAT_CAUSE_CODE\",\n",
    "#              \"FIRE_SIZE_SCALED\",\"LATITUDE\",\"LONGITUDE\",\"STATE\",\"DISCOVERY_DATE\"]\n",
    "\n",
    "# prefix1 = 'STAT_CAUSE_DESCR_'\n",
    "# prefix2 = 'FIPS_NAME_'\n",
    "\n",
    "# # select the columns you want to keep\n",
    "# keep_cols1 = train_data.filter(like=prefix1).columns.tolist()\n",
    "# keep_cols2 = train_data.filter(like=prefix2).columns.tolist()\n",
    "# keep_cols = good_cols + keep_cols1 + keep_cols2"
   ]
  },
  {
   "cell_type": "code",
   "execution_count": null,
   "metadata": {},
   "outputs": [],
   "source": [
    "train_data[\"STAT_CAUSE_DESCR\"].value_counts()"
   ]
  },
  {
   "cell_type": "code",
   "execution_count": null,
   "metadata": {
    "colab": {
     "background_save": true
    },
    "id": "iTXVVkuhB4Ro"
   },
   "outputs": [],
   "source": [
    "df_interest = train_data[keep_cols]"
   ]
  },
  {
   "cell_type": "code",
   "execution_count": null,
   "metadata": {
    "colab": {
     "background_save": true
    },
    "id": "K9p9NBxyB0Rv",
    "outputId": "ab141a9c-559b-49fb-ee9d-8429f0448f93"
   },
   "outputs": [],
   "source": [
    "df_interest.head()"
   ]
  },
  {
   "cell_type": "code",
   "execution_count": null,
   "metadata": {},
   "outputs": [],
   "source": [
    "mycols = [\"LATITUDE\", \"LONGITUDE\", \"STATE\"]\n",
    "mydf = train_data[mycols]\n",
    "mydf.shape"
   ]
  },
  {
   "cell_type": "code",
   "execution_count": null,
   "metadata": {},
   "outputs": [],
   "source": [
    "X = mydf.drop([\"STATE\"], axis=1)\n",
    "Y = LabelEncoder().fit_transform(mydf.STATE.values)\n",
    "\n",
    "print(X.shape)\n",
    "print(Y.shape)"
   ]
  },
  {
   "cell_type": "code",
   "execution_count": null,
   "metadata": {},
   "outputs": [],
   "source": [
    "Y[:10]"
   ]
  },
  {
   "cell_type": "code",
   "execution_count": null,
   "metadata": {
    "id": "iMeoHwMdBoEA"
   },
   "outputs": [],
   "source": [
    "X = df_interest.drop([\"STATE\", \"DISCOVERY_DATE\", \"DISCOVERY_TIME\"], axis=1)\n",
    "X = scaler.fit_transform(X.to_numpy())\n",
    "Y = LabelEncoder().fit_transform(df_interest.STATE.values)\n",
    "\n",
    "print(X.shape)\n",
    "print(Y.shape)\n",
    "pdX = pd.DataFrame(X)\n",
    "pdX.head()"
   ]
  },
  {
   "cell_type": "code",
   "execution_count": null,
   "metadata": {},
   "outputs": [],
   "source": [
    "X_train, X_test, Y_train, Y_test = train_test_split(X, Y, test_size=0.2, random_state=42)"
   ]
  },
  {
   "cell_type": "code",
   "execution_count": null,
   "metadata": {
    "id": "KzUUuXQhDBkd"
   },
   "outputs": [],
   "source": [
    "mlp_classifier2 = MLPClassifier(\n",
    "    hidden_layer_sizes=(180,120,60),\n",
    "    activation=\"relu\",\n",
    "    solver=\"adam\",\n",
    "    max_iter=100,\n",
    "    verbose=True,\n",
    "    learning_rate = \"adaptive\"\n",
    ")"
   ]
  },
  {
   "cell_type": "code",
   "execution_count": null,
   "metadata": {},
   "outputs": [],
   "source": [
    "Y_test[:14]"
   ]
  },
  {
   "cell_type": "code",
   "execution_count": null,
   "metadata": {
    "colab": {
     "base_uri": "https://localhost:8080/",
     "height": 681
    },
    "id": "2gLCUHTZhMKM",
    "outputId": "d36d2f2f-1fe6-49e8-d52f-ccbb3978b1f8"
   },
   "outputs": [],
   "source": [
    "mlp_classifier2.fit(X_train, Y_train)"
   ]
  },
  {
   "cell_type": "markdown",
   "metadata": {},
   "source": [
    "### Predict and evaluate on the test data"
   ]
  },
  {
   "cell_type": "code",
   "execution_count": null,
   "metadata": {
    "colab": {
     "base_uri": "https://localhost:8080/"
    },
    "id": "50x3beQ5DJLh",
    "outputId": "affdb1da-4b5f-4263-b8bf-bb1c48931b4d"
   },
   "outputs": [],
   "source": [
    "\n",
    "predict_test = mlp_classifier2.predict(X_test)\n",
    "accuracy_score(Y_test, predict_test)"
   ]
  },
  {
   "cell_type": "markdown",
   "metadata": {},
   "source": [
    "### Predict and evaluate on the train data"
   ]
  },
  {
   "cell_type": "code",
   "execution_count": null,
   "metadata": {
    "colab": {
     "base_uri": "https://localhost:8080/"
    },
    "id": "BkqkitPxDiiu",
    "outputId": "b2fe1101-d4ee-4778-e783-1abd6726fcf1"
   },
   "outputs": [],
   "source": [
    "predict_train = mlp_classifier2.predict(X_train)\n",
    "accuracy_score(Y_train, predict_train)"
   ]
  },
  {
   "cell_type": "code",
   "execution_count": null,
   "metadata": {
    "id": "Rj_LRHXkILx0"
   },
   "outputs": [],
   "source": [
    "plt.plot(mlp_classifier2.loss_curve_)\n",
    "plt.show()"
   ]
  },
  {
   "cell_type": "code",
   "execution_count": null,
   "metadata": {},
   "outputs": [],
   "source": [
    "mycols"
   ]
  },
  {
   "cell_type": "code",
   "execution_count": null,
   "metadata": {},
   "outputs": [],
   "source": [
    "X = test_data[good_cols].drop([\"STATE\", \"DISCOVERY_DATE\", \"DISCOVERY_TIME\"], axis=1)\n",
    "X = scaler.fit_transform(X.to_numpy())\n",
    "Y = LabelEncoder().fit_transform(test_data[good_cols].STATE.values)\n",
    "\n",
    "print(X.shape)\n",
    "print(Y.shape)"
   ]
  },
  {
   "cell_type": "code",
   "execution_count": null,
   "metadata": {},
   "outputs": [],
   "source": [
    "result = mlp_classifier2.predict(X)"
   ]
  },
  {
   "cell_type": "code",
   "execution_count": null,
   "metadata": {},
   "outputs": [],
   "source": [
    "accuracy_score(result, Y)"
   ]
  },
  {
   "cell_type": "code",
   "execution_count": null,
   "metadata": {},
   "outputs": [],
   "source": [
    "train_data.head()\n",
    "len(train_data.columns)"
   ]
  },
  {
   "cell_type": "code",
   "execution_count": null,
   "metadata": {},
   "outputs": [],
   "source": [
    "plt.matshow(train_data.corr())\n",
    "plt.show()"
   ]
  },
  {
   "cell_type": "code",
   "execution_count": null,
   "metadata": {},
   "outputs": [],
   "source": [
    "df = train_data\n",
    "df[\"STATE\"] = LabelEncoder().fit_transform(train_data.STATE.values)\n",
    "f = plt.figure(figsize=(19, 15))\n",
    "plt.matshow(df.corr(), fignum=f.number)\n",
    "plt.xticks(range(df.select_dtypes(['number']).shape[1]), df.select_dtypes(['number']).columns, fontsize=14, rotation=45)\n",
    "plt.yticks(range(df.select_dtypes(['number']).shape[1]), df.select_dtypes(['number']).columns, fontsize=14)\n",
    "cb = plt.colorbar()\n",
    "cb.ax.tick_params(labelsize=14)\n",
    "plt.title('Correlation Matrix', fontsize=16);\n",
    "\n",
    "plt.savefig(\"corr_train_nandu.png\")"
   ]
  },
  {
   "cell_type": "markdown",
   "metadata": {},
   "source": [
    "Lets Predict the STAT_CAUSE_DESCR column with perceptron"
   ]
  },
  {
   "cell_type": "code",
   "execution_count": null,
   "metadata": {},
   "outputs": [],
   "source": [
    "train_data[\"STAT_CAUSE_DESCR\"].value_counts()"
   ]
  },
  {
   "cell_type": "code",
   "execution_count": null,
   "metadata": {},
   "outputs": [],
   "source": [
    "len(train_data[train_data[\"STAT_CAUSE_DESCR\"] == \"Missing/Undefined\"])"
   ]
  },
  {
   "cell_type": "code",
   "execution_count": null,
   "metadata": {},
   "outputs": [],
   "source": [
    "good_cols_new = [\"FIRE_YEAR\",\"DISCOVERY_DOY\",\"DISCOVERY_TIME\",\"CONT_DOY\",\"CONT_TIME\",\"STAT_CAUSE_CODE\",\"FIRE_SIZE\",\"LATITUDE\",\"LONGITUDE\",\"STATE\",\"DISCOVERY_DATE\"]\n",
    "df_model_new = train_data[good_cols_new]\n",
    "df_model_new.sample(10)"
   ]
  },
  {
   "cell_type": "code",
   "execution_count": null,
   "metadata": {},
   "outputs": [],
   "source": [
    "df_model_new[\"STATE\"] = LabelEncoder().fit_transform(df_model_new.STATE.values)\n",
    "df_model_new.sample(5)"
   ]
  },
  {
   "cell_type": "markdown",
   "metadata": {},
   "source": [
    "Prepare data for our model"
   ]
  },
  {
   "cell_type": "code",
   "execution_count": null,
   "metadata": {},
   "outputs": [],
   "source": [
    "X = df_model_new.drop([\"STAT_CAUSE_CODE\"], axis=1)\n",
    "Y = df_model_new[\"STAT_CAUSE_CODE\"]\n",
    "X.shape, Y.shape"
   ]
  },
  {
   "cell_type": "code",
   "execution_count": null,
   "metadata": {},
   "outputs": [],
   "source": [
    "X.head()"
   ]
  },
  {
   "cell_type": "code",
   "execution_count": null,
   "metadata": {},
   "outputs": [],
   "source": [
    "Y.head()"
   ]
  },
  {
   "cell_type": "code",
   "execution_count": null,
   "metadata": {},
   "outputs": [],
   "source": [
    "# X = pd.DataFrame(scaler.fit_transform(X), columns = X.columns)\n",
    "# X.shape\n",
    "\n",
    "X = scaler.fit_transform(X)\n",
    "X.shape"
   ]
  },
  {
   "cell_type": "code",
   "execution_count": null,
   "metadata": {},
   "outputs": [],
   "source": [
    "Y.head()"
   ]
  },
  {
   "cell_type": "code",
   "execution_count": null,
   "metadata": {},
   "outputs": [],
   "source": [
    "classifier_scdescr = mlp_classifier2 = MLPClassifier(\n",
    "    hidden_layer_sizes=(180,120,60),\n",
    "    activation=\"relu\",\n",
    "    solver=\"adam\",\n",
    "    max_iter=100,\n",
    "    verbose=True,\n",
    "    learning_rate = \"adaptive\"\n",
    ")"
   ]
  },
  {
   "cell_type": "code",
   "execution_count": null,
   "metadata": {},
   "outputs": [],
   "source": [
    "X_train, X_test, Y_train, Y_test = train_test_split(X, Y, test_size=0.2, random_state=42)"
   ]
  },
  {
   "cell_type": "code",
   "execution_count": null,
   "metadata": {},
   "outputs": [],
   "source": [
    "classifier_scdescr.fit(X_train, Y_train)"
   ]
  },
  {
   "cell_type": "code",
   "execution_count": null,
   "metadata": {},
   "outputs": [],
   "source": [
    "prediction_new = classifier_scdescr.predict(X_test)\n",
    "accuracy_score(prediction_new, Y_test)"
   ]
  },
  {
   "cell_type": "markdown",
   "metadata": {},
   "source": [
    "## Predict the fire severity clas"
   ]
  },
  {
   "cell_type": "code",
   "execution_count": 20,
   "metadata": {},
   "outputs": [
    {
     "data": {
      "text/html": [
       "<div>\n",
       "<style scoped>\n",
       "    .dataframe tbody tr th:only-of-type {\n",
       "        vertical-align: middle;\n",
       "    }\n",
       "\n",
       "    .dataframe tbody tr th {\n",
       "        vertical-align: top;\n",
       "    }\n",
       "\n",
       "    .dataframe thead th {\n",
       "        text-align: right;\n",
       "    }\n",
       "</style>\n",
       "<table border=\"1\" class=\"dataframe\">\n",
       "  <thead>\n",
       "    <tr style=\"text-align: right;\">\n",
       "      <th></th>\n",
       "      <th>OBJECTID</th>\n",
       "      <th>FOD_ID</th>\n",
       "      <th>FPA_ID</th>\n",
       "      <th>SOURCE_SYSTEM_TYPE</th>\n",
       "      <th>SOURCE_SYSTEM</th>\n",
       "      <th>NWCG_REPORTING_AGENCY</th>\n",
       "      <th>NWCG_REPORTING_UNIT_ID</th>\n",
       "      <th>NWCG_REPORTING_UNIT_NAME</th>\n",
       "      <th>SOURCE_REPORTING_UNIT</th>\n",
       "      <th>SOURCE_REPORTING_UNIT_NAME</th>\n",
       "      <th>...</th>\n",
       "      <th>FIRE_SIZE</th>\n",
       "      <th>FIRE_SIZE_CLASS</th>\n",
       "      <th>LATITUDE</th>\n",
       "      <th>LONGITUDE</th>\n",
       "      <th>OWNER_CODE</th>\n",
       "      <th>OWNER_DESCR</th>\n",
       "      <th>STATE</th>\n",
       "      <th>FIPS_NAME</th>\n",
       "      <th>Shape</th>\n",
       "      <th>FIRE_SIZE_SCALED</th>\n",
       "    </tr>\n",
       "  </thead>\n",
       "  <tbody>\n",
       "    <tr>\n",
       "      <th>250772</th>\n",
       "      <td>248503</td>\n",
       "      <td>253394</td>\n",
       "      <td>W-598673</td>\n",
       "      <td>FED</td>\n",
       "      <td>DOI-WFMI</td>\n",
       "      <td>TRIBE</td>\n",
       "      <td>USOKCNA</td>\n",
       "      <td>Cherokee Nation Tribe</td>\n",
       "      <td>OKCNA</td>\n",
       "      <td>Cherokee Nation Tribe</td>\n",
       "      <td>...</td>\n",
       "      <td>2.00</td>\n",
       "      <td>B</td>\n",
       "      <td>36.285000</td>\n",
       "      <td>-94.910800</td>\n",
       "      <td>2.0</td>\n",
       "      <td>BIA</td>\n",
       "      <td>OK</td>\n",
       "      <td>Unknown</td>\n",
       "      <td>b'\\x00\\x01\\xad\\x10\\x00\\x00\\x94L\\x15\\x8cJ\\xbaW\\...</td>\n",
       "      <td>3.295175e-06</td>\n",
       "    </tr>\n",
       "    <tr>\n",
       "      <th>593840</th>\n",
       "      <td>1158522</td>\n",
       "      <td>1409509</td>\n",
       "      <td>ALS-DDV-20040410-003</td>\n",
       "      <td>NONFED</td>\n",
       "      <td>ST-ALALS</td>\n",
       "      <td>ST/C&amp;L</td>\n",
       "      <td>USALALS</td>\n",
       "      <td>Alabama Forestry Commission</td>\n",
       "      <td>ALDDV</td>\n",
       "      <td>AFC Dadeville</td>\n",
       "      <td>...</td>\n",
       "      <td>10.00</td>\n",
       "      <td>C</td>\n",
       "      <td>33.305110</td>\n",
       "      <td>-86.161524</td>\n",
       "      <td>14.0</td>\n",
       "      <td>MISSING/NOT SPECIFIED</td>\n",
       "      <td>AL</td>\n",
       "      <td>Talladega</td>\n",
       "      <td>b'\\x00\\x01\\xad\\x10\\x00\\x008a\\xc2hV\\x8aU\\xc0h\\x...</td>\n",
       "      <td>1.647594e-05</td>\n",
       "    </tr>\n",
       "    <tr>\n",
       "      <th>400281</th>\n",
       "      <td>1687118</td>\n",
       "      <td>201851529</td>\n",
       "      <td>SFO-2013KYKYS19320139042</td>\n",
       "      <td>NONFED</td>\n",
       "      <td>ST-NASF</td>\n",
       "      <td>ST/C&amp;L</td>\n",
       "      <td>USKYKYS</td>\n",
       "      <td>Kentucky Division of Forestry</td>\n",
       "      <td>KYKYS</td>\n",
       "      <td>Kentucky Division of Forestry</td>\n",
       "      <td>...</td>\n",
       "      <td>2.00</td>\n",
       "      <td>B</td>\n",
       "      <td>37.277561</td>\n",
       "      <td>-83.245628</td>\n",
       "      <td>8.0</td>\n",
       "      <td>PRIVATE</td>\n",
       "      <td>KY</td>\n",
       "      <td>Perry</td>\n",
       "      <td>b'\\x00\\x01\\xad\\x10\\x00\\x00\\xe0J\\x03`\\xb8\\xcfT\\...</td>\n",
       "      <td>3.295175e-06</td>\n",
       "    </tr>\n",
       "    <tr>\n",
       "      <th>493233</th>\n",
       "      <td>1243077</td>\n",
       "      <td>1646188</td>\n",
       "      <td>SFO-GA-FY2001-Brantley-075</td>\n",
       "      <td>NONFED</td>\n",
       "      <td>ST-NASF</td>\n",
       "      <td>ST/C&amp;L</td>\n",
       "      <td>USGAGAS</td>\n",
       "      <td>Georgia Forestry Commission</td>\n",
       "      <td>GAGAS</td>\n",
       "      <td>Georgia Forestry Commission</td>\n",
       "      <td>...</td>\n",
       "      <td>0.41</td>\n",
       "      <td>B</td>\n",
       "      <td>31.103800</td>\n",
       "      <td>-81.878300</td>\n",
       "      <td>8.0</td>\n",
       "      <td>PRIVATE</td>\n",
       "      <td>GA</td>\n",
       "      <td>Brantley</td>\n",
       "      <td>b'\\x00\\x01\\xad\\x10\\x00\\x00\\xe8\\x044\\x116xT\\xc0...</td>\n",
       "      <td>6.754978e-07</td>\n",
       "    </tr>\n",
       "    <tr>\n",
       "      <th>307917</th>\n",
       "      <td>129062</td>\n",
       "      <td>130310</td>\n",
       "      <td>FS-355570</td>\n",
       "      <td>FED</td>\n",
       "      <td>FS-FIRESTAT</td>\n",
       "      <td>FS</td>\n",
       "      <td>USORMAF</td>\n",
       "      <td>Malheur National Forest</td>\n",
       "      <td>0604</td>\n",
       "      <td>Malheur National Forest</td>\n",
       "      <td>...</td>\n",
       "      <td>0.10</td>\n",
       "      <td>A</td>\n",
       "      <td>44.511111</td>\n",
       "      <td>-118.797222</td>\n",
       "      <td>5.0</td>\n",
       "      <td>USFS</td>\n",
       "      <td>OR</td>\n",
       "      <td>Unknown</td>\n",
       "      <td>b'\\x00\\x01\\xad\\x10\\x00\\x00\\xd8\\xa2X\\xb0\\x05\\xb...</td>\n",
       "      <td>1.647431e-07</td>\n",
       "    </tr>\n",
       "    <tr>\n",
       "      <th>465003</th>\n",
       "      <td>170376</td>\n",
       "      <td>172049</td>\n",
       "      <td>FS-400812</td>\n",
       "      <td>FED</td>\n",
       "      <td>FS-FIRESTAT</td>\n",
       "      <td>FS</td>\n",
       "      <td>USAZASF</td>\n",
       "      <td>Apache-Sitgreaves National Forest</td>\n",
       "      <td>0301</td>\n",
       "      <td>Apache-Sitgreaves National Forest</td>\n",
       "      <td>...</td>\n",
       "      <td>0.25</td>\n",
       "      <td>A</td>\n",
       "      <td>33.535556</td>\n",
       "      <td>-109.400000</td>\n",
       "      <td>5.0</td>\n",
       "      <td>USFS</td>\n",
       "      <td>AZ</td>\n",
       "      <td>Greenlee</td>\n",
       "      <td>b'\\x00\\x01\\xad\\x10\\x00\\x00\\x98\\x99\\x99\\x99\\x99...</td>\n",
       "      <td>4.118825e-07</td>\n",
       "    </tr>\n",
       "    <tr>\n",
       "      <th>511083</th>\n",
       "      <td>131945</td>\n",
       "      <td>133251</td>\n",
       "      <td>FS-358659</td>\n",
       "      <td>FED</td>\n",
       "      <td>FS-FIRESTAT</td>\n",
       "      <td>FS</td>\n",
       "      <td>USWYBTF</td>\n",
       "      <td>Bridger-Teton National Forest</td>\n",
       "      <td>0403</td>\n",
       "      <td>Bridger-Teton National Forest</td>\n",
       "      <td>...</td>\n",
       "      <td>200.00</td>\n",
       "      <td>D</td>\n",
       "      <td>43.032500</td>\n",
       "      <td>-109.733889</td>\n",
       "      <td>5.0</td>\n",
       "      <td>USFS</td>\n",
       "      <td>WY</td>\n",
       "      <td>Unknown</td>\n",
       "      <td>b'\\x00\\x01\\xad\\x10\\x00\\x00\\xa4\\\\\\x1b\\t\\xf8n[\\x...</td>\n",
       "      <td>3.295191e-04</td>\n",
       "    </tr>\n",
       "    <tr>\n",
       "      <th>50759</th>\n",
       "      <td>1873601</td>\n",
       "      <td>300314838</td>\n",
       "      <td>2012CAIRS20601907</td>\n",
       "      <td>NONFED</td>\n",
       "      <td>ST-CACDF</td>\n",
       "      <td>ST/C&amp;L</td>\n",
       "      <td>USCANEU</td>\n",
       "      <td>Nevada-Yuba-Placer Unit</td>\n",
       "      <td>CANEU</td>\n",
       "      <td>Nevada-Yuba-Placer Unit</td>\n",
       "      <td>...</td>\n",
       "      <td>0.25</td>\n",
       "      <td>A</td>\n",
       "      <td>39.022643</td>\n",
       "      <td>-120.962080</td>\n",
       "      <td>14.0</td>\n",
       "      <td>MISSING/NOT SPECIFIED</td>\n",
       "      <td>CA</td>\n",
       "      <td>Unknown</td>\n",
       "      <td>b'\\x00\\x01\\xad\\x10\\x00\\x00\\xac\\x08\\xfe\\xb7\\x92...</td>\n",
       "      <td>4.118825e-07</td>\n",
       "    </tr>\n",
       "    <tr>\n",
       "      <th>212251</th>\n",
       "      <td>134021</td>\n",
       "      <td>135352</td>\n",
       "      <td>FS-360929</td>\n",
       "      <td>FED</td>\n",
       "      <td>FS-FIRESTAT</td>\n",
       "      <td>FS</td>\n",
       "      <td>USMTLNF</td>\n",
       "      <td>Lolo National Forest</td>\n",
       "      <td>0116</td>\n",
       "      <td>Lolo National Forest</td>\n",
       "      <td>...</td>\n",
       "      <td>2.00</td>\n",
       "      <td>B</td>\n",
       "      <td>47.020000</td>\n",
       "      <td>-114.738889</td>\n",
       "      <td>13.0</td>\n",
       "      <td>STATE OR PRIVATE</td>\n",
       "      <td>MT</td>\n",
       "      <td>Mineral</td>\n",
       "      <td>b'\\x00\\x01\\xad\\x10\\x00\\x00\\\\{\\xa0\\xf4I\\xaf\\\\\\x...</td>\n",
       "      <td>3.295175e-06</td>\n",
       "    </tr>\n",
       "    <tr>\n",
       "      <th>380489</th>\n",
       "      <td>182364</td>\n",
       "      <td>184513</td>\n",
       "      <td>W-319913</td>\n",
       "      <td>FED</td>\n",
       "      <td>DOI-WFMI</td>\n",
       "      <td>BIA</td>\n",
       "      <td>USSDRBA</td>\n",
       "      <td>Rosebud Agency</td>\n",
       "      <td>SDRBA</td>\n",
       "      <td>Rosebud Agency</td>\n",
       "      <td>...</td>\n",
       "      <td>5.00</td>\n",
       "      <td>B</td>\n",
       "      <td>43.336900</td>\n",
       "      <td>-100.790400</td>\n",
       "      <td>2.0</td>\n",
       "      <td>BIA</td>\n",
       "      <td>SD</td>\n",
       "      <td>Unknown</td>\n",
       "      <td>b'\\x00\\x01\\xad\\x10\\x00\\x00\\x88\\xb0\\xe1\\xe9\\x95...</td>\n",
       "      <td>8.237962e-06</td>\n",
       "    </tr>\n",
       "  </tbody>\n",
       "</table>\n",
       "<p>10 rows × 30 columns</p>\n",
       "</div>"
      ],
      "text/plain": [
       "        OBJECTID     FOD_ID                      FPA_ID SOURCE_SYSTEM_TYPE  \\\n",
       "250772    248503     253394                    W-598673                FED   \n",
       "593840   1158522    1409509        ALS-DDV-20040410-003             NONFED   \n",
       "400281   1687118  201851529    SFO-2013KYKYS19320139042             NONFED   \n",
       "493233   1243077    1646188  SFO-GA-FY2001-Brantley-075             NONFED   \n",
       "307917    129062     130310                   FS-355570                FED   \n",
       "465003    170376     172049                   FS-400812                FED   \n",
       "511083    131945     133251                   FS-358659                FED   \n",
       "50759    1873601  300314838           2012CAIRS20601907             NONFED   \n",
       "212251    134021     135352                   FS-360929                FED   \n",
       "380489    182364     184513                    W-319913                FED   \n",
       "\n",
       "       SOURCE_SYSTEM NWCG_REPORTING_AGENCY NWCG_REPORTING_UNIT_ID  \\\n",
       "250772      DOI-WFMI                 TRIBE                USOKCNA   \n",
       "593840      ST-ALALS                ST/C&L                USALALS   \n",
       "400281       ST-NASF                ST/C&L                USKYKYS   \n",
       "493233       ST-NASF                ST/C&L                USGAGAS   \n",
       "307917   FS-FIRESTAT                    FS                USORMAF   \n",
       "465003   FS-FIRESTAT                    FS                USAZASF   \n",
       "511083   FS-FIRESTAT                    FS                USWYBTF   \n",
       "50759       ST-CACDF                ST/C&L                USCANEU   \n",
       "212251   FS-FIRESTAT                    FS                USMTLNF   \n",
       "380489      DOI-WFMI                   BIA                USSDRBA   \n",
       "\n",
       "                 NWCG_REPORTING_UNIT_NAME SOURCE_REPORTING_UNIT  \\\n",
       "250772              Cherokee Nation Tribe                 OKCNA   \n",
       "593840        Alabama Forestry Commission                 ALDDV   \n",
       "400281      Kentucky Division of Forestry                 KYKYS   \n",
       "493233        Georgia Forestry Commission                 GAGAS   \n",
       "307917            Malheur National Forest                  0604   \n",
       "465003  Apache-Sitgreaves National Forest                  0301   \n",
       "511083      Bridger-Teton National Forest                  0403   \n",
       "50759             Nevada-Yuba-Placer Unit                 CANEU   \n",
       "212251               Lolo National Forest                  0116   \n",
       "380489                     Rosebud Agency                 SDRBA   \n",
       "\n",
       "               SOURCE_REPORTING_UNIT_NAME  ... FIRE_SIZE  FIRE_SIZE_CLASS  \\\n",
       "250772              Cherokee Nation Tribe  ...      2.00                B   \n",
       "593840                      AFC Dadeville  ...     10.00                C   \n",
       "400281      Kentucky Division of Forestry  ...      2.00                B   \n",
       "493233        Georgia Forestry Commission  ...      0.41                B   \n",
       "307917            Malheur National Forest  ...      0.10                A   \n",
       "465003  Apache-Sitgreaves National Forest  ...      0.25                A   \n",
       "511083      Bridger-Teton National Forest  ...    200.00                D   \n",
       "50759             Nevada-Yuba-Placer Unit  ...      0.25                A   \n",
       "212251               Lolo National Forest  ...      2.00                B   \n",
       "380489                     Rosebud Agency  ...      5.00                B   \n",
       "\n",
       "         LATITUDE   LONGITUDE  OWNER_CODE            OWNER_DESCR STATE  \\\n",
       "250772  36.285000  -94.910800         2.0                    BIA    OK   \n",
       "593840  33.305110  -86.161524        14.0  MISSING/NOT SPECIFIED    AL   \n",
       "400281  37.277561  -83.245628         8.0                PRIVATE    KY   \n",
       "493233  31.103800  -81.878300         8.0                PRIVATE    GA   \n",
       "307917  44.511111 -118.797222         5.0                   USFS    OR   \n",
       "465003  33.535556 -109.400000         5.0                   USFS    AZ   \n",
       "511083  43.032500 -109.733889         5.0                   USFS    WY   \n",
       "50759   39.022643 -120.962080        14.0  MISSING/NOT SPECIFIED    CA   \n",
       "212251  47.020000 -114.738889        13.0       STATE OR PRIVATE    MT   \n",
       "380489  43.336900 -100.790400         2.0                    BIA    SD   \n",
       "\n",
       "        FIPS_NAME                                              Shape  \\\n",
       "250772    Unknown  b'\\x00\\x01\\xad\\x10\\x00\\x00\\x94L\\x15\\x8cJ\\xbaW\\...   \n",
       "593840  Talladega  b'\\x00\\x01\\xad\\x10\\x00\\x008a\\xc2hV\\x8aU\\xc0h\\x...   \n",
       "400281      Perry  b'\\x00\\x01\\xad\\x10\\x00\\x00\\xe0J\\x03`\\xb8\\xcfT\\...   \n",
       "493233   Brantley  b'\\x00\\x01\\xad\\x10\\x00\\x00\\xe8\\x044\\x116xT\\xc0...   \n",
       "307917    Unknown  b'\\x00\\x01\\xad\\x10\\x00\\x00\\xd8\\xa2X\\xb0\\x05\\xb...   \n",
       "465003   Greenlee  b'\\x00\\x01\\xad\\x10\\x00\\x00\\x98\\x99\\x99\\x99\\x99...   \n",
       "511083    Unknown  b'\\x00\\x01\\xad\\x10\\x00\\x00\\xa4\\\\\\x1b\\t\\xf8n[\\x...   \n",
       "50759     Unknown  b'\\x00\\x01\\xad\\x10\\x00\\x00\\xac\\x08\\xfe\\xb7\\x92...   \n",
       "212251    Mineral  b'\\x00\\x01\\xad\\x10\\x00\\x00\\\\{\\xa0\\xf4I\\xaf\\\\\\x...   \n",
       "380489    Unknown  b'\\x00\\x01\\xad\\x10\\x00\\x00\\x88\\xb0\\xe1\\xe9\\x95...   \n",
       "\n",
       "        FIRE_SIZE_SCALED  \n",
       "250772      3.295175e-06  \n",
       "593840      1.647594e-05  \n",
       "400281      3.295175e-06  \n",
       "493233      6.754978e-07  \n",
       "307917      1.647431e-07  \n",
       "465003      4.118825e-07  \n",
       "511083      3.295191e-04  \n",
       "50759       4.118825e-07  \n",
       "212251      3.295175e-06  \n",
       "380489      8.237962e-06  \n",
       "\n",
       "[10 rows x 30 columns]"
      ]
     },
     "execution_count": 20,
     "metadata": {},
     "output_type": "execute_result"
    }
   ],
   "source": [
    "train_data.sample(10)"
   ]
  },
  {
   "cell_type": "code",
   "execution_count": 21,
   "metadata": {},
   "outputs": [
    {
     "data": {
      "text/plain": [
       "B    309505\n",
       "A    304515\n",
       "C     74016\n",
       "D     11746\n",
       "E      6864\n",
       "F      4460\n",
       "G      2499\n",
       "Name: FIRE_SIZE_CLASS, dtype: int64"
      ]
     },
     "execution_count": 21,
     "metadata": {},
     "output_type": "execute_result"
    }
   ],
   "source": [
    "train_data[\"FIRE_SIZE_CLASS\"].value_counts()"
   ]
  },
  {
   "cell_type": "code",
   "execution_count": 24,
   "metadata": {},
   "outputs": [
    {
     "data": {
      "text/plain": [
       "['FIRE_YEAR',\n",
       " 'DISCOVERY_DOY',\n",
       " 'DISCOVERY_TIME',\n",
       " 'CONT_DOY',\n",
       " 'CONT_TIME',\n",
       " 'STAT_CAUSE_CODE',\n",
       " 'FIRE_SIZE_SCALED',\n",
       " 'LATITUDE',\n",
       " 'LONGITUDE',\n",
       " 'STATE',\n",
       " 'DISCOVERY_DATE',\n",
       " 'FIRE_SIZE_CLASS']"
      ]
     },
     "execution_count": 24,
     "metadata": {},
     "output_type": "execute_result"
    }
   ],
   "source": [
    "good_cols"
   ]
  },
  {
   "cell_type": "code",
   "execution_count": 25,
   "metadata": {},
   "outputs": [],
   "source": [
    "df_sev = train_data[good_cols]"
   ]
  },
  {
   "cell_type": "code",
   "execution_count": 26,
   "metadata": {},
   "outputs": [
    {
     "data": {
      "text/html": [
       "<div>\n",
       "<style scoped>\n",
       "    .dataframe tbody tr th:only-of-type {\n",
       "        vertical-align: middle;\n",
       "    }\n",
       "\n",
       "    .dataframe tbody tr th {\n",
       "        vertical-align: top;\n",
       "    }\n",
       "\n",
       "    .dataframe thead th {\n",
       "        text-align: right;\n",
       "    }\n",
       "</style>\n",
       "<table border=\"1\" class=\"dataframe\">\n",
       "  <thead>\n",
       "    <tr style=\"text-align: right;\">\n",
       "      <th></th>\n",
       "      <th>FIRE_YEAR</th>\n",
       "      <th>DISCOVERY_DOY</th>\n",
       "      <th>DISCOVERY_TIME</th>\n",
       "      <th>CONT_DOY</th>\n",
       "      <th>CONT_TIME</th>\n",
       "      <th>STAT_CAUSE_CODE</th>\n",
       "      <th>FIRE_SIZE_SCALED</th>\n",
       "      <th>LATITUDE</th>\n",
       "      <th>LONGITUDE</th>\n",
       "      <th>STATE</th>\n",
       "      <th>DISCOVERY_DATE</th>\n",
       "      <th>FIRE_SIZE_CLASS</th>\n",
       "    </tr>\n",
       "  </thead>\n",
       "  <tbody>\n",
       "    <tr>\n",
       "      <th>214312</th>\n",
       "      <td>1996</td>\n",
       "      <td>240</td>\n",
       "      <td>1653</td>\n",
       "      <td>244.0</td>\n",
       "      <td>1900</td>\n",
       "      <td>1.0</td>\n",
       "      <td>2.471377e-06</td>\n",
       "      <td>46.373333</td>\n",
       "      <td>-115.5650</td>\n",
       "      <td>ID</td>\n",
       "      <td>2450322.5</td>\n",
       "      <td>B</td>\n",
       "    </tr>\n",
       "    <tr>\n",
       "      <th>35750</th>\n",
       "      <td>2011</td>\n",
       "      <td>45</td>\n",
       "      <td>1659</td>\n",
       "      <td>45.0</td>\n",
       "      <td>1750</td>\n",
       "      <td>13.0</td>\n",
       "      <td>1.647579e-06</td>\n",
       "      <td>35.637600</td>\n",
       "      <td>-81.5325</td>\n",
       "      <td>NC</td>\n",
       "      <td>2455606.5</td>\n",
       "      <td>B</td>\n",
       "    </tr>\n",
       "    <tr>\n",
       "      <th>392230</th>\n",
       "      <td>2000</td>\n",
       "      <td>184</td>\n",
       "      <td>1500</td>\n",
       "      <td>184.0</td>\n",
       "      <td>1535</td>\n",
       "      <td>10.0</td>\n",
       "      <td>1.647579e-06</td>\n",
       "      <td>40.302200</td>\n",
       "      <td>-109.7901</td>\n",
       "      <td>UT</td>\n",
       "      <td>2451727.5</td>\n",
       "      <td>B</td>\n",
       "    </tr>\n",
       "    <tr>\n",
       "      <th>542792</th>\n",
       "      <td>2014</td>\n",
       "      <td>185</td>\n",
       "      <td>1445</td>\n",
       "      <td>191.0</td>\n",
       "      <td>1730</td>\n",
       "      <td>10.0</td>\n",
       "      <td>1.647431e-07</td>\n",
       "      <td>47.979300</td>\n",
       "      <td>-117.2533</td>\n",
       "      <td>WA</td>\n",
       "      <td>2456842.5</td>\n",
       "      <td>A</td>\n",
       "    </tr>\n",
       "    <tr>\n",
       "      <th>579875</th>\n",
       "      <td>1995</td>\n",
       "      <td>137</td>\n",
       "      <td>1530</td>\n",
       "      <td>137.0</td>\n",
       "      <td>1655</td>\n",
       "      <td>9.0</td>\n",
       "      <td>1.219204e-06</td>\n",
       "      <td>31.549500</td>\n",
       "      <td>-81.9761</td>\n",
       "      <td>GA</td>\n",
       "      <td>2449854.5</td>\n",
       "      <td>B</td>\n",
       "    </tr>\n",
       "  </tbody>\n",
       "</table>\n",
       "</div>"
      ],
      "text/plain": [
       "        FIRE_YEAR  DISCOVERY_DOY  DISCOVERY_TIME  CONT_DOY  CONT_TIME  \\\n",
       "214312       1996            240            1653     244.0       1900   \n",
       "35750        2011             45            1659      45.0       1750   \n",
       "392230       2000            184            1500     184.0       1535   \n",
       "542792       2014            185            1445     191.0       1730   \n",
       "579875       1995            137            1530     137.0       1655   \n",
       "\n",
       "        STAT_CAUSE_CODE  FIRE_SIZE_SCALED   LATITUDE  LONGITUDE STATE  \\\n",
       "214312              1.0      2.471377e-06  46.373333  -115.5650    ID   \n",
       "35750              13.0      1.647579e-06  35.637600   -81.5325    NC   \n",
       "392230             10.0      1.647579e-06  40.302200  -109.7901    UT   \n",
       "542792             10.0      1.647431e-07  47.979300  -117.2533    WA   \n",
       "579875              9.0      1.219204e-06  31.549500   -81.9761    GA   \n",
       "\n",
       "        DISCOVERY_DATE FIRE_SIZE_CLASS  \n",
       "214312       2450322.5               B  \n",
       "35750        2455606.5               B  \n",
       "392230       2451727.5               B  \n",
       "542792       2456842.5               A  \n",
       "579875       2449854.5               B  "
      ]
     },
     "execution_count": 26,
     "metadata": {},
     "output_type": "execute_result"
    }
   ],
   "source": [
    "df_sev.sample(5)"
   ]
  },
  {
   "cell_type": "markdown",
   "metadata": {},
   "source": [
    "Perform One hot encoding for STAT_CAUSE_CODE"
   ]
  },
  {
   "cell_type": "code",
   "execution_count": 28,
   "metadata": {},
   "outputs": [],
   "source": [
    "one_hot_enc = OneHotEncoder(handle_unknown = \"ignore\")"
   ]
  },
  {
   "cell_type": "code",
   "execution_count": 29,
   "metadata": {},
   "outputs": [
    {
     "data": {
      "text/html": [
       "<div>\n",
       "<style scoped>\n",
       "    .dataframe tbody tr th:only-of-type {\n",
       "        vertical-align: middle;\n",
       "    }\n",
       "\n",
       "    .dataframe tbody tr th {\n",
       "        vertical-align: top;\n",
       "    }\n",
       "\n",
       "    .dataframe thead th {\n",
       "        text-align: right;\n",
       "    }\n",
       "</style>\n",
       "<table border=\"1\" class=\"dataframe\">\n",
       "  <thead>\n",
       "    <tr style=\"text-align: right;\">\n",
       "      <th></th>\n",
       "      <th>STAT_CAUSE_CODE_1.0</th>\n",
       "      <th>STAT_CAUSE_CODE_2.0</th>\n",
       "      <th>STAT_CAUSE_CODE_3.0</th>\n",
       "      <th>STAT_CAUSE_CODE_4.0</th>\n",
       "      <th>STAT_CAUSE_CODE_5.0</th>\n",
       "      <th>STAT_CAUSE_CODE_6.0</th>\n",
       "      <th>STAT_CAUSE_CODE_7.0</th>\n",
       "      <th>STAT_CAUSE_CODE_8.0</th>\n",
       "      <th>STAT_CAUSE_CODE_9.0</th>\n",
       "      <th>STAT_CAUSE_CODE_10.0</th>\n",
       "      <th>STAT_CAUSE_CODE_11.0</th>\n",
       "      <th>STAT_CAUSE_CODE_12.0</th>\n",
       "      <th>STAT_CAUSE_CODE_13.0</th>\n",
       "    </tr>\n",
       "  </thead>\n",
       "  <tbody>\n",
       "    <tr>\n",
       "      <th>358200</th>\n",
       "      <td>0</td>\n",
       "      <td>0</td>\n",
       "      <td>0</td>\n",
       "      <td>0</td>\n",
       "      <td>0</td>\n",
       "      <td>0</td>\n",
       "      <td>0</td>\n",
       "      <td>0</td>\n",
       "      <td>1</td>\n",
       "      <td>0</td>\n",
       "      <td>0</td>\n",
       "      <td>0</td>\n",
       "      <td>0</td>\n",
       "    </tr>\n",
       "    <tr>\n",
       "      <th>382374</th>\n",
       "      <td>0</td>\n",
       "      <td>0</td>\n",
       "      <td>0</td>\n",
       "      <td>1</td>\n",
       "      <td>0</td>\n",
       "      <td>0</td>\n",
       "      <td>0</td>\n",
       "      <td>0</td>\n",
       "      <td>0</td>\n",
       "      <td>0</td>\n",
       "      <td>0</td>\n",
       "      <td>0</td>\n",
       "      <td>0</td>\n",
       "    </tr>\n",
       "    <tr>\n",
       "      <th>227532</th>\n",
       "      <td>0</td>\n",
       "      <td>0</td>\n",
       "      <td>0</td>\n",
       "      <td>0</td>\n",
       "      <td>1</td>\n",
       "      <td>0</td>\n",
       "      <td>0</td>\n",
       "      <td>0</td>\n",
       "      <td>0</td>\n",
       "      <td>0</td>\n",
       "      <td>0</td>\n",
       "      <td>0</td>\n",
       "      <td>0</td>\n",
       "    </tr>\n",
       "    <tr>\n",
       "      <th>390776</th>\n",
       "      <td>0</td>\n",
       "      <td>0</td>\n",
       "      <td>0</td>\n",
       "      <td>0</td>\n",
       "      <td>1</td>\n",
       "      <td>0</td>\n",
       "      <td>0</td>\n",
       "      <td>0</td>\n",
       "      <td>0</td>\n",
       "      <td>0</td>\n",
       "      <td>0</td>\n",
       "      <td>0</td>\n",
       "      <td>0</td>\n",
       "    </tr>\n",
       "  </tbody>\n",
       "</table>\n",
       "</div>"
      ],
      "text/plain": [
       "        STAT_CAUSE_CODE_1.0  STAT_CAUSE_CODE_2.0  STAT_CAUSE_CODE_3.0  \\\n",
       "358200                    0                    0                    0   \n",
       "382374                    0                    0                    0   \n",
       "227532                    0                    0                    0   \n",
       "390776                    0                    0                    0   \n",
       "\n",
       "        STAT_CAUSE_CODE_4.0  STAT_CAUSE_CODE_5.0  STAT_CAUSE_CODE_6.0  \\\n",
       "358200                    0                    0                    0   \n",
       "382374                    1                    0                    0   \n",
       "227532                    0                    1                    0   \n",
       "390776                    0                    1                    0   \n",
       "\n",
       "        STAT_CAUSE_CODE_7.0  STAT_CAUSE_CODE_8.0  STAT_CAUSE_CODE_9.0  \\\n",
       "358200                    0                    0                    1   \n",
       "382374                    0                    0                    0   \n",
       "227532                    0                    0                    0   \n",
       "390776                    0                    0                    0   \n",
       "\n",
       "        STAT_CAUSE_CODE_10.0  STAT_CAUSE_CODE_11.0  STAT_CAUSE_CODE_12.0  \\\n",
       "358200                     0                     0                     0   \n",
       "382374                     0                     0                     0   \n",
       "227532                     0                     0                     0   \n",
       "390776                     0                     0                     0   \n",
       "\n",
       "        STAT_CAUSE_CODE_13.0  \n",
       "358200                     0  \n",
       "382374                     0  \n",
       "227532                     0  \n",
       "390776                     0  "
      ]
     },
     "execution_count": 29,
     "metadata": {},
     "output_type": "execute_result"
    }
   ],
   "source": [
    "extra_cols = pd.get_dummies(df_sev.STAT_CAUSE_CODE, prefix = \"STAT_CAUSE_CODE\")\n",
    "extra_cols.sample(4)"
   ]
  },
  {
   "cell_type": "code",
   "execution_count": 34,
   "metadata": {},
   "outputs": [],
   "source": [
    "df_sev_1 = pd.concat([df_sev, extra_cols], axis=1)"
   ]
  },
  {
   "cell_type": "code",
   "execution_count": 37,
   "metadata": {},
   "outputs": [
    {
     "data": {
      "text/html": [
       "<div>\n",
       "<style scoped>\n",
       "    .dataframe tbody tr th:only-of-type {\n",
       "        vertical-align: middle;\n",
       "    }\n",
       "\n",
       "    .dataframe tbody tr th {\n",
       "        vertical-align: top;\n",
       "    }\n",
       "\n",
       "    .dataframe thead th {\n",
       "        text-align: right;\n",
       "    }\n",
       "</style>\n",
       "<table border=\"1\" class=\"dataframe\">\n",
       "  <thead>\n",
       "    <tr style=\"text-align: right;\">\n",
       "      <th></th>\n",
       "      <th>FIRE_YEAR</th>\n",
       "      <th>DISCOVERY_DOY</th>\n",
       "      <th>DISCOVERY_TIME</th>\n",
       "      <th>CONT_DOY</th>\n",
       "      <th>CONT_TIME</th>\n",
       "      <th>FIRE_SIZE_SCALED</th>\n",
       "      <th>LATITUDE</th>\n",
       "      <th>LONGITUDE</th>\n",
       "      <th>STATE</th>\n",
       "      <th>DISCOVERY_DATE</th>\n",
       "      <th>...</th>\n",
       "      <th>STAT_CAUSE_CODE_4.0</th>\n",
       "      <th>STAT_CAUSE_CODE_5.0</th>\n",
       "      <th>STAT_CAUSE_CODE_6.0</th>\n",
       "      <th>STAT_CAUSE_CODE_7.0</th>\n",
       "      <th>STAT_CAUSE_CODE_8.0</th>\n",
       "      <th>STAT_CAUSE_CODE_9.0</th>\n",
       "      <th>STAT_CAUSE_CODE_10.0</th>\n",
       "      <th>STAT_CAUSE_CODE_11.0</th>\n",
       "      <th>STAT_CAUSE_CODE_12.0</th>\n",
       "      <th>STAT_CAUSE_CODE_13.0</th>\n",
       "    </tr>\n",
       "  </thead>\n",
       "  <tbody>\n",
       "    <tr>\n",
       "      <th>30289</th>\n",
       "      <td>2010</td>\n",
       "      <td>82</td>\n",
       "      <td>2000</td>\n",
       "      <td>82.0</td>\n",
       "      <td>2030</td>\n",
       "      <td>4.118825e-07</td>\n",
       "      <td>40.801667</td>\n",
       "      <td>-121.501389</td>\n",
       "      <td>CA</td>\n",
       "      <td>2455278.5</td>\n",
       "      <td>...</td>\n",
       "      <td>0</td>\n",
       "      <td>1</td>\n",
       "      <td>0</td>\n",
       "      <td>0</td>\n",
       "      <td>0</td>\n",
       "      <td>0</td>\n",
       "      <td>0</td>\n",
       "      <td>0</td>\n",
       "      <td>0</td>\n",
       "      <td>0</td>\n",
       "    </tr>\n",
       "    <tr>\n",
       "      <th>314164</th>\n",
       "      <td>2015</td>\n",
       "      <td>270</td>\n",
       "      <td>1359</td>\n",
       "      <td>270.0</td>\n",
       "      <td>1422</td>\n",
       "      <td>1.647431e-07</td>\n",
       "      <td>46.367520</td>\n",
       "      <td>-120.395420</td>\n",
       "      <td>WA</td>\n",
       "      <td>2457292.5</td>\n",
       "      <td>...</td>\n",
       "      <td>0</td>\n",
       "      <td>0</td>\n",
       "      <td>0</td>\n",
       "      <td>0</td>\n",
       "      <td>0</td>\n",
       "      <td>0</td>\n",
       "      <td>1</td>\n",
       "      <td>0</td>\n",
       "      <td>0</td>\n",
       "      <td>0</td>\n",
       "    </tr>\n",
       "    <tr>\n",
       "      <th>149747</th>\n",
       "      <td>1994</td>\n",
       "      <td>245</td>\n",
       "      <td>1600</td>\n",
       "      <td>245.0</td>\n",
       "      <td>1700</td>\n",
       "      <td>1.647431e-07</td>\n",
       "      <td>41.200000</td>\n",
       "      <td>-120.933333</td>\n",
       "      <td>CA</td>\n",
       "      <td>2449597.5</td>\n",
       "      <td>...</td>\n",
       "      <td>0</td>\n",
       "      <td>0</td>\n",
       "      <td>0</td>\n",
       "      <td>0</td>\n",
       "      <td>0</td>\n",
       "      <td>0</td>\n",
       "      <td>0</td>\n",
       "      <td>0</td>\n",
       "      <td>0</td>\n",
       "      <td>0</td>\n",
       "    </tr>\n",
       "    <tr>\n",
       "      <th>231220</th>\n",
       "      <td>2000</td>\n",
       "      <td>3</td>\n",
       "      <td>1348</td>\n",
       "      <td>3.0</td>\n",
       "      <td>1348</td>\n",
       "      <td>1.812339e-06</td>\n",
       "      <td>32.286300</td>\n",
       "      <td>-81.245000</td>\n",
       "      <td>GA</td>\n",
       "      <td>2451546.5</td>\n",
       "      <td>...</td>\n",
       "      <td>0</td>\n",
       "      <td>1</td>\n",
       "      <td>0</td>\n",
       "      <td>0</td>\n",
       "      <td>0</td>\n",
       "      <td>0</td>\n",
       "      <td>0</td>\n",
       "      <td>0</td>\n",
       "      <td>0</td>\n",
       "      <td>0</td>\n",
       "    </tr>\n",
       "  </tbody>\n",
       "</table>\n",
       "<p>4 rows × 24 columns</p>\n",
       "</div>"
      ],
      "text/plain": [
       "        FIRE_YEAR  DISCOVERY_DOY  DISCOVERY_TIME  CONT_DOY  CONT_TIME  \\\n",
       "30289        2010             82            2000      82.0       2030   \n",
       "314164       2015            270            1359     270.0       1422   \n",
       "149747       1994            245            1600     245.0       1700   \n",
       "231220       2000              3            1348       3.0       1348   \n",
       "\n",
       "        FIRE_SIZE_SCALED   LATITUDE   LONGITUDE STATE  DISCOVERY_DATE  ...  \\\n",
       "30289       4.118825e-07  40.801667 -121.501389    CA       2455278.5  ...   \n",
       "314164      1.647431e-07  46.367520 -120.395420    WA       2457292.5  ...   \n",
       "149747      1.647431e-07  41.200000 -120.933333    CA       2449597.5  ...   \n",
       "231220      1.812339e-06  32.286300  -81.245000    GA       2451546.5  ...   \n",
       "\n",
       "       STAT_CAUSE_CODE_4.0  STAT_CAUSE_CODE_5.0  STAT_CAUSE_CODE_6.0  \\\n",
       "30289                    0                    1                    0   \n",
       "314164                   0                    0                    0   \n",
       "149747                   0                    0                    0   \n",
       "231220                   0                    1                    0   \n",
       "\n",
       "        STAT_CAUSE_CODE_7.0  STAT_CAUSE_CODE_8.0  STAT_CAUSE_CODE_9.0  \\\n",
       "30289                     0                    0                    0   \n",
       "314164                    0                    0                    0   \n",
       "149747                    0                    0                    0   \n",
       "231220                    0                    0                    0   \n",
       "\n",
       "        STAT_CAUSE_CODE_10.0  STAT_CAUSE_CODE_11.0  STAT_CAUSE_CODE_12.0  \\\n",
       "30289                      0                     0                     0   \n",
       "314164                     1                     0                     0   \n",
       "149747                     0                     0                     0   \n",
       "231220                     0                     0                     0   \n",
       "\n",
       "        STAT_CAUSE_CODE_13.0  \n",
       "30289                      0  \n",
       "314164                     0  \n",
       "149747                     0  \n",
       "231220                     0  \n",
       "\n",
       "[4 rows x 24 columns]"
      ]
     },
     "execution_count": 37,
     "metadata": {},
     "output_type": "execute_result"
    }
   ],
   "source": [
    "df_sev_1 = df_sev_1.drop([\"STAT_CAUSE_CODE\"], axis=1)\n",
    "df_sev_1.sample(4)"
   ]
  },
  {
   "cell_type": "code",
   "execution_count": 59,
   "metadata": {},
   "outputs": [
    {
     "name": "stdout",
     "output_type": "stream",
     "text": [
      "(0, 24)\n"
     ]
    },
    {
     "data": {
      "text/plain": [
       "A    2400\n",
       "C    2400\n",
       "B    2400\n",
       "D    2400\n",
       "E    2400\n",
       "G    2400\n",
       "F    2400\n",
       "Name: FIRE_SIZE_CLASS, dtype: int64"
      ]
     },
     "execution_count": 59,
     "metadata": {},
     "output_type": "execute_result"
    }
   ],
   "source": [
    "df_sev_main = df_sev_1[0:0]\n",
    "print(df_sev_main.shape)\n",
    "for c in df_sev_1[\"FIRE_SIZE_CLASS\"].unique():\n",
    "    df_sev_main = pd.concat([df_sev_main, df_sev_1[df_sev_1[\"FIRE_SIZE_CLASS\"] == c].sample(2400)])\n",
    "\n",
    "df_sev_main[\"FIRE_SIZE_CLASS\"].value_counts()"
   ]
  },
  {
   "cell_type": "code",
   "execution_count": 61,
   "metadata": {},
   "outputs": [
    {
     "data": {
      "text/html": [
       "<div>\n",
       "<style scoped>\n",
       "    .dataframe tbody tr th:only-of-type {\n",
       "        vertical-align: middle;\n",
       "    }\n",
       "\n",
       "    .dataframe tbody tr th {\n",
       "        vertical-align: top;\n",
       "    }\n",
       "\n",
       "    .dataframe thead th {\n",
       "        text-align: right;\n",
       "    }\n",
       "</style>\n",
       "<table border=\"1\" class=\"dataframe\">\n",
       "  <thead>\n",
       "    <tr style=\"text-align: right;\">\n",
       "      <th></th>\n",
       "      <th>FIRE_YEAR</th>\n",
       "      <th>DISCOVERY_DOY</th>\n",
       "      <th>DISCOVERY_TIME</th>\n",
       "      <th>CONT_DOY</th>\n",
       "      <th>CONT_TIME</th>\n",
       "      <th>FIRE_SIZE_SCALED</th>\n",
       "      <th>LATITUDE</th>\n",
       "      <th>LONGITUDE</th>\n",
       "      <th>STATE</th>\n",
       "      <th>DISCOVERY_DATE</th>\n",
       "      <th>...</th>\n",
       "      <th>STAT_CAUSE_CODE_4.0</th>\n",
       "      <th>STAT_CAUSE_CODE_5.0</th>\n",
       "      <th>STAT_CAUSE_CODE_6.0</th>\n",
       "      <th>STAT_CAUSE_CODE_7.0</th>\n",
       "      <th>STAT_CAUSE_CODE_8.0</th>\n",
       "      <th>STAT_CAUSE_CODE_9.0</th>\n",
       "      <th>STAT_CAUSE_CODE_10.0</th>\n",
       "      <th>STAT_CAUSE_CODE_11.0</th>\n",
       "      <th>STAT_CAUSE_CODE_12.0</th>\n",
       "      <th>STAT_CAUSE_CODE_13.0</th>\n",
       "    </tr>\n",
       "  </thead>\n",
       "  <tbody>\n",
       "    <tr>\n",
       "      <th>261443</th>\n",
       "      <td>2004</td>\n",
       "      <td>256</td>\n",
       "      <td>1504</td>\n",
       "      <td>257.0</td>\n",
       "      <td>1530</td>\n",
       "      <td>1.647431e-07</td>\n",
       "      <td>36.812200</td>\n",
       "      <td>-113.591300</td>\n",
       "      <td>AZ</td>\n",
       "      <td>2453260.5</td>\n",
       "      <td>...</td>\n",
       "      <td>0</td>\n",
       "      <td>0</td>\n",
       "      <td>0</td>\n",
       "      <td>0</td>\n",
       "      <td>0</td>\n",
       "      <td>0</td>\n",
       "      <td>0</td>\n",
       "      <td>0</td>\n",
       "      <td>0</td>\n",
       "      <td>0</td>\n",
       "    </tr>\n",
       "    <tr>\n",
       "      <th>153249</th>\n",
       "      <td>1994</td>\n",
       "      <td>214</td>\n",
       "      <td>2000</td>\n",
       "      <td>215.0</td>\n",
       "      <td>1500</td>\n",
       "      <td>1.647431e-07</td>\n",
       "      <td>48.025000</td>\n",
       "      <td>-115.720000</td>\n",
       "      <td>MT</td>\n",
       "      <td>2449566.5</td>\n",
       "      <td>...</td>\n",
       "      <td>0</td>\n",
       "      <td>0</td>\n",
       "      <td>0</td>\n",
       "      <td>0</td>\n",
       "      <td>0</td>\n",
       "      <td>0</td>\n",
       "      <td>0</td>\n",
       "      <td>0</td>\n",
       "      <td>0</td>\n",
       "      <td>0</td>\n",
       "    </tr>\n",
       "    <tr>\n",
       "      <th>87741</th>\n",
       "      <td>2012</td>\n",
       "      <td>190</td>\n",
       "      <td>1550</td>\n",
       "      <td>190.0</td>\n",
       "      <td>1840</td>\n",
       "      <td>2.471392e-05</td>\n",
       "      <td>35.136140</td>\n",
       "      <td>-94.076500</td>\n",
       "      <td>AR</td>\n",
       "      <td>2456116.5</td>\n",
       "      <td>...</td>\n",
       "      <td>0</td>\n",
       "      <td>0</td>\n",
       "      <td>0</td>\n",
       "      <td>0</td>\n",
       "      <td>0</td>\n",
       "      <td>1</td>\n",
       "      <td>0</td>\n",
       "      <td>0</td>\n",
       "      <td>0</td>\n",
       "      <td>0</td>\n",
       "    </tr>\n",
       "    <tr>\n",
       "      <th>692903</th>\n",
       "      <td>1992</td>\n",
       "      <td>201</td>\n",
       "      <td>1504</td>\n",
       "      <td>203.0</td>\n",
       "      <td>2000</td>\n",
       "      <td>4.687410e-03</td>\n",
       "      <td>44.417100</td>\n",
       "      <td>-117.415200</td>\n",
       "      <td>OR</td>\n",
       "      <td>2448822.5</td>\n",
       "      <td>...</td>\n",
       "      <td>0</td>\n",
       "      <td>0</td>\n",
       "      <td>0</td>\n",
       "      <td>0</td>\n",
       "      <td>0</td>\n",
       "      <td>0</td>\n",
       "      <td>0</td>\n",
       "      <td>0</td>\n",
       "      <td>0</td>\n",
       "      <td>0</td>\n",
       "    </tr>\n",
       "    <tr>\n",
       "      <th>571648</th>\n",
       "      <td>2011</td>\n",
       "      <td>109</td>\n",
       "      <td>1236</td>\n",
       "      <td>109.0</td>\n",
       "      <td>1700</td>\n",
       "      <td>3.295191e-03</td>\n",
       "      <td>33.288150</td>\n",
       "      <td>-101.391683</td>\n",
       "      <td>TX</td>\n",
       "      <td>2455670.5</td>\n",
       "      <td>...</td>\n",
       "      <td>0</td>\n",
       "      <td>0</td>\n",
       "      <td>0</td>\n",
       "      <td>0</td>\n",
       "      <td>0</td>\n",
       "      <td>1</td>\n",
       "      <td>0</td>\n",
       "      <td>0</td>\n",
       "      <td>0</td>\n",
       "      <td>0</td>\n",
       "    </tr>\n",
       "    <tr>\n",
       "      <th>321629</th>\n",
       "      <td>2012</td>\n",
       "      <td>305</td>\n",
       "      <td>900</td>\n",
       "      <td>307.0</td>\n",
       "      <td>1800</td>\n",
       "      <td>3.866907e-03</td>\n",
       "      <td>43.266694</td>\n",
       "      <td>-117.379190</td>\n",
       "      <td>OR</td>\n",
       "      <td>2456231.5</td>\n",
       "      <td>...</td>\n",
       "      <td>0</td>\n",
       "      <td>0</td>\n",
       "      <td>0</td>\n",
       "      <td>0</td>\n",
       "      <td>0</td>\n",
       "      <td>1</td>\n",
       "      <td>0</td>\n",
       "      <td>0</td>\n",
       "      <td>0</td>\n",
       "      <td>0</td>\n",
       "    </tr>\n",
       "    <tr>\n",
       "      <th>607639</th>\n",
       "      <td>2015</td>\n",
       "      <td>325</td>\n",
       "      <td>1316</td>\n",
       "      <td>325.0</td>\n",
       "      <td>1447</td>\n",
       "      <td>1.647431e-07</td>\n",
       "      <td>40.802200</td>\n",
       "      <td>-72.884700</td>\n",
       "      <td>NY</td>\n",
       "      <td>2457347.5</td>\n",
       "      <td>...</td>\n",
       "      <td>0</td>\n",
       "      <td>0</td>\n",
       "      <td>0</td>\n",
       "      <td>0</td>\n",
       "      <td>0</td>\n",
       "      <td>1</td>\n",
       "      <td>0</td>\n",
       "      <td>0</td>\n",
       "      <td>0</td>\n",
       "      <td>0</td>\n",
       "    </tr>\n",
       "  </tbody>\n",
       "</table>\n",
       "<p>7 rows × 24 columns</p>\n",
       "</div>"
      ],
      "text/plain": [
       "        FIRE_YEAR  DISCOVERY_DOY  DISCOVERY_TIME  CONT_DOY  CONT_TIME  \\\n",
       "261443       2004            256            1504     257.0       1530   \n",
       "153249       1994            214            2000     215.0       1500   \n",
       "87741        2012            190            1550     190.0       1840   \n",
       "692903       1992            201            1504     203.0       2000   \n",
       "571648       2011            109            1236     109.0       1700   \n",
       "321629       2012            305             900     307.0       1800   \n",
       "607639       2015            325            1316     325.0       1447   \n",
       "\n",
       "        FIRE_SIZE_SCALED   LATITUDE   LONGITUDE STATE  DISCOVERY_DATE  ...  \\\n",
       "261443      1.647431e-07  36.812200 -113.591300    AZ       2453260.5  ...   \n",
       "153249      1.647431e-07  48.025000 -115.720000    MT       2449566.5  ...   \n",
       "87741       2.471392e-05  35.136140  -94.076500    AR       2456116.5  ...   \n",
       "692903      4.687410e-03  44.417100 -117.415200    OR       2448822.5  ...   \n",
       "571648      3.295191e-03  33.288150 -101.391683    TX       2455670.5  ...   \n",
       "321629      3.866907e-03  43.266694 -117.379190    OR       2456231.5  ...   \n",
       "607639      1.647431e-07  40.802200  -72.884700    NY       2457347.5  ...   \n",
       "\n",
       "       STAT_CAUSE_CODE_4.0  STAT_CAUSE_CODE_5.0  STAT_CAUSE_CODE_6.0  \\\n",
       "261443                   0                    0                    0   \n",
       "153249                   0                    0                    0   \n",
       "87741                    0                    0                    0   \n",
       "692903                   0                    0                    0   \n",
       "571648                   0                    0                    0   \n",
       "321629                   0                    0                    0   \n",
       "607639                   0                    0                    0   \n",
       "\n",
       "        STAT_CAUSE_CODE_7.0  STAT_CAUSE_CODE_8.0  STAT_CAUSE_CODE_9.0  \\\n",
       "261443                    0                    0                    0   \n",
       "153249                    0                    0                    0   \n",
       "87741                     0                    0                    1   \n",
       "692903                    0                    0                    0   \n",
       "571648                    0                    0                    1   \n",
       "321629                    0                    0                    1   \n",
       "607639                    0                    0                    1   \n",
       "\n",
       "        STAT_CAUSE_CODE_10.0  STAT_CAUSE_CODE_11.0  STAT_CAUSE_CODE_12.0  \\\n",
       "261443                     0                     0                     0   \n",
       "153249                     0                     0                     0   \n",
       "87741                      0                     0                     0   \n",
       "692903                     0                     0                     0   \n",
       "571648                     0                     0                     0   \n",
       "321629                     0                     0                     0   \n",
       "607639                     0                     0                     0   \n",
       "\n",
       "        STAT_CAUSE_CODE_13.0  \n",
       "261443                     0  \n",
       "153249                     0  \n",
       "87741                      0  \n",
       "692903                     0  \n",
       "571648                     0  \n",
       "321629                     0  \n",
       "607639                     0  \n",
       "\n",
       "[7 rows x 24 columns]"
      ]
     },
     "execution_count": 61,
     "metadata": {},
     "output_type": "execute_result"
    }
   ],
   "source": [
    "df_sev_main.sample(7)"
   ]
  },
  {
   "cell_type": "code",
   "execution_count": null,
   "metadata": {},
   "outputs": [],
   "source": []
  }
 ],
 "metadata": {
  "colab": {
   "provenance": []
  },
  "gpuClass": "standard",
  "kernelspec": {
   "display_name": "Python 3",
   "language": "python",
   "name": "python3"
  },
  "language_info": {
   "codemirror_mode": {
    "name": "ipython",
    "version": 3
   },
   "file_extension": ".py",
   "mimetype": "text/x-python",
   "name": "python",
   "nbconvert_exporter": "python",
   "pygments_lexer": "ipython3",
   "version": "3.8.10"
  }
 },
 "nbformat": 4,
 "nbformat_minor": 1
}
