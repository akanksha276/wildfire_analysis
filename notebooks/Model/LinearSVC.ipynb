{
 "cells": [
  {
   "cell_type": "code",
   "execution_count": 1,
   "metadata": {
    "id": "O-DepI8DHjuR"
   },
   "outputs": [
    {
     "name": "stdout",
     "output_type": "stream",
     "text": [
      "<class 'pandas.core.frame.DataFrame'>\n",
      "RangeIndex: 713605 entries, 0 to 713604\n",
      "Columns: 1584 entries, OBJECTID to FIPS_NAME_Zavala\n",
      "dtypes: float64(8), int64(1561), object(15)\n",
      "memory usage: 8.4+ GB\n"
     ]
    },
    {
     "data": {
      "text/html": [
       "<div>\n",
       "<style scoped>\n",
       "    .dataframe tbody tr th:only-of-type {\n",
       "        vertical-align: middle;\n",
       "    }\n",
       "\n",
       "    .dataframe tbody tr th {\n",
       "        vertical-align: top;\n",
       "    }\n",
       "\n",
       "    .dataframe thead th {\n",
       "        text-align: right;\n",
       "    }\n",
       "</style>\n",
       "<table border=\"1\" class=\"dataframe\">\n",
       "  <thead>\n",
       "    <tr style=\"text-align: right;\">\n",
       "      <th></th>\n",
       "      <th>OBJECTID</th>\n",
       "      <th>FOD_ID</th>\n",
       "      <th>FPA_ID</th>\n",
       "      <th>SOURCE_SYSTEM_TYPE</th>\n",
       "      <th>SOURCE_SYSTEM</th>\n",
       "      <th>NWCG_REPORTING_AGENCY</th>\n",
       "      <th>NWCG_REPORTING_UNIT_ID</th>\n",
       "      <th>NWCG_REPORTING_UNIT_NAME</th>\n",
       "      <th>SOURCE_REPORTING_UNIT</th>\n",
       "      <th>SOURCE_REPORTING_UNIT_NAME</th>\n",
       "      <th>...</th>\n",
       "      <th>FIPS_NAME_Yellowstone</th>\n",
       "      <th>FIPS_NAME_Yoakum</th>\n",
       "      <th>FIPS_NAME_Yolo</th>\n",
       "      <th>FIPS_NAME_York</th>\n",
       "      <th>FIPS_NAME_Young</th>\n",
       "      <th>FIPS_NAME_Yuba</th>\n",
       "      <th>FIPS_NAME_Yukon-Koyukuk</th>\n",
       "      <th>FIPS_NAME_Yuma</th>\n",
       "      <th>FIPS_NAME_Zapata</th>\n",
       "      <th>FIPS_NAME_Zavala</th>\n",
       "    </tr>\n",
       "  </thead>\n",
       "  <tbody>\n",
       "    <tr>\n",
       "      <th>254796</th>\n",
       "      <td>21164</td>\n",
       "      <td>21268</td>\n",
       "      <td>FS-1451805</td>\n",
       "      <td>FED</td>\n",
       "      <td>FS-FIRESTAT</td>\n",
       "      <td>FS</td>\n",
       "      <td>USCASQF</td>\n",
       "      <td>Sequoia National Forest</td>\n",
       "      <td>0513</td>\n",
       "      <td>Sequoia National Forest</td>\n",
       "      <td>...</td>\n",
       "      <td>0</td>\n",
       "      <td>0</td>\n",
       "      <td>0</td>\n",
       "      <td>0</td>\n",
       "      <td>0</td>\n",
       "      <td>0</td>\n",
       "      <td>0</td>\n",
       "      <td>0</td>\n",
       "      <td>0</td>\n",
       "      <td>0</td>\n",
       "    </tr>\n",
       "    <tr>\n",
       "      <th>680461</th>\n",
       "      <td>1382113</td>\n",
       "      <td>19077820</td>\n",
       "      <td>SFO-GA-FAN-9-2/13/1996-1400</td>\n",
       "      <td>NONFED</td>\n",
       "      <td>ST-GAGAS</td>\n",
       "      <td>ST/C&amp;L</td>\n",
       "      <td>USGAGAS</td>\n",
       "      <td>Georgia Forestry Commission</td>\n",
       "      <td>GAGAS</td>\n",
       "      <td>Georgia Forestry Commission</td>\n",
       "      <td>...</td>\n",
       "      <td>0</td>\n",
       "      <td>0</td>\n",
       "      <td>0</td>\n",
       "      <td>0</td>\n",
       "      <td>0</td>\n",
       "      <td>0</td>\n",
       "      <td>0</td>\n",
       "      <td>0</td>\n",
       "      <td>0</td>\n",
       "      <td>0</td>\n",
       "    </tr>\n",
       "    <tr>\n",
       "      <th>76319</th>\n",
       "      <td>338404</td>\n",
       "      <td>346899</td>\n",
       "      <td>W-104011</td>\n",
       "      <td>FED</td>\n",
       "      <td>DOI-WFMI</td>\n",
       "      <td>BLM</td>\n",
       "      <td>USNMFAD</td>\n",
       "      <td>Farmington Field Office</td>\n",
       "      <td>NMFAD</td>\n",
       "      <td>Farmington Field Office</td>\n",
       "      <td>...</td>\n",
       "      <td>0</td>\n",
       "      <td>0</td>\n",
       "      <td>0</td>\n",
       "      <td>0</td>\n",
       "      <td>0</td>\n",
       "      <td>0</td>\n",
       "      <td>0</td>\n",
       "      <td>0</td>\n",
       "      <td>0</td>\n",
       "      <td>0</td>\n",
       "    </tr>\n",
       "    <tr>\n",
       "      <th>234201</th>\n",
       "      <td>1838212</td>\n",
       "      <td>300261049</td>\n",
       "      <td>SFO-2015KS00003493</td>\n",
       "      <td>NONFED</td>\n",
       "      <td>ST-NASF</td>\n",
       "      <td>ST/C&amp;L</td>\n",
       "      <td>USKSKSS</td>\n",
       "      <td>Kansas State Forestry</td>\n",
       "      <td>KSKSS</td>\n",
       "      <td>Kansas State Forestry (PBC Area)</td>\n",
       "      <td>...</td>\n",
       "      <td>0</td>\n",
       "      <td>0</td>\n",
       "      <td>0</td>\n",
       "      <td>0</td>\n",
       "      <td>0</td>\n",
       "      <td>0</td>\n",
       "      <td>0</td>\n",
       "      <td>0</td>\n",
       "      <td>0</td>\n",
       "      <td>0</td>\n",
       "    </tr>\n",
       "    <tr>\n",
       "      <th>96743</th>\n",
       "      <td>280326</td>\n",
       "      <td>285715</td>\n",
       "      <td>W-592858</td>\n",
       "      <td>FED</td>\n",
       "      <td>DOI-WFMI</td>\n",
       "      <td>BIA</td>\n",
       "      <td>USWACOA</td>\n",
       "      <td>Colville Agency</td>\n",
       "      <td>WACOA</td>\n",
       "      <td>Colville Agency</td>\n",
       "      <td>...</td>\n",
       "      <td>0</td>\n",
       "      <td>0</td>\n",
       "      <td>0</td>\n",
       "      <td>0</td>\n",
       "      <td>0</td>\n",
       "      <td>0</td>\n",
       "      <td>0</td>\n",
       "      <td>0</td>\n",
       "      <td>0</td>\n",
       "      <td>0</td>\n",
       "    </tr>\n",
       "    <tr>\n",
       "      <th>19155</th>\n",
       "      <td>1176280</td>\n",
       "      <td>1427412</td>\n",
       "      <td>MSHIST_24077</td>\n",
       "      <td>NONFED</td>\n",
       "      <td>ST-MSMSS</td>\n",
       "      <td>ST/C&amp;L</td>\n",
       "      <td>USMSMSS</td>\n",
       "      <td>Mississippi Forestry Commission</td>\n",
       "      <td>MSMSS</td>\n",
       "      <td>Mississippi Forestry Commission</td>\n",
       "      <td>...</td>\n",
       "      <td>0</td>\n",
       "      <td>0</td>\n",
       "      <td>0</td>\n",
       "      <td>0</td>\n",
       "      <td>0</td>\n",
       "      <td>0</td>\n",
       "      <td>0</td>\n",
       "      <td>0</td>\n",
       "      <td>0</td>\n",
       "      <td>0</td>\n",
       "    </tr>\n",
       "    <tr>\n",
       "      <th>41790</th>\n",
       "      <td>1352473</td>\n",
       "      <td>1832309</td>\n",
       "      <td>SFO-NY-NY5268-2000-0050526</td>\n",
       "      <td>NONFED</td>\n",
       "      <td>ST-NASF</td>\n",
       "      <td>ST/C&amp;L</td>\n",
       "      <td>USNYNYX</td>\n",
       "      <td>Fire Department of New York</td>\n",
       "      <td>NY5268</td>\n",
       "      <td>Fire Department of New York</td>\n",
       "      <td>...</td>\n",
       "      <td>0</td>\n",
       "      <td>0</td>\n",
       "      <td>0</td>\n",
       "      <td>0</td>\n",
       "      <td>0</td>\n",
       "      <td>0</td>\n",
       "      <td>0</td>\n",
       "      <td>0</td>\n",
       "      <td>0</td>\n",
       "      <td>0</td>\n",
       "    </tr>\n",
       "    <tr>\n",
       "      <th>311992</th>\n",
       "      <td>265075</td>\n",
       "      <td>270123</td>\n",
       "      <td>W-522574</td>\n",
       "      <td>FED</td>\n",
       "      <td>DOI-WFMI</td>\n",
       "      <td>BIA</td>\n",
       "      <td>USSDPRA</td>\n",
       "      <td>Pine Ridge Agency</td>\n",
       "      <td>SDPRA</td>\n",
       "      <td>Pine Ridge Agency</td>\n",
       "      <td>...</td>\n",
       "      <td>0</td>\n",
       "      <td>0</td>\n",
       "      <td>0</td>\n",
       "      <td>0</td>\n",
       "      <td>0</td>\n",
       "      <td>0</td>\n",
       "      <td>0</td>\n",
       "      <td>0</td>\n",
       "      <td>0</td>\n",
       "      <td>0</td>\n",
       "    </tr>\n",
       "    <tr>\n",
       "      <th>455899</th>\n",
       "      <td>215594</td>\n",
       "      <td>218724</td>\n",
       "      <td>W-92937</td>\n",
       "      <td>FED</td>\n",
       "      <td>DOI-WFMI</td>\n",
       "      <td>BLM</td>\n",
       "      <td>USCACND</td>\n",
       "      <td>Central California District</td>\n",
       "      <td>CABBD</td>\n",
       "      <td>Bakersfield District</td>\n",
       "      <td>...</td>\n",
       "      <td>0</td>\n",
       "      <td>0</td>\n",
       "      <td>0</td>\n",
       "      <td>0</td>\n",
       "      <td>0</td>\n",
       "      <td>0</td>\n",
       "      <td>0</td>\n",
       "      <td>0</td>\n",
       "      <td>0</td>\n",
       "      <td>0</td>\n",
       "    </tr>\n",
       "    <tr>\n",
       "      <th>132142</th>\n",
       "      <td>67910</td>\n",
       "      <td>68615</td>\n",
       "      <td>FS-293263</td>\n",
       "      <td>FED</td>\n",
       "      <td>FS-FIRESTAT</td>\n",
       "      <td>FS</td>\n",
       "      <td>USIDSCF</td>\n",
       "      <td>Salmon-Challis National Forest</td>\n",
       "      <td>0406</td>\n",
       "      <td>Challis National Forest</td>\n",
       "      <td>...</td>\n",
       "      <td>0</td>\n",
       "      <td>0</td>\n",
       "      <td>0</td>\n",
       "      <td>0</td>\n",
       "      <td>0</td>\n",
       "      <td>0</td>\n",
       "      <td>0</td>\n",
       "      <td>0</td>\n",
       "      <td>0</td>\n",
       "      <td>0</td>\n",
       "    </tr>\n",
       "  </tbody>\n",
       "</table>\n",
       "<p>10 rows × 1584 columns</p>\n",
       "</div>"
      ],
      "text/plain": [
       "        OBJECTID     FOD_ID                       FPA_ID SOURCE_SYSTEM_TYPE   \n",
       "254796     21164      21268                   FS-1451805                FED  \\\n",
       "680461   1382113   19077820  SFO-GA-FAN-9-2/13/1996-1400             NONFED   \n",
       "76319     338404     346899                     W-104011                FED   \n",
       "234201   1838212  300261049           SFO-2015KS00003493             NONFED   \n",
       "96743     280326     285715                     W-592858                FED   \n",
       "19155    1176280    1427412                 MSHIST_24077             NONFED   \n",
       "41790    1352473    1832309   SFO-NY-NY5268-2000-0050526             NONFED   \n",
       "311992    265075     270123                     W-522574                FED   \n",
       "455899    215594     218724                      W-92937                FED   \n",
       "132142     67910      68615                    FS-293263                FED   \n",
       "\n",
       "       SOURCE_SYSTEM NWCG_REPORTING_AGENCY NWCG_REPORTING_UNIT_ID   \n",
       "254796   FS-FIRESTAT                    FS                USCASQF  \\\n",
       "680461      ST-GAGAS                ST/C&L                USGAGAS   \n",
       "76319       DOI-WFMI                   BLM                USNMFAD   \n",
       "234201       ST-NASF                ST/C&L                USKSKSS   \n",
       "96743       DOI-WFMI                   BIA                USWACOA   \n",
       "19155       ST-MSMSS                ST/C&L                USMSMSS   \n",
       "41790        ST-NASF                ST/C&L                USNYNYX   \n",
       "311992      DOI-WFMI                   BIA                USSDPRA   \n",
       "455899      DOI-WFMI                   BLM                USCACND   \n",
       "132142   FS-FIRESTAT                    FS                USIDSCF   \n",
       "\n",
       "               NWCG_REPORTING_UNIT_NAME SOURCE_REPORTING_UNIT   \n",
       "254796          Sequoia National Forest                  0513  \\\n",
       "680461      Georgia Forestry Commission                 GAGAS   \n",
       "76319           Farmington Field Office                 NMFAD   \n",
       "234201            Kansas State Forestry                 KSKSS   \n",
       "96743                   Colville Agency                 WACOA   \n",
       "19155   Mississippi Forestry Commission                 MSMSS   \n",
       "41790       Fire Department of New York                NY5268   \n",
       "311992                Pine Ridge Agency                 SDPRA   \n",
       "455899      Central California District                 CABBD   \n",
       "132142   Salmon-Challis National Forest                  0406   \n",
       "\n",
       "              SOURCE_REPORTING_UNIT_NAME  ... FIPS_NAME_Yellowstone   \n",
       "254796           Sequoia National Forest  ...                     0  \\\n",
       "680461       Georgia Forestry Commission  ...                     0   \n",
       "76319            Farmington Field Office  ...                     0   \n",
       "234201  Kansas State Forestry (PBC Area)  ...                     0   \n",
       "96743                    Colville Agency  ...                     0   \n",
       "19155    Mississippi Forestry Commission  ...                     0   \n",
       "41790        Fire Department of New York  ...                     0   \n",
       "311992                 Pine Ridge Agency  ...                     0   \n",
       "455899              Bakersfield District  ...                     0   \n",
       "132142           Challis National Forest  ...                     0   \n",
       "\n",
       "        FIPS_NAME_Yoakum  FIPS_NAME_Yolo  FIPS_NAME_York  FIPS_NAME_Young   \n",
       "254796                 0               0               0                0  \\\n",
       "680461                 0               0               0                0   \n",
       "76319                  0               0               0                0   \n",
       "234201                 0               0               0                0   \n",
       "96743                  0               0               0                0   \n",
       "19155                  0               0               0                0   \n",
       "41790                  0               0               0                0   \n",
       "311992                 0               0               0                0   \n",
       "455899                 0               0               0                0   \n",
       "132142                 0               0               0                0   \n",
       "\n",
       "        FIPS_NAME_Yuba FIPS_NAME_Yukon-Koyukuk  FIPS_NAME_Yuma   \n",
       "254796               0                       0               0  \\\n",
       "680461               0                       0               0   \n",
       "76319                0                       0               0   \n",
       "234201               0                       0               0   \n",
       "96743                0                       0               0   \n",
       "19155                0                       0               0   \n",
       "41790                0                       0               0   \n",
       "311992               0                       0               0   \n",
       "455899               0                       0               0   \n",
       "132142               0                       0               0   \n",
       "\n",
       "        FIPS_NAME_Zapata  FIPS_NAME_Zavala  \n",
       "254796                 0                 0  \n",
       "680461                 0                 0  \n",
       "76319                  0                 0  \n",
       "234201                 0                 0  \n",
       "96743                  0                 0  \n",
       "19155                  0                 0  \n",
       "41790                  0                 0  \n",
       "311992                 0                 0  \n",
       "455899                 0                 0  \n",
       "132142                 0                 0  \n",
       "\n",
       "[10 rows x 1584 columns]"
      ]
     },
     "execution_count": 1,
     "metadata": {},
     "output_type": "execute_result"
    }
   ],
   "source": [
    "import pandas as pd\n",
    "from sklearn.preprocessing import MinMaxScaler,LabelEncoder\n",
    "from sklearn.model_selection import train_test_split\n",
    "from sklearn.svm import LinearSVC\n",
    "from sklearn.metrics import mean_squared_error,classification_report\n",
    "\n",
    "#train_df = pd.read_csv('data/train.csv')\n",
    "train_df = pd.read_csv('train.csv')\n",
    "\n",
    "train_df.info()\n",
    "\n",
    "train_df.sample(10)"
   ]
  },
  {
   "cell_type": "code",
   "execution_count": 2,
   "metadata": {
    "id": "1_xjFCGNIJ2a"
   },
   "outputs": [],
   "source": [
    "\"\"\"### Scaling Fire size\"\"\"\n",
    "\n",
    "scaler = MinMaxScaler()\n",
    "#train_df['FIRE_SIZE_SCALED'] = scaler.fit_transform(train_df[['FIRE_SIZE']])\n",
    "\n"
   ]
  },
  {
   "cell_type": "code",
   "execution_count": 3,
   "metadata": {
    "id": "1BTxQLKGISVB"
   },
   "outputs": [
    {
     "name": "stdout",
     "output_type": "stream",
     "text": [
      "   FIRE_YEAR  DISCOVERY_DOY  CONT_DOY  CONT_TIME  STAT_CAUSE_CODE  FIRE_SIZE   \n",
      "0       2012             71      71.0       1943              9.0        0.1  \\\n",
      "1       2012            225     225.0       1730              4.0        0.1   \n",
      "2       2006            182     183.0       1500              1.0       98.6   \n",
      "3       2010            192     192.0       1515              9.0        0.5   \n",
      "4       2014             24      24.0       1439              5.0       11.8   \n",
      "\n",
      "    LATITUDE   LONGITUDE STATE  \n",
      "0  41.147000  -73.927000    NY  \n",
      "1  43.084444 -122.617778    OR  \n",
      "2  42.741900 -114.848900    ID  \n",
      "3  40.293300 -111.977500    UT  \n",
      "4  31.949458  -83.289372    GA  \n",
      "Shape of X: (713605, 8)\n",
      "Shape of y: (713605,)\n",
      "--------------X after fit_transform using minmax scaler----------------------------\n",
      "          0         1         2         3         4             5         6   \n",
      "0  0.869565  0.191781  0.191781  0.823654  0.666667  1.645948e-07  0.442964  \\\n",
      "1  0.869565  0.613699  0.613699  0.733362  0.250000  1.645948e-07  0.479945   \n",
      "2  0.608696  0.495890  0.498630  0.635863  0.000000  1.624528e-04  0.473406   \n",
      "3  0.782609  0.523288  0.523288  0.642221  0.666667  8.236331e-07  0.426669   \n",
      "4  0.956522  0.063014  0.063014  0.610004  0.333333  1.944147e-05  0.267408   \n",
      "\n",
      "          7  \n",
      "0  0.916323  \n",
      "1  0.446394  \n",
      "2  0.521373  \n",
      "3  0.549086  \n",
      "4  0.825964  \n",
      "--------------y after fit_transform using LabelEncoder----------------------------\n",
      "    0\n",
      "0  34\n",
      "1  37\n",
      "2  13\n",
      "3  45\n",
      "4  10\n"
     ]
    }
   ],
   "source": [
    "\"\"\"### Selecting Important Columns\"\"\"\n",
    "\n",
    "#good_cols = [\"FIRE_YEAR\",\"DISCOVERY_DOY\",\"DISCOVERY_TIME\",\"CONT_DOY\",\"CONT_TIME\",\"STAT_CAUSE_CODE\",\n",
    "#             \"FIRE_SIZE_SCALED\",\"LATITUDE\",\"LONGITUDE\",\"STATE\",\"DISCOVERY_DATE\"]\n",
    "\n",
    "good_cols = [\"FIRE_YEAR\",\"DISCOVERY_DOY\",\"CONT_DOY\",\"CONT_TIME\",\"STAT_CAUSE_CODE\",\n",
    "             \"FIRE_SIZE\",\"LATITUDE\",\"LONGITUDE\",\"STATE\"]\n",
    "\n",
    "#prefix1 = 'STAT_CAUSE_DESCR_'\n",
    "#prefix2 = 'FIPS_NAME_'\n",
    "\n",
    "# select the columns you want to keep\n",
    "#keep_cols1 = train_df.filter(like=prefix1).columns.tolist()\n",
    "#keep_cols2 = train_df.filter(like=prefix2).columns.tolist()\n",
    "#keep_cols = good_cols + keep_cols1 + keep_cols2\n",
    "keep_cols = good_cols #+ keep_cols2\n",
    "\n",
    "df_interest = train_df[keep_cols]\n",
    "\n",
    "print(df_interest.head())\n",
    "\n",
    "#X = df_interest.drop(['STATE'], axis=1)\n",
    "#y = df_interest['STATE']\n",
    "\n",
    "#X.shape\n",
    "\n",
    "#y.shape\n",
    "\n",
    "X = df_interest.drop([\"STATE\"], axis=1)\n",
    "X = scaler.fit_transform(X.to_numpy())\n",
    "y = LabelEncoder().fit_transform(df_interest.STATE.values)\n",
    "\n",
    "print(f\"Shape of X: {X.shape}\")\n",
    "print(f\"Shape of y: {y.shape}\")\n",
    "\n",
    "print(\"--------------X after fit_transform using minmax scaler----------------------------\")\n",
    "pdX = pd.DataFrame(X)\n",
    "print(pdX.head())\n",
    "\n",
    "print(\"--------------y after fit_transform using LabelEncoder----------------------------\")\n",
    "pdy = pd.DataFrame(y)\n",
    "print(pdy.head())"
   ]
  },
  {
   "cell_type": "code",
   "execution_count": 4,
   "metadata": {},
   "outputs": [
    {
     "name": "stdout",
     "output_type": "stream",
     "text": [
      "------------------------------------------------------------\n"
     ]
    }
   ],
   "source": [
    "#print(X.sample(10))\n",
    "print(\"------------------------------------------------------------\")\n",
    "#print(y.sample(10))"
   ]
  },
  {
   "cell_type": "code",
   "execution_count": 5,
   "metadata": {
    "id": "qvTuIDiDIXZi"
   },
   "outputs": [],
   "source": [
    "# Split the training data into training and validation sets\n",
    "X_train, X_val, y_train, y_val = train_test_split(X, y, test_size=0.2, random_state=42)"
   ]
  },
  {
   "cell_type": "code",
   "execution_count": 6,
   "metadata": {
    "id": "xEHkBOH-IZwb"
   },
   "outputs": [
    {
     "name": "stdout",
     "output_type": "stream",
     "text": [
      "LinearSVC(random_state=0, tol=1e-05)\n",
      "---------------------classification_report-----------------------------------------\n"
     ]
    },
    {
     "name": "stderr",
     "output_type": "stream",
     "text": [
      "C:\\Users\\mnsbh\\AppData\\Roaming\\Python\\Python311\\site-packages\\sklearn\\metrics\\_classification.py:1344: UndefinedMetricWarning: Precision and F-score are ill-defined and being set to 0.0 in labels with no predicted samples. Use `zero_division` parameter to control this behavior.\n",
      "  _warn_prf(average, modifier, msg_start, len(result))\n",
      "C:\\Users\\mnsbh\\AppData\\Roaming\\Python\\Python311\\site-packages\\sklearn\\metrics\\_classification.py:1344: UndefinedMetricWarning: Precision and F-score are ill-defined and being set to 0.0 in labels with no predicted samples. Use `zero_division` parameter to control this behavior.\n",
      "  _warn_prf(average, modifier, msg_start, len(result))\n"
     ]
    },
    {
     "name": "stdout",
     "output_type": "stream",
     "text": [
      "              precision    recall  f1-score   support\n",
      "\n",
      "           0       1.00      0.99      1.00       837\n",
      "           1       0.03      0.02      0.02      3396\n",
      "           2       0.00      0.00      0.00      1534\n",
      "           3       0.57      0.83      0.67     10436\n",
      "           4       0.75      1.00      0.86     14669\n",
      "           5       0.46      0.29      0.36      4428\n",
      "           6       0.00      0.00      0.00        28\n",
      "           7       0.00      0.00      0.00        15\n",
      "           8       0.00      0.00      0.00         6\n",
      "           9       0.81      0.73      0.77      3358\n",
      "          10       0.47      0.93      0.63     15563\n",
      "          11       0.00      0.00      0.00        33\n",
      "          12       0.00      0.00      0.00        51\n",
      "          13       0.14      0.11      0.12      4861\n",
      "          14       0.00      0.00      0.00       278\n",
      "          15       0.00      0.00      0.00       237\n",
      "          16       0.38      0.33      0.35       945\n",
      "          17       0.75      0.22      0.34      2040\n",
      "          18       0.00      0.00      0.00       531\n",
      "          19       0.00      0.00      0.00        49\n",
      "          20       0.00      0.00      0.00       124\n",
      "          21       0.00      0.00      0.00       648\n",
      "          22       0.00      0.00      0.00      1064\n",
      "          23       0.50      0.81      0.62      3034\n",
      "          24       0.00      0.00      0.00      1070\n",
      "          25       0.05      0.02      0.03      6609\n",
      "          26       0.39      0.89      0.54      5880\n",
      "          27       0.37      0.54      0.44      4041\n",
      "          28       0.17      0.00      0.00      2331\n",
      "          29       0.00      0.00      0.00       851\n",
      "          30       0.00      0.00      0.00        16\n",
      "          31       0.00      0.00      0.00       372\n",
      "          32       0.26      0.11      0.16      4342\n",
      "          33       0.60      0.00      0.00      2656\n",
      "          34       0.73      1.00      0.84     10593\n",
      "          35       0.00      0.00      0.00       222\n",
      "          36       0.36      0.49      0.42      4755\n",
      "          37       0.39      0.66      0.49      6716\n",
      "          38       0.00      0.00      0.00       752\n",
      "          39       0.00      0.00      0.00        43\n",
      "          40       0.00      0.00      0.00        57\n",
      "          41       0.00      0.00      0.00      1946\n",
      "          42       0.23      0.03      0.05      3302\n",
      "          43       0.00      0.00      0.00      1763\n",
      "          44       0.51      0.19      0.27      2208\n",
      "          45       0.28      0.01      0.03      3712\n",
      "          46       0.00      0.00      0.00       214\n",
      "          47       0.00      0.00      0.00         7\n",
      "          48       0.45      0.08      0.13      3184\n",
      "          49       0.64      0.33      0.43      2371\n",
      "          50       0.04      0.00      0.01      2641\n",
      "          51       0.00      0.00      0.00      1902\n",
      "\n",
      "    accuracy                           0.51    142721\n",
      "   macro avg       0.22      0.20      0.18    142721\n",
      "weighted avg       0.42      0.51      0.42    142721\n",
      "\n"
     ]
    },
    {
     "name": "stderr",
     "output_type": "stream",
     "text": [
      "C:\\Users\\mnsbh\\AppData\\Roaming\\Python\\Python311\\site-packages\\sklearn\\metrics\\_classification.py:1344: UndefinedMetricWarning: Precision and F-score are ill-defined and being set to 0.0 in labels with no predicted samples. Use `zero_division` parameter to control this behavior.\n",
      "  _warn_prf(average, modifier, msg_start, len(result))\n"
     ]
    }
   ],
   "source": [
    "# Train model using LinearSVC\n",
    "classifier = LinearSVC(random_state=0, tol=1e-05)\n",
    "print(classifier)\n",
    "classifier.fit(X_train, y_train)\n",
    "\n",
    "# Evaluate the model\n",
    "y_pred_train = classifier.predict(X_train)\n",
    "y_pred_val = classifier.predict(X_val)\n",
    "\n",
    "print(\"---------------------classification_report-----------------------------------------\")\n",
    "print(classification_report(y_val, y_pred_val))\n",
    "# mse_train = mean_squared_error(y_train, y_pred_train)\n",
    "# mse_val = mean_squared_error(y_val, y_pred_val)\n",
    "# print(\"MSE on training set:\", mse_train)\n",
    "# print(\"MSE on validation set:\", mse_val)"
   ]
  },
  {
   "cell_type": "code",
   "execution_count": 7,
   "metadata": {
    "id": "uEyU1bkbKswh"
   },
   "outputs": [
    {
     "name": "stdout",
     "output_type": "stream",
     "text": [
      "---------------------Confusion Matrix------------------------------------------\n",
      "[[832   0   0 ...   0   0   0]\n",
      " [  0  54   0 ...   0   0   0]\n",
      " [  0 490   0 ...   0   0   0]\n",
      " ...\n",
      " [  0   0   0 ... 779   0   0]\n",
      " [  0   0   0 ...   0   8   0]\n",
      " [  0   0   0 ...   5   0   0]]\n",
      "---------------------Score------------------------------------------\n",
      "0.5116486011168644\n",
      "---------------------f1_score-----------------------------------------\n",
      "0.18402465460580644\n",
      "---------------------accuracy_score-----------------------------------------\n",
      "0.5116486011168644\n"
     ]
    }
   ],
   "source": [
    "\n",
    "from sklearn.metrics import confusion_matrix\n",
    "from sklearn.metrics import f1_score\n",
    "from sklearn.metrics import accuracy_score\n",
    "from sklearn.metrics import classification_report\n",
    "\n",
    "print(\"---------------------Confusion Matrix------------------------------------------\")\n",
    "cm = confusion_matrix(y_val, y_pred_val)\n",
    "print(cm)\n",
    "\n",
    "print(\"---------------------Score------------------------------------------\")\n",
    "# mean accuracy on the given test data and labels.\n",
    "print(classifier.score(X_val,y_val))\n",
    "\n",
    "print(\"---------------------f1_score-----------------------------------------\")\n",
    "print(f1_score(y_val,y_pred_val,average='macro')) \n",
    "\n",
    "print(\"---------------------accuracy_score-----------------------------------------\")\n",
    "print(accuracy_score(y_val,y_pred_val))"
   ]
  },
  {
   "cell_type": "code",
   "execution_count": 8,
   "metadata": {},
   "outputs": [
    {
     "data": {
      "image/png": "[encoded data removed]",
      "text/plain": [
       "<Figure size 640x480 with 2 Axes>"
      ]
     },
     "metadata": {},
     "output_type": "display_data"
    }
   ],
   "source": [
    "# plot the confusion matrix\n",
    "import matplotlib.pyplot as plt\n",
    "from sklearn.metrics import ConfusionMatrixDisplay\n",
    "ConfusionMatrixDisplay.from_predictions(y_val[:40], y_pred_val[:40])\n",
    "plt.show()"
   ]
  },
  {
   "cell_type": "code",
   "execution_count": 9,
   "metadata": {},
   "outputs": [
    {
     "name": "stdout",
     "output_type": "stream",
     "text": [
      "['NY' 'OR' 'ID' 'UT' 'GA' 'SC' 'ND' 'CA' 'RI' 'WI' 'CO' 'NM' 'KY' 'AZ'\n",
      " 'WV' 'TN' 'WY' 'MT' 'NC' 'MN' 'MS' 'MI' 'NV' 'AL' 'OK' 'SD' 'KS' 'PA'\n",
      " 'ME' 'WA' 'FL' 'MO' 'AR' 'IN' 'OH' 'TX' 'AK' 'NE' 'LA' 'NJ' 'IA' 'IL'\n",
      " 'VA' 'MA' 'MD' 'DC' 'HI' 'NH' 'CT' 'PR' 'VT' 'DE']\n"
     ]
    }
   ],
   "source": [
    "print(train_df.STATE.unique())"
   ]
  },
  {
   "cell_type": "code",
   "execution_count": 10,
   "metadata": {},
   "outputs": [
    {
     "name": "stdout",
     "output_type": "stream",
     "text": [
      "[17  1 50 ...  4 50 48]\n"
     ]
    }
   ],
   "source": [
    "print(y_val)"
   ]
  },
  {
   "cell_type": "code",
   "execution_count": 11,
   "metadata": {},
   "outputs": [
    {
     "name": "stdout",
     "output_type": "stream",
     "text": [
      "[10 25 10 ...  4 10 26]\n"
     ]
    }
   ],
   "source": [
    "print(y_pred_val)"
   ]
  },
  {
   "cell_type": "code",
   "execution_count": 12,
   "metadata": {},
   "outputs": [
    {
     "name": "stdout",
     "output_type": "stream",
     "text": [
      "(142721,)\n"
     ]
    }
   ],
   "source": [
    "print(y_pred_val.shape)"
   ]
  },
  {
   "cell_type": "code",
   "execution_count": 13,
   "metadata": {},
   "outputs": [
    {
     "name": "stdout",
     "output_type": "stream",
     "text": [
      "[0, 1, 2, 3, 4, 5, 6, 7, 8, 9, 10, 11, 12, 13, 14, 15, 16, 17, 18, 19, 20, 21, 22, 23, 24, 25, 26, 27, 28, 29, 30, 31, 32, 33, 34, 35, 36, 37, 38, 39, 40, 41, 42, 43, 44, 45, 46, 47, 48, 49, 50, 51]\n"
     ]
    }
   ],
   "source": [
    "unique_class_labels = pdy[0].unique()\n",
    "print(sorted(unique_class_labels))"
   ]
  },
  {
   "cell_type": "code",
   "execution_count": 14,
   "metadata": {},
   "outputs": [
    {
     "data": {
      "image/png": "[encoded data removed]",
      "text/plain": [
       "<Figure size 640x480 with 1 Axes>"
      ]
     },
     "metadata": {},
     "output_type": "display_data"
    }
   ],
   "source": [
    "index = range(0,100)\n",
    "plt.plot(y_pred_val[:10000], y_val[:10000], label = \"True predictions\")\n",
    "#plt.plot(index, y_pred_val, label = \"line 2\")\n",
    "plt.legend()\n",
    "plt.show()"
   ]
  },
  {
   "cell_type": "code",
   "execution_count": 15,
   "metadata": {},
   "outputs": [
    {
     "ename": "NameError",
     "evalue": "name 'np' is not defined",
     "output_type": "error",
     "traceback": [
      "\u001b[1;31m---------------------------------------------------------------------------\u001b[0m",
      "\u001b[1;31mNameError\u001b[0m                                 Traceback (most recent call last)",
      "Cell \u001b[1;32mIn[15], line 2\u001b[0m\n\u001b[0;32m      1\u001b[0m \u001b[38;5;66;03m#df_interest[\"FIRE_YEAR\"]\u001b[39;00m\n\u001b[1;32m----> 2\u001b[0m \u001b[38;5;28mprint\u001b[39m(\u001b[38;5;28mlist\u001b[39m(\u001b[43mnp\u001b[49m\u001b[38;5;241m.\u001b[39mwhere(df_interest[\u001b[38;5;124m\"\u001b[39m\u001b[38;5;124mFIRE_YEAR\u001b[39m\u001b[38;5;124m\"\u001b[39m] \u001b[38;5;241m==\u001b[39m \u001b[38;5;241m2012\u001b[39m)))\n",
      "\u001b[1;31mNameError\u001b[0m: name 'np' is not defined"
     ]
    }
   ],
   "source": [
    "#df_interest[\"FIRE_YEAR\"]\n",
    "print(list(np.where(df_interest[\"FIRE_YEAR\"] == 2012)))"
   ]
  },
  {
   "cell_type": "code",
   "execution_count": null,
   "metadata": {},
   "outputs": [],
   "source": [
    "row_indices = list(np.where(df_interest[\"FIRE_YEAR\"] == 2012))\n",
    "print(type(row_indices))"
   ]
  },
  {
   "cell_type": "code",
   "execution_count": null,
   "metadata": {},
   "outputs": [],
   "source": []
  }
 ],
 "metadata": {
  "colab": {
   "provenance": []
  },
  "kernelspec": {
   "display_name": "Python 3 (ipykernel)",
   "language": "python",
   "name": "python3"
  },
  "language_info": {
   "codemirror_mode": {
    "name": "ipython",
    "version": 3
   },
   "file_extension": ".py",
   "mimetype": "text/x-python",
   "name": "python",
   "nbconvert_exporter": "python",
   "pygments_lexer": "ipython3",
   "version": "3.11.2"
  }
 },
 "nbformat": 4,
 "nbformat_minor": 1
}
