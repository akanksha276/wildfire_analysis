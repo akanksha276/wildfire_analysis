{
 "cells": [
  {
   "cell_type": "code",
   "execution_count": null,
   "id": "a4de74e3",
   "metadata": {},
   "outputs": [],
   "source": [
    "import pandas as pd\n",
    "import xgboost as xgb\n",
    "from sklearn.preprocessing import MinMaxScaler, LabelEncoder\n",
    "from sklearn.model_selection import train_test_split, GridSearchCV\n",
    "from sklearn.ensemble import BaggingClassifier, RandomForestClassifier, ExtraTreesClassifier\n",
    "from sklearn.metrics import mean_squared_error,classification_report\n",
    "from imblearn.over_sampling import SMOTE\n",
    "from sklearn.model_selection import cross_val_score\n",
    "from skopt import BayesSearchCV\n",
    "from skopt.space import Real, Categorical, Integer\n",
    "# from sklearn.datasets import make_classification"
   ]
  },
  {
   "cell_type": "code",
   "execution_count": null,
   "id": "740bcc75",
   "metadata": {},
   "outputs": [],
   "source": [
    "train_df = pd.read_csv('data/train.csv')"
   ]
  },
  {
   "cell_type": "code",
   "execution_count": null,
   "id": "28a2779d",
   "metadata": {},
   "outputs": [],
   "source": [
    "train_df.info()"
   ]
  },
  {
   "cell_type": "code",
   "execution_count": null,
   "id": "d7167357",
   "metadata": {
    "scrolled": true
   },
   "outputs": [],
   "source": [
    "train_df.sample(10)"
   ]
  },
  {
   "cell_type": "markdown",
   "id": "056c2f84",
   "metadata": {},
   "source": [
    "### Scaling Fire size and Fire year"
   ]
  },
  {
   "cell_type": "code",
   "execution_count": null,
   "id": "2f833ad4",
   "metadata": {},
   "outputs": [],
   "source": [
    "scaler = MinMaxScaler()\n",
    "train_df['FIRE_SIZE_SCALED'] = scaler.fit_transform(train_df[['FIRE_SIZE']])\n",
    "train_df['FIRE_YEAR_SCALED'] = scaler.fit_transform(train_df[['FIRE_YEAR']])"
   ]
  },
  {
   "cell_type": "markdown",
   "id": "cd901d5c",
   "metadata": {},
   "source": [
    "### Selecting Important Columns"
   ]
  },
  {
   "cell_type": "code",
   "execution_count": null,
   "id": "bdcbf287",
   "metadata": {},
   "outputs": [],
   "source": [
    "train_df[\"STATE\"] = LabelEncoder().fit_transform(train_df[\"STATE\"])"
   ]
  },
  {
   "cell_type": "code",
   "execution_count": null,
   "id": "aa3096ea",
   "metadata": {},
   "outputs": [],
   "source": [
    "good_cols = [\"FIRE_YEAR_SCALED\",\"DISCOVERY_DOY\",\"CONT_DOY\",\"CONT_TIME\",\n",
    "             \"FIRE_SIZE_SCALED\",\"LATITUDE\",\"LONGITUDE\",\"STATE\",\"FIRE_SIZE_CLASS_ENCODED\"]\n",
    "\n",
    "prefix1 = 'STAT_CAUSE_DESCR_'\n",
    "\n",
    "# select the columns you want to keep\n",
    "keep_cols1 = train_df.filter(like=prefix1).columns.tolist()\n",
    "# keep_cols2 = train_df.filter(like=prefix2).columns.tolist()\n",
    "keep_cols = good_cols + keep_cols1"
   ]
  },
  {
   "cell_type": "code",
   "execution_count": null,
   "id": "ca07640d",
   "metadata": {},
   "outputs": [],
   "source": [
    "df_interest = train_df[keep_cols]"
   ]
  },
  {
   "cell_type": "code",
   "execution_count": null,
   "id": "e2031d3d",
   "metadata": {},
   "outputs": [],
   "source": [
    "df_interest.head()"
   ]
  },
  {
   "cell_type": "code",
   "execution_count": null,
   "id": "0034c602",
   "metadata": {},
   "outputs": [],
   "source": [
    "X = df_interest.drop(['STATE'], axis=1)\n",
    "y = df_interest['STATE']"
   ]
  },
  {
   "cell_type": "code",
   "execution_count": null,
   "id": "59a2d06d",
   "metadata": {},
   "outputs": [],
   "source": [
    "X.shape"
   ]
  },
  {
   "cell_type": "code",
   "execution_count": null,
   "id": "e6f5c5a2",
   "metadata": {},
   "outputs": [],
   "source": [
    "y.shape"
   ]
  },
  {
   "cell_type": "code",
   "execution_count": null,
   "id": "72afef06",
   "metadata": {},
   "outputs": [],
   "source": [
    "smote = SMOTE(random_state=42,k_neighbors=2)\n",
    "X_resampled, y_resampled = smote.fit_resample(X, y)"
   ]
  },
  {
   "cell_type": "code",
   "execution_count": null,
   "id": "9e9f4829",
   "metadata": {},
   "outputs": [],
   "source": [
    "X_resampled.shape"
   ]
  },
  {
   "cell_type": "code",
   "execution_count": null,
   "id": "0a80b4e7",
   "metadata": {},
   "outputs": [],
   "source": [
    "y_resampled.shape"
   ]
  },
  {
   "cell_type": "code",
   "execution_count": null,
   "id": "d34790d7",
   "metadata": {},
   "outputs": [],
   "source": [
    "# Split the training data into training and validation sets\n",
    "X_train, X_val, y_train, y_val = train_test_split(X_resampled, y_resampled , test_size=0.2, random_state=42)"
   ]
  },
  {
   "cell_type": "code",
   "execution_count": null,
   "id": "bab8e345",
   "metadata": {},
   "outputs": [],
   "source": [
    "# define the hyperparameter search space\n",
    "search_space = {\n",
    "    'learning_rate': Real(0.01, 1.0, prior='log-uniform'),\n",
    "    'max_depth': Integer(1, 10),\n",
    "    'n_estimators': Integer(50, 1000),\n",
    "    'subsample': Real(0.1, 1.0, prior='uniform'),\n",
    "    'gamma': Real(0, 1.0, prior='uniform'),\n",
    "    'colsample_bytree': Real(0.1, 1.0, prior='uniform'),\n",
    "    'reg_alpha': Real(1e-9, 1000, prior='log-uniform'),\n",
    "    'reg_lambda': Real(1e-9, 1000, prior='log-uniform')\n",
    "}\n",
    "\n",
    "# define the XGBoost classifier\n",
    "xgb_model = xgb.XGBClassifier()\n",
    "\n",
    "# define the BayesSearchCV object\n",
    "bayes_search = BayesSearchCV(\n",
    "    xgb_model,\n",
    "    search_space,\n",
    "    n_iter=50,\n",
    "    cv=5,\n",
    "    n_jobs=-1\n",
    ")\n",
    "\n",
    "# fit the BayesSearchCV object\n",
    "bayes_search.fit(X_train, y_train)\n",
    "\n",
    "# print the best hyperparameters and the corresponding mean cross-validation score\n",
    "print(\"Best hyperparameters: \", bayes_search.best_params_)\n",
    "print(\"Best mean cross-validation score: \", bayes_search.best_score_)"
   ]
  },
  {
   "cell_type": "code",
   "execution_count": null,
   "id": "dbf2604e",
   "metadata": {},
   "outputs": [],
   "source": [
    "clf = xgb.XGBClassifier(bayes_search.best_params_)\n",
    "clf.fit(X_train,y_train)"
   ]
  },
  {
   "cell_type": "code",
   "execution_count": null,
   "id": "c6a71d03",
   "metadata": {},
   "outputs": [],
   "source": [
    "y_pred = clf.predict(X_val)\n",
    "print(classification_report(y_val, y_pred))"
   ]
  },
  {
   "cell_type": "markdown",
   "id": "224dccec",
   "metadata": {},
   "source": [
    "## Testing on test data"
   ]
  },
  {
   "cell_type": "code",
   "execution_count": null,
   "id": "a7332282",
   "metadata": {},
   "outputs": [],
   "source": [
    "test_df = pd.read_csv('data/test.csv')\n",
    "x_test = test_df.drop(['STATE'], axis=1)\n",
    "\n",
    "y_test = test_df['STATE']"
   ]
  },
  {
   "cell_type": "code",
   "execution_count": null,
   "id": "32a5dfcb",
   "metadata": {},
   "outputs": [],
   "source": [
    "predict = clf.predict(x_test)\n",
    "print(classification_report(y_test, predict))"
   ]
  }
 ],
 "metadata": {
  "kernelspec": {
   "display_name": "Python 3 (ipykernel)",
   "language": "python",
   "name": "python3"
  },
  "language_info": {
   "codemirror_mode": {
    "name": "ipython",
    "version": 3
   },
   "file_extension": ".py",
   "mimetype": "text/x-python",
   "name": "python",
   "nbconvert_exporter": "python",
   "pygments_lexer": "ipython3",
   "version": "3.9.6"
  }
 },
 "nbformat": 4,
 "nbformat_minor": 5
}
